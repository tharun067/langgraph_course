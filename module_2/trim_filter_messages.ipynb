{
  "nbformat": 4,
  "nbformat_minor": 0,
  "metadata": {
    "colab": {
      "provenance": []
    },
    "kernelspec": {
      "name": "python3",
      "display_name": "Python 3"
    },
    "language_info": {
      "name": "python"
    }
  },
  "cells": [
    {
      "cell_type": "markdown",
      "source": [
        "# Filtering and trimming messages\n",
        "\n",
        "## Review\n",
        "\n",
        "Now, we have a deeper understanding of a few things:\n",
        "\n",
        "* How to customize the graph state schema\n",
        "* How to define custom state reducers\n",
        "* How to use multiple graph state schemas\n",
        "\n",
        "## Goals\n",
        "\n",
        "Now, we can start using these concepts with models in LangGraph!\n",
        "\n",
        "In the next few sessions, we'll build towards a chatbot that has long-term memory.\n",
        "\n",
        "Because our chatbot will use messages, let's first talk a bit more about advanced ways to work with messages in graph state."
      ],
      "metadata": {
        "id": "vFJAOUff92Ek"
      }
    },
    {
      "cell_type": "code",
      "execution_count": 1,
      "metadata": {
        "id": "opX7VYCJ7dSm"
      },
      "outputs": [],
      "source": [
        "%%capture --no-stderr\n",
        "%pip install --quiet -U langchain_core langgraph"
      ]
    },
    {
      "cell_type": "code",
      "source": [
        "%pip install -qU \"langchain[google-genai]\""
      ],
      "metadata": {
        "colab": {
          "base_uri": "https://localhost:8080/"
        },
        "id": "zqAjWAxw-C-a",
        "outputId": "c8af223a-5c47-47fa-9975-bf6ef9e91820"
      },
      "execution_count": 2,
      "outputs": [
        {
          "output_type": "stream",
          "name": "stdout",
          "text": [
            "\u001b[?25l   \u001b[90m━━━━━━━━━━━━━━━━━━━━━━━━━━━━━━━━━━━━━━━━\u001b[0m \u001b[32m0.0/49.4 kB\u001b[0m \u001b[31m?\u001b[0m eta \u001b[36m-:--:--\u001b[0m\r\u001b[2K   \u001b[90m━━━━━━━━━━━━━━━━━━━━━━━━━━━━━━━━━━━━━━━━\u001b[0m \u001b[32m49.4/49.4 kB\u001b[0m \u001b[31m3.3 MB/s\u001b[0m eta \u001b[36m0:00:00\u001b[0m\n",
            "\u001b[?25h\u001b[?25l   \u001b[90m━━━━━━━━━━━━━━━━━━━━━━━━━━━━━━━━━━━━━━━━\u001b[0m \u001b[32m0.0/1.4 MB\u001b[0m \u001b[31m?\u001b[0m eta \u001b[36m-:--:--\u001b[0m\r\u001b[2K   \u001b[90m━━━━━━━━━━━━━━━━━━━━━━━━━━━━━━━━━━━━━━━━\u001b[0m \u001b[32m1.4/1.4 MB\u001b[0m \u001b[31m44.3 MB/s\u001b[0m eta \u001b[36m0:00:00\u001b[0m\n",
            "\u001b[?25h\u001b[31mERROR: pip's dependency resolver does not currently take into account all the packages that are installed. This behaviour is the source of the following dependency conflicts.\n",
            "google-generativeai 0.8.5 requires google-ai-generativelanguage==0.6.15, but you have google-ai-generativelanguage 0.6.18 which is incompatible.\u001b[0m\u001b[31m\n",
            "\u001b[0m"
          ]
        }
      ]
    },
    {
      "cell_type": "code",
      "source": [
        "import os, getpass\n",
        "\n",
        "def _set_env(var: str):\n",
        "    if not os.environ.get(var):\n",
        "        os.environ[var] = getpass.getpass(f\"{var}: \")\n",
        "\n",
        "_set_env(\"GOOGLE_API_KEY\")"
      ],
      "metadata": {
        "colab": {
          "base_uri": "https://localhost:8080/"
        },
        "id": "KSoD9cNK-TVH",
        "outputId": "2bba0d3a-189e-4d9d-fab6-c48fbdfacac1"
      },
      "execution_count": 3,
      "outputs": [
        {
          "name": "stdout",
          "output_type": "stream",
          "text": [
            "GOOGLE_API_KEY: ··········\n"
          ]
        }
      ]
    },
    {
      "cell_type": "markdown",
      "source": [
        "## Messages as state\n",
        "\n",
        "First, let's define some messages."
      ],
      "metadata": {
        "id": "_XrrZTmn-dV1"
      }
    },
    {
      "cell_type": "code",
      "source": [
        "from pprint import pprint\n",
        "from langchain_core.messages import AIMessage, HumanMessage\n",
        "messages = [AIMessage(f\"So you said you were researching ocean mammals?\", name=\"Bot\")]\n",
        "messages.append(HumanMessage(f\"Yes, I know about whales. But what others should I learn about?\", name=\"Tharun\"))\n",
        "\n",
        "for m in messages:\n",
        "  m.pretty_print()"
      ],
      "metadata": {
        "colab": {
          "base_uri": "https://localhost:8080/"
        },
        "id": "J6pUGVuG-a7N",
        "outputId": "3491c912-c0e7-4929-939c-10ad23b6c7ea"
      },
      "execution_count": 5,
      "outputs": [
        {
          "output_type": "stream",
          "name": "stdout",
          "text": [
            "==================================\u001b[1m Ai Message \u001b[0m==================================\n",
            "Name: Bot\n",
            "\n",
            "So you said you were researching ocean mammals?\n",
            "================================\u001b[1m Human Message \u001b[0m=================================\n",
            "Name: Tharun\n",
            "\n",
            "Yes, I know about whales. But what others should I learn about?\n"
          ]
        }
      ]
    },
    {
      "cell_type": "markdown",
      "source": [
        "Recall we can pass them to a chat model"
      ],
      "metadata": {
        "id": "bwVwAgpM-3zV"
      }
    },
    {
      "cell_type": "code",
      "source": [
        "from langchain_google_genai import ChatGoogleGenerativeAI\n",
        "llm = ChatGoogleGenerativeAI(model=\"gemini-2.5-flash\")\n",
        "llm.invoke(messages)"
      ],
      "metadata": {
        "colab": {
          "base_uri": "https://localhost:8080/"
        },
        "id": "CGV2KGd2-xLN",
        "outputId": "9789e8a3-3bf7-48cf-963d-8443fae0e9d2"
      },
      "execution_count": 6,
      "outputs": [
        {
          "output_type": "execute_result",
          "data": {
            "text/plain": [
              "AIMessage(content='That\\'s a great question! While whales (and dolphins and porpoises, which are all part of the **Cetacean** order) are iconic, there\\'s a whole world of other fascinating ocean mammals out there.\\n\\nHere are the main groups you should definitely learn about:\\n\\n1.  **Pinnipeds (Seals, Sea Lions, and Walruses)**\\n    *   **What they are:** These are \"fin-footed\" mammals that are semi-aquatic, meaning they spend a lot of time in the water hunting, but come ashore on land or ice to breed, rest, and molt.\\n    *   **Key Differences:**\\n        *   **True Seals (Phocidae):** Have no external ear flaps, short front flippers, and can\\'t rotate their hind flippers forward, so they \"scoot\" or wiggle on their bellies on land. Examples: Harbor seals, harp seals, elephant seals, monk seals.\\n        *   **Eared Seals (Otariidae):** Have small, visible ear flaps, longer front flippers, and can rotate their hind flippers forward to walk on all fours. Examples: Sea lions (like the California sea lion you often see balancing balls), fur seals.\\n        *   **Walrus (Odobenidae):** A unique group with long, prominent tusks (both males and females have them) used for pulling themselves onto ice and digging for food. They are found only in the Arctic.\\n    *   **Cool Fact:** Elephant seals are incredible divers, holding their breath for over an hour and diving to depths of over 5,000 feet!\\n\\n2.  **Sirenians (Manatees and Dugongs)**\\n    *   **What they are:** Often called \"sea cows,\" these are gentle, slow-moving, fully aquatic herbivores. They are the only marine mammals that are primarily vegetarian.\\n    *   **Key Differences:**\\n        *   **Manatees:** Have a paddle-shaped tail. Three species: West Indian, Amazonian, and African. Found in warm, shallow coastal waters and rivers.\\n        *   **Dugongs:** Have a fluked tail, similar to a whale\\'s. Found in the Indo-Pacific region.\\n    *   **Cool Fact:** Sirenians are believed to be related to elephants! They have very dense bones that help them stay submerged.\\n\\n3.  **Sea Otters**\\n    *   **What they are:** The smallest marine mammals and one of the cutest! They are highly specialized predators, primarily eating shellfish and sea urchins. They live almost entirely in the water, rarely coming ashore.\\n    *   **Where they live:** Found along the North Pacific coast.\\n    *   **Cool Fact:** Sea otters have the densest fur of any mammal (up to a million hairs per square inch!) to keep warm, as they don\\'t have blubber like whales or seals. They\\'re also one of the few animals that use tools, often using rocks to crack open shells. They are a \"keystone species\" because their diet of sea urchins helps protect kelp forests.\\n\\n4.  **Polar Bears**\\n    *   **What they are:** While technically bears, polar bears are considered marine mammals because they are so highly adapted to life in the Arctic, relying almost entirely on the ocean and sea ice for survival. They hunt seals, their primary food source, from the ice.\\n    *   **Where they live:** Arctic regions.\\n    *   **Cool Fact:** Polar bears are excellent swimmers and can hold their breath for several minutes underwater. Their scientific name, *Ursus maritimus*, literally means \"sea bear.\"\\n\\nSo, beyond whales, you\\'ve got the **Pinnipeds** (seals, sea lions, walruses), **Sirenians** (manatees, dugongs), **Sea Otters**, and **Polar Bears**. Each group has incredible adaptations and unique behaviors that make them fascinating to study!', additional_kwargs={}, response_metadata={'prompt_feedback': {'block_reason': 0, 'safety_ratings': []}, 'finish_reason': 'STOP', 'model_name': 'gemini-2.5-flash', 'safety_ratings': []}, id='run--913c27bf-1ef4-431f-a942-6e5160b86beb-0', usage_metadata={'input_tokens': 26, 'output_tokens': 1837, 'total_tokens': 1863, 'input_token_details': {'cache_read': 0}, 'output_token_details': {'reasoning': 991}})"
            ]
          },
          "metadata": {},
          "execution_count": 6
        }
      ]
    },
    {
      "cell_type": "markdown",
      "source": [
        "We can run our chat model in a simple graph with ```MessagesState```\n"
      ],
      "metadata": {
        "id": "WDNdyBYF_O-Z"
      }
    },
    {
      "cell_type": "code",
      "source": [
        "from IPython.display import Image, display\n",
        "from langgraph.graph import MessagesState\n",
        "from langgraph.graph import StateGraph, START, END\n",
        "\n",
        "# Node\n",
        "def chat_model_node(state: MessagesState):\n",
        "  return {\"messages\":llm.invoke(state[\"messages\"])}\n",
        "\n",
        "# Build graph\n",
        "builder = StateGraph(MessagesState)\n",
        "builder.add_node(\"chat_model\",chat_model_node)\n",
        "builder.add_edge(START,\"chat_model\")\n",
        "builder.add_edge(\"chat_model\",END)\n",
        "graph = builder.compile()\n",
        "\n",
        "# View\n",
        "display(Image(graph.get_graph().draw_mermaid_png()))"
      ],
      "metadata": {
        "colab": {
          "base_uri": "https://localhost:8080/",
          "height": 251
        },
        "id": "j-Lfem_G_INU",
        "outputId": "2490346d-9314-44fa-aa5c-534f5bdb8ffb"
      },
      "execution_count": 7,
      "outputs": [
        {
          "output_type": "display_data",
          "data": {
            "image/png": "[encoded data removed]",
            "text/plain": [
              "<IPython.core.display.Image object>"
            ]
          },
          "metadata": {}
        }
      ]
    },
    {
      "cell_type": "code",
      "source": [
        "output = graph.invoke({\"messages\":messages})\n",
        "for m in output[\"messages\"]:\n",
        "  m.pretty_print()"
      ],
      "metadata": {
        "colab": {
          "base_uri": "https://localhost:8080/"
        },
        "id": "OXf2N02aALE9",
        "outputId": "25795f55-b1c7-4515-8a23-2af479bd9ff0"
      },
      "execution_count": 8,
      "outputs": [
        {
          "output_type": "stream",
          "name": "stdout",
          "text": [
            "==================================\u001b[1m Ai Message \u001b[0m==================================\n",
            "Name: Bot\n",
            "\n",
            "So you said you were researching ocean mammals?\n",
            "================================\u001b[1m Human Message \u001b[0m=================================\n",
            "Name: Tharun\n",
            "\n",
            "Yes, I know about whales. But what others should I learn about?\n",
            "==================================\u001b[1m Ai Message \u001b[0m==================================\n",
            "\n",
            "That's a great area of study! While whales (cetaceans) are certainly fascinating, there's a whole world of other incredible ocean mammals to explore. Here are some of the main groups you should definitely learn about:\n",
            "\n",
            "1.  **Pinnipeds (Seals, Sea Lions, and Walruses):**\n",
            "    *   **Characteristics:** These \"fin-footed\" mammals spend significant time in the water, but also come ashore to rest, breed, and molt. They have streamlined bodies, thick blubber for insulation, and flippers for swimming.\n",
            "    *   **Seals (True Seals/Phocids):** They don't have external ear flaps and can't rotate their hind flippers forward, so they \"wiggle\" on their bellies on land.\n",
            "        *   **Examples:** Harbor Seals, Harp Seals, Elephant Seals, Monk Seals.\n",
            "    *   **Sea Lions (Eared Seals/Otariids):** They *do* have external ear flaps and can rotate their hind flippers forward, allowing them to \"walk\" or gallop on land.\n",
            "        *   **Examples:** California Sea Lions, Steller Sea Lions, Fur Seals.\n",
            "    *   **Walruses:** Unique for their prominent tusks and dense whiskers (vibrissae). They live exclusively in the Arctic.\n",
            "\n",
            "2.  **Sirenians (Manatees and Dugongs):**\n",
            "    *   **Characteristics:** Often called \"sea cows,\" these are gentle, slow-moving, herbivorous mammals that live in warm coastal waters and rivers. They have paddle-like forelimbs and a broad, flat tail.\n",
            "    *   **Manatees:** Have a rounded, paddle-shaped tail.\n",
            "        *   **Examples:** West Indian Manatee, Amazonian Manatee, African Manatee.\n",
            "    *   **Dugongs:** Have a fluked (whale-like) tail. They are exclusively marine.\n",
            "\n",
            "3.  **Sea Otters:**\n",
            "    *   **Characteristics:** The smallest marine mammals, known for their incredibly dense fur (the densest of any animal) which insulates them in cold waters. They are highly agile in the water and often use tools (like rocks) to crack open shellfish. They typically float on their backs.\n",
            "    *   **Examples:** Northern Sea Otter, Southern Sea Otter (California Sea Otter).\n",
            "\n",
            "4.  **Polar Bears:**\n",
            "    *   **Characteristics:** While they spend time on land and ice, polar bears are considered marine mammals because their lives are intrinsically tied to the ocean. They rely on sea ice to hunt their primary prey (seals), and they are excellent swimmers, often traveling long distances in the water.\n",
            "\n",
            "These groups represent a fantastic diversity of adaptations to ocean life! Do any of these sound particularly interesting for you to dive into first?\n"
          ]
        }
      ]
    },
    {
      "cell_type": "markdown",
      "source": [
        "## Reducer\n",
        "\n",
        "A practical challenge when working with messages is managing long-running conversations.\n",
        "\n",
        "Long-running conversations result in high token usage and latency if we are not careful, because we pass a growing list of messages to the model.\n",
        "\n",
        "We have a few ways to address this.\n",
        "\n",
        "First, recall the trick we saw using `RemoveMessage` and the `add_messages` reducer."
      ],
      "metadata": {
        "id": "hTrYMdxaAeMA"
      }
    },
    {
      "cell_type": "code",
      "source": [
        "from langchain_core.messages import RemoveMessage\n",
        "\n",
        "# Nodes\n",
        "def filter_messages(state: MessagesState):\n",
        "  # Delete all the th 2 most recent messages\n",
        "  delete_messages = [RemoveMessage(id = m.id) for m in state[\"messages\"][:-2]]\n",
        "  return {\"messages\":delete_messages}\n",
        "\n",
        "def chat_model_node(state: MessagesState):\n",
        "  return {\"messages\":llm.invoke(state[\"messages\"])}\n",
        "\n",
        "# Build graph\n",
        "builder = StateGraph(MessagesState)\n",
        "builder.add_node(\"filter\",filter_messages)\n",
        "builder.add_node(\"chat_model\",chat_model_node)\n",
        "builder.add_edge(START,\"filter\")\n",
        "builder.add_edge(\"filter\",\"chat_model\")\n",
        "builder.add_edge(\"chat_model\",END)\n",
        "graph = builder.compile()\n",
        "\n",
        "# View\n",
        "display(Image(graph.get_graph().draw_mermaid_png()))\n"
      ],
      "metadata": {
        "colab": {
          "base_uri": "https://localhost:8080/",
          "height": 350
        },
        "id": "S4vBILCeAYAO",
        "outputId": "d7a6953c-e64d-4237-e6aa-26467ec9d8c7"
      },
      "execution_count": 10,
      "outputs": [
        {
          "output_type": "display_data",
          "data": {
            "image/png": "[encoded data removed]",
            "text/plain": [
              "<IPython.core.display.Image object>"
            ]
          },
          "metadata": {}
        }
      ]
    },
    {
      "cell_type": "code",
      "source": [
        "# Message list with a preamble\n",
        "messages = [AIMessage(\"Hi.\", name=\"Bot\", id=\"1\")]\n",
        "messages.append(HumanMessage(\"Hi.\", name=\"Lance\", id=\"2\"))\n",
        "messages.append(AIMessage(\"So you said you were researching ocean mammals?\", name=\"Bot\", id=\"3\"))\n",
        "messages.append(HumanMessage(\"Yes, I know about whales. But what others should I learn about?\", name=\"Lance\", id=\"4\"))\n",
        "\n",
        "# Invoke\n",
        "output = graph.invoke({'messages': messages})\n",
        "for m in output['messages']:\n",
        "    m.pretty_print()"
      ],
      "metadata": {
        "colab": {
          "base_uri": "https://localhost:8080/"
        },
        "id": "MsZlD8i8At0V",
        "outputId": "ae32d6ff-7c8a-4a62-eb10-2701269c794a"
      },
      "execution_count": 11,
      "outputs": [
        {
          "output_type": "stream",
          "name": "stdout",
          "text": [
            "==================================\u001b[1m Ai Message \u001b[0m==================================\n",
            "Name: Bot\n",
            "\n",
            "So you said you were researching ocean mammals?\n",
            "================================\u001b[1m Human Message \u001b[0m=================================\n",
            "Name: Lance\n",
            "\n",
            "Yes, I know about whales. But what others should I learn about?\n",
            "==================================\u001b[1m Ai Message \u001b[0m==================================\n",
            "\n",
            "That's a great question! While whales (and their relatives like dolphins and porpoises, which are all *cetaceans*) are certainly the most well-known, there's a whole world of other fascinating ocean mammals.\n",
            "\n",
            "Here are the main groups you should definitely learn about:\n",
            "\n",
            "1.  **Pinnipeds (Seals, Sea Lions, and Walruses)**\n",
            "    *   **General:** These are \"fin-footed\" mammals, meaning their limbs have evolved into flippers. They spend most of their lives in the water, but come ashore to rest, breed, and give birth.\n",
            "    *   **True Seals (Phocidae):**\n",
            "        *   **Characteristics:** No visible external ear flaps. They move on land by wriggling their bodies, as they can't rotate their hind flippers forward.\n",
            "        *   **Examples:** Harp Seal, Grey Seal, Leopard Seal, Elephant Seal, Ringed Seal, Monk Seal.\n",
            "    *   **Eared Seals (Otariidae):**\n",
            "        *   **Characteristics:** Have small, visible ear flaps. They can rotate their hind flippers forward, allowing them to \"walk\" on all fours on land.\n",
            "        *   **Examples:** California Sea Lion, Steller Sea Lion, Fur Seals (e.g., Northern Fur Seal).\n",
            "    *   **Walrus (Odobenidae):**\n",
            "        *   **Characteristics:** A unique pinniped, easily recognized by its long tusks (present in both males and females). They're very large and live in Arctic waters.\n",
            "        *   **Example:** Only one species: *Odobenus rosmarus*.\n",
            "\n",
            "2.  **Sirenians (Manatees and Dugongs)**\n",
            "    *   **General:** Often called \"sea cows,\" these are gentle, slow-moving, herbivorous (plant-eating) mammals that live in warm, shallow coastal waters, rivers, and estuaries.\n",
            "    *   **Manatees:**\n",
            "        *   **Characteristics:** Have a large, paddle-shaped tail.\n",
            "        *   **Examples:** West Indian Manatee, Amazonian Manatee, African Manatee.\n",
            "    *   **Dugongs:**\n",
            "        *   **Characteristics:** Have a fluked tail, similar to a whale's, rather than a paddle. They are exclusively marine.\n",
            "        *   **Example:** Only one species: *Dugong dugon*.\n",
            "\n",
            "3.  **Sea Otters (Mustelidae)**\n",
            "    *   **General:** The smallest marine mammal, known for its incredibly dense fur (the densest of any animal) which provides insulation as they lack blubber. They are very playful and often use tools (like rocks to crack open shellfish).\n",
            "    *   **Examples:** Sea Otter (*Enhydra lutris*) – found in the North Pacific.\n",
            "\n",
            "4.  **Polar Bear (Ursidae)**\n",
            "    *   **General:** While a bear, the polar bear is classified as a marine mammal because its life and survival are intrinsically linked to the ocean and sea ice. They hunt seals, their primary food source, on the ice and in the water.\n",
            "    *   **Example:** Polar Bear (*Ursus maritimus*) – found in the Arctic.\n",
            "\n",
            "Each of these groups has unique adaptations and plays a vital role in their respective ecosystems. Happy researching!\n"
          ]
        }
      ]
    },
    {
      "cell_type": "markdown",
      "source": [
        "## Filtering messages\n",
        "\n",
        "If you don't need or want to modify the graph state, you can just filter the messages you pass to the chat model.\n",
        "\n",
        "For example, just pass in a filtered list: `llm.invoke(messages[-1:])` to the model."
      ],
      "metadata": {
        "id": "09Bji4icBeOA"
      }
    },
    {
      "cell_type": "code",
      "source": [
        "# Node\n",
        "def chat_model_node(state: MessagesState):\n",
        "  return {\"messages\":llm.invoke(state[\"messages\"][-1:])}\n",
        "\n",
        "# Build graph\n",
        "builder = StateGraph(MessagesState)\n",
        "builder.add_node(\"chat_model\",chat_model_node)\n",
        "builder.add_edge(START,\"chat_model\")\n",
        "builder.add_edge(\"chat_model\",END)\n",
        "graph = builder.compile()\n",
        "\n",
        "# View\n",
        "display(Image(graph.get_graph().draw_mermaid_png()))\n"
      ],
      "metadata": {
        "colab": {
          "base_uri": "https://localhost:8080/",
          "height": 251
        },
        "id": "zT11RGGuBYnA",
        "outputId": "1f61e4b8-17f5-4815-ab2c-ae51b174d4cf"
      },
      "execution_count": 12,
      "outputs": [
        {
          "output_type": "display_data",
          "data": {
            "image/png": "[encoded data removed]",
            "text/plain": [
              "<IPython.core.display.Image object>"
            ]
          },
          "metadata": {}
        }
      ]
    },
    {
      "cell_type": "markdown",
      "source": [
        "Let's take our existing list of messages, append the above LLM response, and append a follow-up question."
      ],
      "metadata": {
        "id": "Bqp6VigiBzuJ"
      }
    },
    {
      "cell_type": "code",
      "source": [
        "messages.append(output['messages'][-1])\n",
        "messages.append(HumanMessage(f\"Tell me more about Narwhals!\", name=\"Tharun\"))"
      ],
      "metadata": {
        "id": "YHsCH9A3BxeJ"
      },
      "execution_count": 13,
      "outputs": []
    },
    {
      "cell_type": "code",
      "source": [
        "for m in messages:\n",
        "  m.pretty_print()"
      ],
      "metadata": {
        "colab": {
          "base_uri": "https://localhost:8080/"
        },
        "id": "F5J0nYIjB4Tt",
        "outputId": "8e27342d-363d-4c9a-b3d5-6ea7f2a141d7"
      },
      "execution_count": 14,
      "outputs": [
        {
          "output_type": "stream",
          "name": "stdout",
          "text": [
            "==================================\u001b[1m Ai Message \u001b[0m==================================\n",
            "Name: Bot\n",
            "\n",
            "Hi.\n",
            "================================\u001b[1m Human Message \u001b[0m=================================\n",
            "Name: Lance\n",
            "\n",
            "Hi.\n",
            "==================================\u001b[1m Ai Message \u001b[0m==================================\n",
            "Name: Bot\n",
            "\n",
            "So you said you were researching ocean mammals?\n",
            "================================\u001b[1m Human Message \u001b[0m=================================\n",
            "Name: Lance\n",
            "\n",
            "Yes, I know about whales. But what others should I learn about?\n",
            "==================================\u001b[1m Ai Message \u001b[0m==================================\n",
            "\n",
            "That's a great question! While whales (and their relatives like dolphins and porpoises, which are all *cetaceans*) are certainly the most well-known, there's a whole world of other fascinating ocean mammals.\n",
            "\n",
            "Here are the main groups you should definitely learn about:\n",
            "\n",
            "1.  **Pinnipeds (Seals, Sea Lions, and Walruses)**\n",
            "    *   **General:** These are \"fin-footed\" mammals, meaning their limbs have evolved into flippers. They spend most of their lives in the water, but come ashore to rest, breed, and give birth.\n",
            "    *   **True Seals (Phocidae):**\n",
            "        *   **Characteristics:** No visible external ear flaps. They move on land by wriggling their bodies, as they can't rotate their hind flippers forward.\n",
            "        *   **Examples:** Harp Seal, Grey Seal, Leopard Seal, Elephant Seal, Ringed Seal, Monk Seal.\n",
            "    *   **Eared Seals (Otariidae):**\n",
            "        *   **Characteristics:** Have small, visible ear flaps. They can rotate their hind flippers forward, allowing them to \"walk\" on all fours on land.\n",
            "        *   **Examples:** California Sea Lion, Steller Sea Lion, Fur Seals (e.g., Northern Fur Seal).\n",
            "    *   **Walrus (Odobenidae):**\n",
            "        *   **Characteristics:** A unique pinniped, easily recognized by its long tusks (present in both males and females). They're very large and live in Arctic waters.\n",
            "        *   **Example:** Only one species: *Odobenus rosmarus*.\n",
            "\n",
            "2.  **Sirenians (Manatees and Dugongs)**\n",
            "    *   **General:** Often called \"sea cows,\" these are gentle, slow-moving, herbivorous (plant-eating) mammals that live in warm, shallow coastal waters, rivers, and estuaries.\n",
            "    *   **Manatees:**\n",
            "        *   **Characteristics:** Have a large, paddle-shaped tail.\n",
            "        *   **Examples:** West Indian Manatee, Amazonian Manatee, African Manatee.\n",
            "    *   **Dugongs:**\n",
            "        *   **Characteristics:** Have a fluked tail, similar to a whale's, rather than a paddle. They are exclusively marine.\n",
            "        *   **Example:** Only one species: *Dugong dugon*.\n",
            "\n",
            "3.  **Sea Otters (Mustelidae)**\n",
            "    *   **General:** The smallest marine mammal, known for its incredibly dense fur (the densest of any animal) which provides insulation as they lack blubber. They are very playful and often use tools (like rocks to crack open shellfish).\n",
            "    *   **Examples:** Sea Otter (*Enhydra lutris*) – found in the North Pacific.\n",
            "\n",
            "4.  **Polar Bear (Ursidae)**\n",
            "    *   **General:** While a bear, the polar bear is classified as a marine mammal because its life and survival are intrinsically linked to the ocean and sea ice. They hunt seals, their primary food source, on the ice and in the water.\n",
            "    *   **Example:** Polar Bear (*Ursus maritimus*) – found in the Arctic.\n",
            "\n",
            "Each of these groups has unique adaptations and plays a vital role in their respective ecosystems. Happy researching!\n",
            "================================\u001b[1m Human Message \u001b[0m=================================\n",
            "Name: Tharun\n",
            "\n",
            "Tell me more about Narwhals!\n"
          ]
        }
      ]
    },
    {
      "cell_type": "code",
      "source": [
        "# Invoke, using message filtering\n",
        "output = graph.invoke({\"messages\":messages})\n",
        "for m in output[\"messages\"]:\n",
        "  m.pretty_print()"
      ],
      "metadata": {
        "colab": {
          "base_uri": "https://localhost:8080/"
        },
        "id": "xAlM1QLGB-vR",
        "outputId": "f85c5a88-0a63-472f-d928-7bacea47183a"
      },
      "execution_count": 15,
      "outputs": [
        {
          "output_type": "stream",
          "name": "stdout",
          "text": [
            "==================================\u001b[1m Ai Message \u001b[0m==================================\n",
            "Name: Bot\n",
            "\n",
            "Hi.\n",
            "================================\u001b[1m Human Message \u001b[0m=================================\n",
            "Name: Lance\n",
            "\n",
            "Hi.\n",
            "==================================\u001b[1m Ai Message \u001b[0m==================================\n",
            "Name: Bot\n",
            "\n",
            "So you said you were researching ocean mammals?\n",
            "================================\u001b[1m Human Message \u001b[0m=================================\n",
            "Name: Lance\n",
            "\n",
            "Yes, I know about whales. But what others should I learn about?\n",
            "==================================\u001b[1m Ai Message \u001b[0m==================================\n",
            "\n",
            "That's a great question! While whales (and their relatives like dolphins and porpoises, which are all *cetaceans*) are certainly the most well-known, there's a whole world of other fascinating ocean mammals.\n",
            "\n",
            "Here are the main groups you should definitely learn about:\n",
            "\n",
            "1.  **Pinnipeds (Seals, Sea Lions, and Walruses)**\n",
            "    *   **General:** These are \"fin-footed\" mammals, meaning their limbs have evolved into flippers. They spend most of their lives in the water, but come ashore to rest, breed, and give birth.\n",
            "    *   **True Seals (Phocidae):**\n",
            "        *   **Characteristics:** No visible external ear flaps. They move on land by wriggling their bodies, as they can't rotate their hind flippers forward.\n",
            "        *   **Examples:** Harp Seal, Grey Seal, Leopard Seal, Elephant Seal, Ringed Seal, Monk Seal.\n",
            "    *   **Eared Seals (Otariidae):**\n",
            "        *   **Characteristics:** Have small, visible ear flaps. They can rotate their hind flippers forward, allowing them to \"walk\" on all fours on land.\n",
            "        *   **Examples:** California Sea Lion, Steller Sea Lion, Fur Seals (e.g., Northern Fur Seal).\n",
            "    *   **Walrus (Odobenidae):**\n",
            "        *   **Characteristics:** A unique pinniped, easily recognized by its long tusks (present in both males and females). They're very large and live in Arctic waters.\n",
            "        *   **Example:** Only one species: *Odobenus rosmarus*.\n",
            "\n",
            "2.  **Sirenians (Manatees and Dugongs)**\n",
            "    *   **General:** Often called \"sea cows,\" these are gentle, slow-moving, herbivorous (plant-eating) mammals that live in warm, shallow coastal waters, rivers, and estuaries.\n",
            "    *   **Manatees:**\n",
            "        *   **Characteristics:** Have a large, paddle-shaped tail.\n",
            "        *   **Examples:** West Indian Manatee, Amazonian Manatee, African Manatee.\n",
            "    *   **Dugongs:**\n",
            "        *   **Characteristics:** Have a fluked tail, similar to a whale's, rather than a paddle. They are exclusively marine.\n",
            "        *   **Example:** Only one species: *Dugong dugon*.\n",
            "\n",
            "3.  **Sea Otters (Mustelidae)**\n",
            "    *   **General:** The smallest marine mammal, known for its incredibly dense fur (the densest of any animal) which provides insulation as they lack blubber. They are very playful and often use tools (like rocks to crack open shellfish).\n",
            "    *   **Examples:** Sea Otter (*Enhydra lutris*) – found in the North Pacific.\n",
            "\n",
            "4.  **Polar Bear (Ursidae)**\n",
            "    *   **General:** While a bear, the polar bear is classified as a marine mammal because its life and survival are intrinsically linked to the ocean and sea ice. They hunt seals, their primary food source, on the ice and in the water.\n",
            "    *   **Example:** Polar Bear (*Ursus maritimus*) – found in the Arctic.\n",
            "\n",
            "Each of these groups has unique adaptations and plays a vital role in their respective ecosystems. Happy researching!\n",
            "================================\u001b[1m Human Message \u001b[0m=================================\n",
            "Name: Tharun\n",
            "\n",
            "Tell me more about Narwhals!\n",
            "==================================\u001b[1m Ai Message \u001b[0m==================================\n",
            "\n",
            "Ah, the Narwhal! Often called the \"unicorn of the sea,\" these incredible whales are truly one of the most unique and mysterious creatures in the Arctic. Let's dive into what makes them so fascinating:\n",
            "\n",
            "## The Basics: What is a Narwhal?\n",
            "\n",
            "*   **Scientific Name:** *Monodon monoceros* (meaning \"one tooth, one horn\")\n",
            "*   **Classification:** They are medium-sized whales belonging to the Monodontidae family, which also includes the Beluga whale. They are *toothed whales*, despite their most prominent feature being a single, massive tusk.\n",
            "*   **Habitat:** Exclusively found in the Arctic waters of Canada, Greenland, Norway, and Russia. They are deep-water dwellers, preferring ice-covered seas and deep fjords.\n",
            "\n",
            "## The Tusk: Their Defining Feature\n",
            "\n",
            "This is where the Narwhal truly stands out!\n",
            "\n",
            "*   **What it is:** The \"tusk\" is actually an elongated **canine tooth** that protrudes from the left side of the upper jaw. It's almost always found in males, but about 15% of females also grow one, usually smaller. Very rarely, a male can have two tusks!\n",
            "*   **Size:** It can grow up to **10 feet (3 meters)** long and spiral counter-clockwise.\n",
            "*   **Purpose (The Big Mystery, Now Solved!):** For centuries, the tusk's purpose was a mystery. Theories ranged from fighting, breaking ice, to digging for food. However, modern research has revealed its primary function:\n",
            "    *   **Sensory Organ:** The tusk is covered in millions of nerve endings. It's incredibly sensitive and acts as a sophisticated sensory organ, allowing the Narwhal to detect changes in water temperature, salinity, pressure, and even the presence of prey. It's essentially a highly specialized \"feeler\" that helps them navigate and forage in their dark, icy environment.\n",
            "    *   **Display & Communication:** While not its primary function, it may also play a role in male dominance displays or communication within pods.\n",
            "    *   **Foraging:** They've been observed using the tusk to stun fish, making them easier to catch.\n",
            "\n",
            "## Appearance (Beyond the Tusk)\n",
            "\n",
            "*   **Size:** Adults typically range from 13 to 18 feet (4 to 5.5 meters) long, not including the tusk, and weigh between 2,000 to 3,500 pounds (900 to 1,600 kg).\n",
            "*   **Color:** They have a mottled grey and white skin pattern, which gets darker when they're young and lighter and more spotted as they age.\n",
            "*   **No Dorsal Fin:** Unlike most whales, Narwhals lack a dorsal fin. This is an adaptation to their icy environment, as it prevents the fin from getting caught or damaged by ice. They have a tough, wavy ridge instead.\n",
            "*   **Head & Flippers:** They have a distinctive rounded head and short, rounded flippers.\n",
            "\n",
            "## Behavior & Lifestyle\n",
            "\n",
            "*   **Diet:** Narwhals are suction feeders. They primarily eat Greenland halibut, cod, squid, shrimp, and other bottom-dwelling prey. They're known for their impressive diving abilities.\n",
            "*   **Deep Divers:** They are among the deepest-diving toothed whales, capable of diving to depths of 1,500 meters (almost 5,000 feet) for up to 25 minutes, often foraging along the seafloor.\n",
            "*   **Social Structure:** They are social animals, typically living in pods of 5-10 individuals, though during migrations, they can gather in massive groups of hundreds or even thousands.\n",
            "*   **Migration:** They undertake seasonal migrations, moving between coastal waters in summer and deeper, offshore waters in winter as the ice pack expands and contracts.\n",
            "*   **Communication:** Like other whales, they communicate using a variety of clicks, whistles, and trills.\n",
            "\n",
            "## Reproduction & Lifespan\n",
            "\n",
            "*   **Gestation:** Females carry their calves for about 14-16 months.\n",
            "*   **Calves:** A single calf is born, usually in the spring or summer, and is nursed for about 20 months.\n",
            "*   **Lifespan:** Narwhals can live for 50-60 years in the wild.\n",
            "\n",
            "## Conservation Status & Threats\n",
            "\n",
            "*   **Status:** Globally, the Narwhal is listed as **\"Least Concern\"** by the IUCN, but some populations are considered \"Vulnerable\" or \"Near Threatened.\"\n",
            "*   **Key Threats:**\n",
            "    *   **Climate Change:** This is their biggest threat. Melting sea ice directly impacts their habitat, foraging grounds, and migration routes. It also affects their prey.\n",
            "    *   **Pollution:** Accumulation of toxins in their blubber and organs.\n",
            "    *   **Shipping Noise:** Increased shipping traffic in the Arctic can disrupt their communication and navigation.\n",
            "    *   **Hunting:** Indigenous communities (Inuit) in the Arctic have historically hunted Narwhals for their meat, blubber, and tusks, which is regulated and plays a role in their subsistence culture.\n",
            "    *   **Predators:** Polar bears and killer whales (orcas) are their main natural predators.\n",
            "\n",
            "## Fascinating Facts\n",
            "\n",
            "*   The name \"Narwhal\" comes from the Old Norse word \"nárhvalr,\" meaning \"corpse whale,\" possibly referring to their mottled grey skin resembling a drowned sailor, or their habit of lying still at the surface.\n",
            "*   Their extreme adaptations allow them to thrive in one of the planet's harshest environments.\n",
            "\n",
            "Narwhals are truly magnificent creatures, embodying the mystery and resilience of the Arctic. Their unique tusk and deep-diving abilities make them a source of endless wonder and a critical indicator of the health of their polar ecosystem.\n"
          ]
        }
      ]
    },
    {
      "cell_type": "markdown",
      "source": [
        "## Trim messages\n",
        "\n",
        "Another approach is to [trim messages](https://python.langchain.com/v0.2/docs/how_to/trim_messages/#getting-the-last-max_tokens-tokens), based upon a set number of tokens.\n",
        "\n",
        "This restricts the message history to a specified number of tokens.\n",
        "\n",
        "While filtering only returns a post-hoc subset of the messages between agents, trimming restricts the number of tokens that a chat model can use to respond.\n",
        "\n",
        "See the `trim_messages` below."
      ],
      "metadata": {
        "id": "HFmJfU6DCXG-"
      }
    },
    {
      "cell_type": "code",
      "source": [
        "from langchain_core.messages import trim_messages\n",
        "\n",
        "# Node\n",
        "def chat_model_node(state: MessagesState):\n",
        "  messages = trim_messages(\n",
        "      state[\"messages\"],\n",
        "      max_tokens=100,\n",
        "      strategy=\"last\",\n",
        "      token_counter=ChatGoogleGenerativeAI(model=\"gemini-2.5-flash\"),\n",
        "      allow_partial=False,\n",
        "  )\n",
        "  return {\"messages\":[llm.invoke(messages)]}\n",
        "\n",
        "# Build graph\n",
        "builder = StateGraph(MessagesState)\n",
        "builder.add_node(\"chat_model\",chat_model_node)\n",
        "builder.add_edge(START,\"chat_model\")\n",
        "builder.add_edge(\"chat_model\",END)\n",
        "graph = builder.compile()\n",
        "\n",
        "# View\n",
        "display(Image(graph.get_graph().draw_mermaid_png()))"
      ],
      "metadata": {
        "colab": {
          "base_uri": "https://localhost:8080/",
          "height": 251
        },
        "id": "ZS3VoCZlCT97",
        "outputId": "eebc3294-44b3-4494-acef-c7bb23085694"
      },
      "execution_count": 22,
      "outputs": [
        {
          "output_type": "display_data",
          "data": {
            "image/png": "[encoded data removed]",
            "text/plain": [
              "<IPython.core.display.Image object>"
            ]
          },
          "metadata": {}
        }
      ]
    },
    {
      "cell_type": "code",
      "source": [
        "messages.append(output['messages'][-1])\n",
        "messages.append(HumanMessage(f\"Tell me where Orcas live!\", name=\"Tharun\"))"
      ],
      "metadata": {
        "id": "yoB13f5wC9jw"
      },
      "execution_count": 23,
      "outputs": []
    },
    {
      "cell_type": "code",
      "source": [
        "# Example of trimming messages\n",
        "trim_messages(\n",
        "            messages,\n",
        "            max_tokens=100,\n",
        "            strategy=\"last\",\n",
        "            token_counter=ChatGoogleGenerativeAI(model=\"gemini-2.5-flash\"),\n",
        "            allow_partial=False\n",
        "        )"
      ],
      "metadata": {
        "colab": {
          "base_uri": "https://localhost:8080/"
        },
        "id": "9M3PLXIyDE-l",
        "outputId": "f048f5db-f4f8-42e7-fb5f-36be2e23d857"
      },
      "execution_count": 24,
      "outputs": [
        {
          "output_type": "execute_result",
          "data": {
            "text/plain": [
              "[HumanMessage(content='Tell me where Orcas live!', additional_kwargs={}, response_metadata={}, name='Tharun')]"
            ]
          },
          "metadata": {},
          "execution_count": 24
        }
      ]
    },
    {
      "cell_type": "code",
      "source": [
        "# Invoke, using message trimming in the chat_model_node\n",
        "messages_out_trim = graph.invoke({'messages': messages})"
      ],
      "metadata": {
        "id": "1nG8m1K9DMLp"
      },
      "execution_count": 25,
      "outputs": []
    },
    {
      "cell_type": "code",
      "source": [],
      "metadata": {
        "id": "Mfz7JIU4DUWM"
      },
      "execution_count": null,
      "outputs": []
    }
  ]
}