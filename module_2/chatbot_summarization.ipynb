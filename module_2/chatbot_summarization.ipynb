{
  "nbformat": 4,
  "nbformat_minor": 0,
  "metadata": {
    "colab": {
      "provenance": []
    },
    "kernelspec": {
      "name": "python3",
      "display_name": "Python 3"
    },
    "language_info": {
      "name": "python"
    }
  },
  "cells": [
    {
      "cell_type": "markdown",
      "source": [
        "# Chatbot with message summarization\n",
        "\n",
        "## Review\n",
        "\n",
        "We've covered how to customize graph state schema and reducer.\n",
        "\n",
        "We've also shown a number of ways to trim or filter messages in graph state.\n",
        "\n",
        "## Goals\n",
        "\n",
        "Now, let's take it one step further!\n",
        "\n",
        "Rather than just trimming or filtering messages, we'll show how to use LLMs to produce a running summary of the conversation.\n",
        "\n",
        "This allows us to retain a compressed representation of the full conversation, rather than just removing it with trimming or filtering.\n",
        "\n",
        "We'll incorporate this summarization into a simple Chatbot.  \n",
        "\n",
        "And we'll equip that Chatbot with memory, supporting long-running conversations without incurring high token cost / latency."
      ],
      "metadata": {
        "id": "KbQhC_FvT5m7"
      }
    },
    {
      "cell_type": "code",
      "execution_count": 8,
      "metadata": {
        "id": "Fq-PFtCJINBL"
      },
      "outputs": [],
      "source": [
        "%%capture --no-stderr\n",
        "%pip install --quiet -U langchain_core langgraph"
      ]
    },
    {
      "cell_type": "code",
      "source": [
        "%pip install -qU \"langchain[google-genai]\""
      ],
      "metadata": {
        "id": "KoZ5_Y2RUDCZ"
      },
      "execution_count": 9,
      "outputs": []
    },
    {
      "cell_type": "code",
      "source": [
        "import os, getpass\n",
        "\n",
        "def _set_env(var: str):\n",
        "    if not os.environ.get(var):\n",
        "        os.environ[var] = getpass.getpass(f\"{var}: \")\n",
        "\n",
        "_set_env(\"GOOGLE_API_KEY\")"
      ],
      "metadata": {
        "id": "Eei7tdhSUIco"
      },
      "execution_count": 10,
      "outputs": []
    },
    {
      "cell_type": "code",
      "source": [
        "from langchain_google_genai import ChatGoogleGenerativeAI\n",
        "model = ChatGoogleGenerativeAI(model=\"gemini-2.5-flash\",temperature=0)"
      ],
      "metadata": {
        "id": "YmKwfm9yUQ23"
      },
      "execution_count": 11,
      "outputs": []
    },
    {
      "cell_type": "markdown",
      "source": [
        "We'll use `MessagesState`, as before.\n",
        "\n",
        "In addition to the built-in `messages` key, we'll now include a custom key (`summary`)."
      ],
      "metadata": {
        "id": "kPdnvlo3Uk9_"
      }
    },
    {
      "cell_type": "code",
      "source": [
        "from langgraph.graph import MessagesState\n",
        "class State(MessagesState):\n",
        "  summary: str"
      ],
      "metadata": {
        "id": "U_LJFaCIUjLW"
      },
      "execution_count": 13,
      "outputs": []
    },
    {
      "cell_type": "markdown",
      "source": [
        "We'll define a node to call our LLM that incorporates a summary, if it exists, into the prompt."
      ],
      "metadata": {
        "id": "yLjou4SwVWRO"
      }
    },
    {
      "cell_type": "code",
      "source": [
        "from langchain_core.messages import SystemMessage, HumanMessage, RemoveMessage\n",
        "\n",
        "# Define the logic to call the model\n",
        "def call_model(state: State):\n",
        "\n",
        "  # Get summary if it exists\n",
        "  summary = state.get(\"summary\",\"\")\n",
        "\n",
        "  # If there is summary, then we add it\n",
        "  if summary:\n",
        "\n",
        "    # Add summary to system message\n",
        "    system_message = f\"summary of conersation eariler: {summary}\"\n",
        "\n",
        "    # Append summary to any newer messages\n",
        "    messages = [SystemMessage(content=system_message)] + state[\"messages\"]\n",
        "  else:\n",
        "    messages = state[\"messages\"]\n",
        "\n",
        "  response = model.invoke(messages)\n",
        "  return {\"messages\":response}"
      ],
      "metadata": {
        "id": "R-uPcreUU3h7"
      },
      "execution_count": 14,
      "outputs": []
    },
    {
      "cell_type": "markdown",
      "source": [
        "We'll define a node to produce a summary.\n",
        "\n",
        "Note, here we'll use `RemoveMessage` to filter our state after we've produced the summary."
      ],
      "metadata": {
        "id": "54Hzxw5eWch8"
      }
    },
    {
      "cell_type": "code",
      "source": [
        "def summarize_conversation(state: State):\n",
        "  # First, we get any existing summary\n",
        "  summary = state.get(\"summary\", \"\")\n",
        "\n",
        "  # Create our summarization prompt\n",
        "  if summary:\n",
        "\n",
        "    # A summary already exists\n",
        "    summary_message = (\n",
        "        f\"This is summary of the converation to date: {summary}\\n\\n\"\n",
        "        \"Extend the summary by taking into account the new messages above:\"\n",
        "    )\n",
        "  else:\n",
        "    summary_message = \"Create a summary of the conversation above:\"\n",
        "\n",
        "  # Add prompt to our history\n",
        "  messages = state[\"messages\"] + [HumanMessage(content=summary_message)]\n",
        "  response = model.invoke(messages)\n",
        "\n",
        "  # Delete all but the 2 most recent messages\n",
        "  delete_messages = [RemoveMessage(id=m.id) for m in state[\"messages\"][:-2]]\n",
        "  return {\"summary\": response.content, \"messages\":delete_messages}"
      ],
      "metadata": {
        "id": "E1Od_qY9WXi-"
      },
      "execution_count": 21,
      "outputs": []
    },
    {
      "cell_type": "markdown",
      "source": [
        "We'll add a conditional edge to determine whether to produce a summary based on the conversation length."
      ],
      "metadata": {
        "id": "96-pmaT5X-ps"
      }
    },
    {
      "cell_type": "code",
      "source": [
        "from langgraph.graph import END\n",
        "from typing_extensions import Literal\n",
        "# Determine whether to end or summarize the conversation\n",
        "def should_continue(state: State) -> Literal [\"summarize_conversation\",END]:\n",
        "\n",
        "    \"\"\"Return the next node to execute.\"\"\"\n",
        "\n",
        "    messages = state[\"messages\"]\n",
        "\n",
        "    # If there are more than six messages, then we summarize the conversation\n",
        "    if len(messages) > 6:\n",
        "        return \"summarize_conversation\"\n",
        "\n",
        "    # Otherwise we can just end\n",
        "    return END"
      ],
      "metadata": {
        "id": "_F4H5jWjX6HF"
      },
      "execution_count": 22,
      "outputs": []
    },
    {
      "cell_type": "markdown",
      "source": [
        "## Adding memory\n",
        "\n",
        "Recall that [state is transient](https://github.com/langchain-ai/langgraph/discussions/352#discussioncomment-9291220) to a single graph execution.\n",
        "\n",
        "This limits our ability to have multi-turn conversations with interruptions.\n",
        "\n",
        "As introduced at the end of Module 1, we can use [persistence](https://langchain-ai.github.io/langgraph/how-tos/persistence/) to address this!\n",
        "\n",
        "LangGraph can use a checkpointer to automatically save the graph state after each step.\n",
        "\n",
        "This built-in persistence layer gives us memory, allowing LangGraph to pick up from the last state update.\n",
        "\n",
        "As we previously showed, one of the easiest to work with is `MemorySaver`, an in-memory key-value store for Graph state.\n",
        "\n",
        "All we need to do is compile the graph with a checkpointer, and our graph has memory!"
      ],
      "metadata": {
        "id": "Civcir5hYsJW"
      }
    },
    {
      "cell_type": "code",
      "source": [
        "from IPython.display import Image, display\n",
        "from langgraph.checkpoint.memory import MemorySaver\n",
        "from langgraph.graph import StateGraph, START\n",
        "\n",
        "# Define a new graph\n",
        "workflow = StateGraph(State)\n",
        "workflow.add_node(\"coversation\",call_model)\n",
        "workflow.add_node(summarize_conversation)\n",
        "\n",
        "# Set the entrypoint as coversation\n",
        "workflow.add_edge(START, \"coversation\")\n",
        "workflow.add_conditional_edges(\"coversation\",should_continue)\n",
        "workflow.add_edge(\"summarize_conversation\",END)\n",
        "\n",
        "# Compile\n",
        "memory = MemorySaver()\n",
        "graph = workflow.compile(checkpointer=memory)\n",
        "display(Image(graph.get_graph().draw_mermaid_png()))"
      ],
      "metadata": {
        "colab": {
          "base_uri": "https://localhost:8080/",
          "height": 350
        },
        "id": "5f49dnuIYpvm",
        "outputId": "2eadcaeb-3880-40ed-8998-6d3b8ee35186"
      },
      "execution_count": 23,
      "outputs": [
        {
          "output_type": "display_data",
          "data": {
            "image/png": "[encoded data removed]",
            "text/plain": [
              "<IPython.core.display.Image object>"
            ]
          },
          "metadata": {}
        }
      ]
    },
    {
      "cell_type": "markdown",
      "source": [
        "## Threads\n",
        "\n",
        "The checkpointer saves the state at each step as a checkpoint.\n",
        "\n",
        "These saved checkpoints can be grouped into a `thread` of conversation.\n",
        "\n",
        "Think about Slack as an analog: different channels carry different conversations.\n",
        "\n",
        "Threads are like Slack channels, capturing grouped collections of state (e.g., conversation).\n",
        "\n",
        "Below, we use `configurable` to set a thread ID.\n",
        "\n",
        "![state.jpg](https://cdn.prod.website-files.com/65b8cd72835ceeacd4449a53/66dbadf3b379c2ee621adfd1_chatbot-summarization1.png)"
      ],
      "metadata": {
        "id": "aQp1vhKaaJT5"
      }
    },
    {
      "cell_type": "code",
      "source": [
        "# Create a thread\n",
        "config = {\"configurable\":{\"thread_id\":\"1\"}}\n",
        "\n",
        "# Start conversation\n",
        "input_message = HumanMessage(content=\"hi! I'm Tharun\")\n",
        "output = graph.invoke({\"messages\":[input_message]},config)\n",
        "for m in output[\"messages\"][-1:]:\n",
        "  m.pretty_print()\n",
        "\n",
        "input_message = HumanMessage(content=\"what's my name?\")\n",
        "output = graph.invoke({\"messages\":[input_message]},config)\n",
        "for m in output[\"messages\"][-1:]:\n",
        "  m.pretty_print()\n",
        "\n",
        "input_message = HumanMessage(content=\"i like the Indian cricket team!\")\n",
        "output = graph.invoke({\"messages\":[input_message]},config)\n",
        "for m in output[\"messages\"][-1:]:\n",
        "  m.pretty_print()"
      ],
      "metadata": {
        "colab": {
          "base_uri": "https://localhost:8080/"
        },
        "id": "iucD7mD3ZvzX",
        "outputId": "95e9da72-1e19-4ac7-8bcd-bab50a77e2ef"
      },
      "execution_count": 24,
      "outputs": [
        {
          "output_type": "stream",
          "name": "stdout",
          "text": [
            "==================================\u001b[1m Ai Message \u001b[0m==================================\n",
            "\n",
            "Hi Tharun! Nice to meet you.\n",
            "\n",
            "I'm an AI assistant. How can I help you today?\n",
            "==================================\u001b[1m Ai Message \u001b[0m==================================\n",
            "\n",
            "Your name is Tharun.\n",
            "==================================\u001b[1m Ai Message \u001b[0m==================================\n",
            "\n",
            "That's great to hear, Tharun! They're a fantastic team with a rich history and a huge following.\n",
            "\n",
            "Do you have a favorite player, or a particular series or match that stands out for you?\n"
          ]
        }
      ]
    },
    {
      "cell_type": "markdown",
      "source": [
        "Now, we don't yet have a summary of the state because we still have < = 6 messages.\n",
        "\n",
        "This was set in `should_continue`.\n",
        "\n",
        "```\n",
        "    # If there are more than six messages, then we summarize the conversation\n",
        "    if len(messages) > 6:\n",
        "        return \"summarize_conversation\"\n",
        "```\n",
        "\n",
        "We can pick up the conversation because we have the thread."
      ],
      "metadata": {
        "id": "PD0BIp-HbGCg"
      }
    },
    {
      "cell_type": "code",
      "source": [
        "graph.get_state(config).values.get(\"summary\",\"\")"
      ],
      "metadata": {
        "colab": {
          "base_uri": "https://localhost:8080/",
          "height": 36
        },
        "id": "oJQ-HOPGa-i3",
        "outputId": "30c92469-2287-492b-a3a9-e2375104ea97"
      },
      "execution_count": 25,
      "outputs": [
        {
          "output_type": "execute_result",
          "data": {
            "text/plain": [
              "''"
            ],
            "application/vnd.google.colaboratory.intrinsic+json": {
              "type": "string"
            }
          },
          "metadata": {},
          "execution_count": 25
        }
      ]
    },
    {
      "cell_type": "markdown",
      "source": [
        "The `config` with thread ID allows us to proceed from the previously logged state!"
      ],
      "metadata": {
        "id": "eliBdxvNbMQR"
      }
    },
    {
      "cell_type": "code",
      "source": [
        "input_message = HumanMessage(content=\"i like virat Kohli, isn't he the highest paid player?\")\n",
        "output = graph.invoke({\"messages\":[input_message]},config)\n",
        "for m in output[\"messages\"][-1:]:\n",
        "  m.pretty_print()"
      ],
      "metadata": {
        "colab": {
          "base_uri": "https://localhost:8080/"
        },
        "id": "umeCkzcNbJM1",
        "outputId": "68f573c2-5435-452f-bb6d-987664a00bad"
      },
      "execution_count": 26,
      "outputs": [
        {
          "output_type": "stream",
          "name": "stdout",
          "text": [
            "==================================\u001b[1m Ai Message \u001b[0m==================================\n",
            "\n",
            "Virat Kohli is an excellent choice, Tharun! He's an absolute legend of the game and one of the most influential cricketers of his generation.\n",
            "\n",
            "Regarding him being the highest-paid player, it's a bit nuanced but generally **yes, he is consistently among the highest-paid, if not *the* highest-paid, cricketer globally.**\n",
            "\n",
            "Here's why:\n",
            "\n",
            "1.  **IPL Contract:** He commands one of the highest salaries in the Indian Premier League (IPL) from Royal Challengers Bangalore.\n",
            "2.  **BCCI Contract:** He's in the top A+ category for the Board of Control for Cricket in India (BCCI) central contracts, which means a very high annual retainer and match fees.\n",
            "3.  **Endorsements:** This is where he truly stands out. Virat Kohli has an incredible brand value and an extensive portfolio of endorsement deals with major international and Indian brands (like Puma, MRF, Audi, Tissot, Manyavar, etc.). His earnings from endorsements far surpass his playing salary, making him one of the wealthiest and highest-earning athletes in the world, not just in cricket.\n",
            "\n",
            "So, while other players might have high playing salaries, Kohli's massive endorsement income and brand appeal often place him at the very top in terms of overall earnings.\n"
          ]
        }
      ]
    },
    {
      "cell_type": "code",
      "source": [
        "graph.get_state(config).values.get(\"summary\",\"\")"
      ],
      "metadata": {
        "colab": {
          "base_uri": "https://localhost:8080/",
          "height": 140
        },
        "id": "u869QWAZbeuX",
        "outputId": "b0a39920-fadc-4c4e-c622-6ea3065c4bc3"
      },
      "execution_count": 27,
      "outputs": [
        {
          "output_type": "execute_result",
          "data": {
            "text/plain": [
              "\"Here's a summary of our conversation so far:\\n\\nThe conversation began with you, Tharun, introducing yourself. I acknowledged your name and then confirmed it when you asked. You then shared your liking for the Indian cricket team, specifically mentioning Virat Kohli as your favorite player. You also asked if Virat Kohli is the highest-paid player, to which I explained that he is consistently among the highest-paid globally, primarily due to his IPL and BCCI contracts, and significantly, his extensive and lucrative endorsement deals.\""
            ],
            "application/vnd.google.colaboratory.intrinsic+json": {
              "type": "string"
            }
          },
          "metadata": {},
          "execution_count": 27
        }
      ]
    },
    {
      "cell_type": "code",
      "source": [],
      "metadata": {
        "id": "3VwceUd-bkRe"
      },
      "execution_count": null,
      "outputs": []
    }
  ]
}