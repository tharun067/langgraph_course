{
  "nbformat": 4,
  "nbformat_minor": 0,
  "metadata": {
    "colab": {
      "provenance": []
    },
    "kernelspec": {
      "name": "python3",
      "display_name": "Python 3"
    },
    "language_info": {
      "name": "python"
    }
  },
  "cells": [
    {
      "cell_type": "markdown",
      "source": [
        "# Chatbot with Collection Schema\n",
        "\n",
        "## Review\n",
        "\n",
        "We extended our chatbot to save semantic memories to a single [user profile](https://langchain-ai.github.io/langgraph/concepts/memory/#profile).\n",
        "\n",
        "We also introduced a library, [Trustcall](https://github.com/hinthornw/trustcall), to update this schema with new information.\n",
        "\n",
        "## Goals\n",
        "\n",
        "Sometimes we want to save memories to a [collection](https://docs.google.com/presentation/d/181mvjlgsnxudQI6S3ritg9sooNyu4AcLLFH1UK0kIuk/edit#slide=id.g30eb3c8cf10_0_200) rather than single profile.\n",
        "\n",
        "Here we'll update our chatbot to [save memories to a collection](https://langchain-ai.github.io/langgraph/concepts/memory/#collection).\n",
        "\n",
        "We'll also show how to use [Trustcall](https://github.com/hinthornw/trustcall) to update this collection.\n",
        "\n"
      ],
      "metadata": {
        "id": "w0WyC82oRDya"
      }
    },
    {
      "cell_type": "code",
      "execution_count": 1,
      "metadata": {
        "id": "IM5lh0QGQ-5a"
      },
      "outputs": [],
      "source": [
        "%%capture --no-stderr\n",
        "%pip install -U langchain-google-genai langgraph trustcall langchain_core"
      ]
    },
    {
      "cell_type": "code",
      "source": [
        "import os, getpass\n",
        "\n",
        "def _set_env(var: str):\n",
        "    # Check if the variable is set in the OS environment\n",
        "    env_value = os.environ.get(var)\n",
        "    if not env_value:\n",
        "        # If not set, prompt the user for input\n",
        "        env_value = getpass.getpass(f\"{var}: \")\n",
        "\n",
        "    # Set the environment variable for the current process\n",
        "    os.environ[var] = env_value\n",
        "\n",
        "_set_env(\"LANGSMITH_API_KEY\")\n",
        "os.environ[\"LANGSMITH_TRACING\"] = \"true\"\n",
        "os.environ[\"LANGSMITH_PROJECT\"] = \"default\""
      ],
      "metadata": {
        "colab": {
          "base_uri": "https://localhost:8080/"
        },
        "id": "xuj4a7BCRSgF",
        "outputId": "487338b4-978e-41c7-8e3e-245b49ba76b4"
      },
      "execution_count": 2,
      "outputs": [
        {
          "name": "stdout",
          "output_type": "stream",
          "text": [
            "LANGSMITH_API_KEY: ··········\n"
          ]
        }
      ]
    },
    {
      "cell_type": "markdown",
      "source": [
        "## Defining a collection schema\n",
        "\n",
        "Instead of storing user information in a fixed profile structure, we'll create a flexible collection schema to store memories about user interactions.\n",
        "\n",
        "Each memory will be stored as a separate entry with a single `content` field for the main information we want to remember\n",
        "\n",
        "This approach allows us to build an open-ended collection of memories that can grow and change as we learn more about the user.\n",
        "\n",
        "We can define a collection schema as a [Pydantic](https://docs.pydantic.dev/latest/) object."
      ],
      "metadata": {
        "id": "3e2G6bOkRcxb"
      }
    },
    {
      "cell_type": "code",
      "source": [
        "from pydantic import BaseModel, Field\n",
        "\n",
        "class Memory(BaseModel):\n",
        "  content: str = Field(description=\"The main content of the memory. For example: User expressed interest in learning about French.\")\n",
        "\n",
        "class MemoryCollection(BaseModel):\n",
        "  memories: list[Memory] = Field(description=\"A list of memories about he user.\")"
      ],
      "metadata": {
        "id": "GxOezCdNRaq6"
      },
      "execution_count": 3,
      "outputs": []
    },
    {
      "cell_type": "code",
      "source": [
        "_set_env(\"GOOGLE_API_KEY\")"
      ],
      "metadata": {
        "colab": {
          "base_uri": "https://localhost:8080/"
        },
        "id": "24zDDn5ESDUr",
        "outputId": "ed1c2ee2-5a95-4884-913a-47b0c9aebd25"
      },
      "execution_count": 4,
      "outputs": [
        {
          "name": "stdout",
          "output_type": "stream",
          "text": [
            "GOOGLE_API_KEY: ··········\n"
          ]
        }
      ]
    },
    {
      "cell_type": "markdown",
      "source": [
        "We can used LangChain's chat model [chat model](https://python.langchain.com/docs/concepts/chat_models/) interface's [`with_structured_output`](https://python.langchain.com/docs/concepts/structured_outputs/#recommended-usage) method to enforce structured output."
      ],
      "metadata": {
        "id": "jDBn-Z-xSOZU"
      }
    },
    {
      "cell_type": "code",
      "source": [
        "from langchain_google_genai import ChatGoogleGenerativeAI\n",
        "from langchain_core.messages import HumanMessage\n",
        "\n",
        "# Initialize the model\n",
        "model = ChatGoogleGenerativeAI(model=\"gemini-2.5-flash\", temperature=0)\n",
        "\n",
        "# Bind schema to model\n",
        "model_with_structure = model.with_structured_output(MemoryCollection)\n",
        "\n",
        "# Invoke the model to produce structured output that matches the schema\n",
        "memory_collection = model_with_structure.invoke([HumanMessage(\"My name is Tharun. I Like to bike.\")])\n",
        "memory_collection.memories"
      ],
      "metadata": {
        "colab": {
          "base_uri": "https://localhost:8080/"
        },
        "id": "TTz4MJnCSMgx",
        "outputId": "b6e21127-1fba-418e-e6ea-b98b322f7b95"
      },
      "execution_count": 5,
      "outputs": [
        {
          "output_type": "execute_result",
          "data": {
            "text/plain": [
              "[Memory(content=\"User's name is Tharun.\"),\n",
              " Memory(content='User likes to bike.')]"
            ]
          },
          "metadata": {},
          "execution_count": 5
        }
      ]
    },
    {
      "cell_type": "markdown",
      "source": [
        "We can use `model_dump()` to serialize a Pydantic model instance into a Python dictionary."
      ],
      "metadata": {
        "id": "_s_MUfWcTN9k"
      }
    },
    {
      "cell_type": "code",
      "source": [
        "memory_collection.memories[0].model_dump()"
      ],
      "metadata": {
        "colab": {
          "base_uri": "https://localhost:8080/"
        },
        "id": "u_pRaN_bTHJs",
        "outputId": "df2bdb31-35b0-42b0-c3ed-b19db5cd53c1"
      },
      "execution_count": 6,
      "outputs": [
        {
          "output_type": "execute_result",
          "data": {
            "text/plain": [
              "{'content': \"User's name is Tharun.\"}"
            ]
          },
          "metadata": {},
          "execution_count": 6
        }
      ]
    },
    {
      "cell_type": "markdown",
      "source": [
        "Save dictionary representation of each memory to the store."
      ],
      "metadata": {
        "id": "ofdcYcVvTaxf"
      }
    },
    {
      "cell_type": "code",
      "source": [
        "import uuid\n",
        "from langgraph.store.memory import InMemoryStore\n",
        "\n",
        "# Initialize the in-memory store\n",
        "in_memory_store = InMemoryStore()\n",
        "\n",
        "# Namespace for the memory to save\n",
        "user_id = \"1\"\n",
        "namespace_for_memory = (user_id, \"memories\")\n",
        "\n",
        "# Save a memory to namespace as key and value\n",
        "key = str(uuid.uuid4)\n",
        "value = memory_collection.memories[0].model_dump()\n",
        "in_memory_store.put(namespace_for_memory, key, value)\n",
        "\n",
        "key = str(uuid.uuid4())\n",
        "value = memory_collection.memories[1].model_dump()\n",
        "in_memory_store.put(namespace_for_memory, key, value)"
      ],
      "metadata": {
        "id": "PAcN-uHiTJOw"
      },
      "execution_count": 7,
      "outputs": []
    },
    {
      "cell_type": "markdown",
      "source": [
        "Search for memories in the store."
      ],
      "metadata": {
        "id": "_z5iJsOrU-IG"
      }
    },
    {
      "cell_type": "code",
      "source": [
        "# Search\n",
        "for m in in_memory_store.search(namespace_for_memory):\n",
        "    print(m.dict())"
      ],
      "metadata": {
        "colab": {
          "base_uri": "https://localhost:8080/"
        },
        "id": "JllVosGuU3-V",
        "outputId": "2ea88973-2f9f-402f-fef1-3f14e8c4a61b"
      },
      "execution_count": 8,
      "outputs": [
        {
          "output_type": "stream",
          "name": "stdout",
          "text": [
            "{'namespace': ['1', 'memories'], 'key': '<function uuid4 at 0x79293ae5ab60>', 'value': {'content': \"User's name is Tharun.\"}, 'created_at': '2025-09-02T13:31:24.093182+00:00', 'updated_at': '2025-09-02T13:31:24.093186+00:00', 'score': None}\n",
            "{'namespace': ['1', 'memories'], 'key': '847a8703-b630-429b-95ec-790c295121fb', 'value': {'content': 'User likes to bike.'}, 'created_at': '2025-09-02T13:31:24.093412+00:00', 'updated_at': '2025-09-02T13:31:24.093413+00:00', 'score': None}\n"
          ]
        }
      ]
    },
    {
      "cell_type": "markdown",
      "source": [
        "## Updating collection schema\n",
        "\n",
        "We discussed the challenges with updating a profile schema in the last lesson.\n",
        "\n",
        "The same applies for collections!\n",
        "\n",
        "We want the ability to update the collection with new memories as well as update existing memories in the collection.\n",
        "\n",
        "Now we'll show that [Trustcall](https://github.com/hinthornw/trustcall) can be also used to update a collection.\n",
        "\n",
        "This enables both addition of new memories as well as [updating existing memories in the collection](https://github.com/hinthornw/trustcall?tab=readme-ov-file#simultanous-updates--insertions\n",
        ").\n",
        "\n",
        "Let's define a new extractor with Trustcall.\n",
        "\n",
        "As before, we provide the schema for each memory, `Memory`.  \n",
        "\n",
        "But, we can supply `enable_inserts=True` to allow the extractor to insert new memories to the collection."
      ],
      "metadata": {
        "id": "jDrO66k6oAIk"
      }
    },
    {
      "cell_type": "code",
      "source": [
        "from trustcall import create_extractor\n",
        "\n",
        "# Create the extractor\n",
        "trustcall_extractor = create_extractor(\n",
        "    model,\n",
        "    tools=[Memory],\n",
        "    tool_choice=\"Memory\",\n",
        "    enable_inserts=True,\n",
        ")"
      ],
      "metadata": {
        "id": "-tNkarjEU_wU"
      },
      "execution_count": 9,
      "outputs": []
    },
    {
      "cell_type": "code",
      "source": [
        "from langchain_core.messages import HumanMessage, SystemMessage, AIMessage\n",
        "\n",
        "# Instruction\n",
        "instruction = \"\"\"Extract memories from the following conversation:\"\"\"\n",
        "\n",
        "# Conversation\n",
        "conversation = [HumanMessage(content=\"Hi, I'm Lance.\"),\n",
        "                AIMessage(content=\"Nice to meet you, Lance.\"),\n",
        "                HumanMessage(content=\"This morning I had a nice bike ride in San Francisco.\")]\n",
        "\n",
        "# Invoke the extractor\n",
        "result = trustcall_extractor.invoke({\"messages\": [SystemMessage(content=instruction)] + conversation})"
      ],
      "metadata": {
        "id": "Dm8RF7cDoCFp"
      },
      "execution_count": 10,
      "outputs": []
    },
    {
      "cell_type": "code",
      "source": [
        "# Messages contain the tool calls\n",
        "for m in result[\"messages\"]:\n",
        "    m.pretty_print()"
      ],
      "metadata": {
        "colab": {
          "base_uri": "https://localhost:8080/"
        },
        "id": "hMNykCMaoDOf",
        "outputId": "f98216c3-1172-4da7-89f5-e3de54a7b677"
      },
      "execution_count": 11,
      "outputs": [
        {
          "output_type": "stream",
          "name": "stdout",
          "text": [
            "==================================\u001b[1m Ai Message \u001b[0m==================================\n",
            "Tool Calls:\n",
            "  Memory (41ea1267-a86e-4353-9aec-9969b55ad0f3)\n",
            " Call ID: 41ea1267-a86e-4353-9aec-9969b55ad0f3\n",
            "  Args:\n",
            "    content: User had a bike ride in San Francisco this morning.\n"
          ]
        }
      ]
    },
    {
      "cell_type": "code",
      "source": [
        "# Responses contain the memories that adhere to the schema\n",
        "for m in result[\"responses\"]:\n",
        "    print(m)"
      ],
      "metadata": {
        "colab": {
          "base_uri": "https://localhost:8080/"
        },
        "id": "gcRuQ_nboE7m",
        "outputId": "450f7050-2a6b-4130-874a-092cdc899005"
      },
      "execution_count": 12,
      "outputs": [
        {
          "output_type": "stream",
          "name": "stdout",
          "text": [
            "content='User had a bike ride in San Francisco this morning.'\n"
          ]
        }
      ]
    },
    {
      "cell_type": "code",
      "source": [
        "# Metadata contains the tool call\n",
        "for m in result[\"response_metadata\"]:\n",
        "    print(m)"
      ],
      "metadata": {
        "colab": {
          "base_uri": "https://localhost:8080/"
        },
        "id": "c8DN8SnloG4U",
        "outputId": "f409ac2b-2182-40dd-840d-0ff31c7bd71a"
      },
      "execution_count": 13,
      "outputs": [
        {
          "output_type": "stream",
          "name": "stdout",
          "text": [
            "{'id': '41ea1267-a86e-4353-9aec-9969b55ad0f3'}\n"
          ]
        }
      ]
    },
    {
      "cell_type": "code",
      "source": [
        "# Update the conversation\n",
        "updated_conversation = [AIMessage(content=\"That's great, did you do after?\"),\n",
        "                        HumanMessage(content=\"I went to Tartine and ate a croissant.\"),\n",
        "                        AIMessage(content=\"What else is on your mind?\"),\n",
        "                        HumanMessage(content=\"I was thinking about my Japan, and going back this winter!\"),]\n",
        "\n",
        "# Update the instruction\n",
        "system_msg = \"\"\"Update existing memories and create new ones based on the following conversation:\"\"\"\n",
        "\n",
        "# We'll save existing memories, giving them an ID, key (tool name), and value\n",
        "tool_name = \"Memory\"\n",
        "existing_memories = [(str(i), tool_name, memory.model_dump()) for i, memory in enumerate(result[\"responses\"])] if result[\"responses\"] else None\n",
        "existing_memories"
      ],
      "metadata": {
        "colab": {
          "base_uri": "https://localhost:8080/"
        },
        "id": "4d3H62R6oI_g",
        "outputId": "39c7f704-8b6c-4991-bbf4-2c44dcd26b8e"
      },
      "execution_count": 14,
      "outputs": [
        {
          "output_type": "execute_result",
          "data": {
            "text/plain": [
              "[('0',\n",
              "  'Memory',\n",
              "  {'content': 'User had a bike ride in San Francisco this morning.'})]"
            ]
          },
          "metadata": {},
          "execution_count": 14
        }
      ]
    },
    {
      "cell_type": "code",
      "source": [
        "# Invoke the extractor with our updated conversation and existing memories\n",
        "result = trustcall_extractor.invoke({\"messages\": updated_conversation,\n",
        "                                     \"existing\": existing_memories})"
      ],
      "metadata": {
        "id": "p3q29C2toKXx"
      },
      "execution_count": 15,
      "outputs": []
    },
    {
      "cell_type": "code",
      "source": [
        "# Messages from the model indicate two tool calls were made\n",
        "for m in result[\"messages\"]:\n",
        "    m.pretty_print()"
      ],
      "metadata": {
        "colab": {
          "base_uri": "https://localhost:8080/"
        },
        "id": "mfk6OGZzoMQm",
        "outputId": "42e1320b-717c-4414-f72d-acab307dea3a"
      },
      "execution_count": 16,
      "outputs": [
        {
          "output_type": "stream",
          "name": "stdout",
          "text": [
            "==================================\u001b[1m Ai Message \u001b[0m==================================\n",
            "Tool Calls:\n",
            "  Memory (58d95069-05ba-456d-ae97-fcd74a6b189e)\n",
            " Call ID: 58d95069-05ba-456d-ae97-fcd74a6b189e\n",
            "  Args:\n",
            "    content: User went to Tartine and ate a croissant. User is thinking about Japan and going back this winter.\n"
          ]
        }
      ]
    },
    {
      "cell_type": "code",
      "source": [
        "# Responses contain the memories that adhere to the schema\n",
        "for m in result[\"responses\"]:\n",
        "    print(m)"
      ],
      "metadata": {
        "colab": {
          "base_uri": "https://localhost:8080/"
        },
        "id": "WgnTqqPBoNTM",
        "outputId": "f2859a26-3772-4f17-d347-3c054d4e5628"
      },
      "execution_count": 17,
      "outputs": [
        {
          "output_type": "stream",
          "name": "stdout",
          "text": [
            "content='User went to Tartine and ate a croissant. User is thinking about Japan and going back this winter.'\n"
          ]
        }
      ]
    },
    {
      "cell_type": "markdown",
      "source": [
        "This tells us that we updated the first memory in the collection by specifying the `json_doc_id`."
      ],
      "metadata": {
        "id": "ZoCIKNiIoRHR"
      }
    },
    {
      "cell_type": "code",
      "source": [
        "# Metadata contains the tool call\n",
        "for m in result[\"response_metadata\"]:\n",
        "    print(m)"
      ],
      "metadata": {
        "colab": {
          "base_uri": "https://localhost:8080/"
        },
        "id": "B2fPF8HzoPMS",
        "outputId": "cbd8ecbb-cde9-4a0a-fb92-c6186154ae55"
      },
      "execution_count": 18,
      "outputs": [
        {
          "output_type": "stream",
          "name": "stdout",
          "text": [
            "{'id': '58d95069-05ba-456d-ae97-fcd74a6b189e'}\n"
          ]
        }
      ]
    },
    {
      "cell_type": "markdown",
      "source": [
        "## Chatbot with collection schema updating\n",
        "\n",
        "Now, let's bring Trustcall into our chatbot to create and update a memory collection."
      ],
      "metadata": {
        "id": "PmHbSNf0oUTG"
      }
    },
    {
      "cell_type": "code",
      "source": [
        "from IPython.display import Image, display\n",
        "\n",
        "import uuid\n",
        "\n",
        "from langgraph.graph import StateGraph, MessagesState, START, END\n",
        "from langgraph.store.memory import InMemoryStore\n",
        "from langchain_core.messages import merge_message_runs\n",
        "from langchain_core.messages import HumanMessage, SystemMessage\n",
        "from langchain_core.runnables.config import RunnableConfig\n",
        "from langgraph.checkpoint.memory import MemorySaver\n",
        "from langgraph.store.base import BaseStore\n",
        "\n",
        "# Initialize the model\n",
        "model = ChatGoogleGenerativeAI(model=\"gemini-2.5-flash\", temperature=0)\n",
        "\n",
        "# Memory schema\n",
        "class Memory(BaseModel):\n",
        "    content: str = Field(description=\"The main content of the memory. For example: User expressed interest in learning about French.\")\n",
        "\n",
        "# Create the Trustcall extractor\n",
        "trustcall_extractor = create_extractor(\n",
        "    model,\n",
        "    tools=[Memory],\n",
        "    tool_choice=\"Memory\",\n",
        "    # This allows the extractor to insert new memories\n",
        "    enable_inserts=True,\n",
        ")\n",
        "\n",
        "# Chatbot instruction\n",
        "MODEL_SYSTEM_MESSAGE = \"\"\"You are a helpful chatbot. You are designed to be a companion to a user.\n",
        "\n",
        "You have a long term memory which keeps track of information you learn about the user over time.\n",
        "\n",
        "Current Memory (may include updated memories from this conversation):\n",
        "\n",
        "{memory}\"\"\"\n",
        "\n",
        "# Trustcall instruction\n",
        "TRUSTCALL_INSTRUCTION = \"\"\"Reflect on following interaction.\n",
        "\n",
        "Use the provided tools to retain any necessary memories about the user.\n",
        "\n",
        "Use parallel tool calling to handle updates and insertions simultaneously:\"\"\"\n",
        "\n",
        "def call_model(state: MessagesState, config: RunnableConfig, store: BaseStore):\n",
        "\n",
        "    \"\"\"Load memories from the store and use them to personalize the chatbot's response.\"\"\"\n",
        "\n",
        "    # Get the user ID from the config\n",
        "    user_id = config[\"configurable\"][\"user_id\"]\n",
        "\n",
        "    # Retrieve memory from the store\n",
        "    namespace = (\"memories\", user_id)\n",
        "    memories = store.search(namespace)\n",
        "\n",
        "    # Format the memories for the system prompt\n",
        "    info = \"\\n\".join(f\"- {mem.value['content']}\" for mem in memories)\n",
        "    system_msg = MODEL_SYSTEM_MESSAGE.format(memory=info)\n",
        "\n",
        "    # Respond using memory as well as the chat history\n",
        "    response = model.invoke([SystemMessage(content=system_msg)]+state[\"messages\"])\n",
        "\n",
        "    return {\"messages\": response}\n",
        "\n",
        "def write_memory(state: MessagesState, config: RunnableConfig, store: BaseStore):\n",
        "\n",
        "    \"\"\"Reflect on the chat history and update the memory collection.\"\"\"\n",
        "\n",
        "    # Get the user ID from the config\n",
        "    user_id = config[\"configurable\"][\"user_id\"]\n",
        "\n",
        "    # Define the namespace for the memories\n",
        "    namespace = (\"memories\", user_id)\n",
        "\n",
        "    # Retrieve the most recent memories for context\n",
        "    existing_items = store.search(namespace)\n",
        "\n",
        "    # Format the existing memories for the Trustcall extractor\n",
        "    tool_name = \"Memory\"\n",
        "    existing_memories = ([(existing_item.key, tool_name, existing_item.value)\n",
        "                          for existing_item in existing_items]\n",
        "                          if existing_items\n",
        "                          else None\n",
        "                        )\n",
        "\n",
        "    # Merge the chat history and the instruction\n",
        "    updated_messages=list(merge_message_runs(messages=[SystemMessage(content=TRUSTCALL_INSTRUCTION)] + state[\"messages\"]))\n",
        "\n",
        "    # Invoke the extractor\n",
        "    result = trustcall_extractor.invoke({\"messages\": updated_messages,\n",
        "                                        \"existing\": existing_memories})\n",
        "\n",
        "    # Save the memories from Trustcall to the store\n",
        "    for r, rmeta in zip(result[\"responses\"], result[\"response_metadata\"]):\n",
        "        store.put(namespace,\n",
        "                  rmeta.get(\"json_doc_id\", str(uuid.uuid4())),\n",
        "                  r.model_dump(mode=\"json\"),\n",
        "            )\n",
        "\n",
        "# Define the graph\n",
        "builder = StateGraph(MessagesState)\n",
        "builder.add_node(\"call_model\", call_model)\n",
        "builder.add_node(\"write_memory\", write_memory)\n",
        "builder.add_edge(START, \"call_model\")\n",
        "builder.add_edge(\"call_model\", \"write_memory\")\n",
        "builder.add_edge(\"write_memory\", END)\n",
        "\n",
        "# Store for long-term (across-thread) memory\n",
        "across_thread_memory = InMemoryStore()\n",
        "\n",
        "# Checkpointer for short-term (within-thread) memory\n",
        "within_thread_memory = MemorySaver()\n",
        "\n",
        "# Compile the graph with the checkpointer fir and store\n",
        "graph = builder.compile(checkpointer=within_thread_memory, store=across_thread_memory)\n",
        "\n",
        "# View\n",
        "display(Image(graph.get_graph(xray=1).draw_mermaid_png()))"
      ],
      "metadata": {
        "colab": {
          "base_uri": "https://localhost:8080/",
          "height": 350
        },
        "id": "KLBiuDf1oSg6",
        "outputId": "268f0241-1507-424f-f373-e08e811ac611"
      },
      "execution_count": 20,
      "outputs": [
        {
          "output_type": "display_data",
          "data": {
            "image/png": "[encoded data removed]",
            "text/plain": [
              "<IPython.core.display.Image object>"
            ]
          },
          "metadata": {}
        }
      ]
    },
    {
      "cell_type": "code",
      "source": [
        "# We supply a thread ID for short-term (within-thread) memory\n",
        "# We supply a user ID for long-term (across-thread) memory\n",
        "config = {\"configurable\": {\"thread_id\": \"1\", \"user_id\": \"1\"}}\n",
        "\n",
        "# User input\n",
        "input_messages = [HumanMessage(content=\"Hi, my name is Lance\")]\n",
        "\n",
        "# Run the graph\n",
        "for chunk in graph.stream({\"messages\": input_messages}, config, stream_mode=\"values\"):\n",
        "    chunk[\"messages\"][-1].pretty_print()"
      ],
      "metadata": {
        "colab": {
          "base_uri": "https://localhost:8080/"
        },
        "id": "TDGov7MToWf1",
        "outputId": "a3df97f7-9449-4688-8441-450c19c2f630"
      },
      "execution_count": 21,
      "outputs": [
        {
          "output_type": "stream",
          "name": "stdout",
          "text": [
            "================================\u001b[1m Human Message \u001b[0m=================================\n",
            "\n",
            "Hi, my name is Lance\n",
            "==================================\u001b[1m Ai Message \u001b[0m==================================\n",
            "\n",
            "Hi Lance, it's great to meet you! How can I help you today?\n"
          ]
        }
      ]
    },
    {
      "cell_type": "code",
      "source": [
        "# User input\n",
        "input_messages = [HumanMessage(content=\"I like to bike around San Francisco\")]\n",
        "\n",
        "# Run the graph\n",
        "for chunk in graph.stream({\"messages\": input_messages}, config, stream_mode=\"values\"):\n",
        "    chunk[\"messages\"][-1].pretty_print()"
      ],
      "metadata": {
        "colab": {
          "base_uri": "https://localhost:8080/"
        },
        "id": "l8VbYtA1ofdj",
        "outputId": "fd2861a9-39ca-4e57-f0ee-139d42ffbe2d"
      },
      "execution_count": 22,
      "outputs": [
        {
          "output_type": "stream",
          "name": "stdout",
          "text": [
            "================================\u001b[1m Human Message \u001b[0m=================================\n",
            "\n",
            "I like to bike around San Francisco\n",
            "==================================\u001b[1m Ai Message \u001b[0m==================================\n",
            "\n",
            "That sounds like a fantastic way to explore the city! San Francisco has some incredible views and challenging hills for biking. Do you have a favorite route or a particular area you enjoy riding in the most?\n"
          ]
        }
      ]
    },
    {
      "cell_type": "code",
      "source": [
        "# Namespace for the memory to save\n",
        "user_id = \"1\"\n",
        "namespace = (\"memories\", user_id)\n",
        "memories = across_thread_memory.search(namespace)\n",
        "for m in memories:\n",
        "    print(m.dict())"
      ],
      "metadata": {
        "colab": {
          "base_uri": "https://localhost:8080/"
        },
        "id": "t_1wVy8xogi2",
        "outputId": "401787c9-51a3-4f42-b0d9-58caa984ac22"
      },
      "execution_count": 23,
      "outputs": [
        {
          "output_type": "stream",
          "name": "stdout",
          "text": [
            "{'namespace': ['memories', '1'], 'key': '19938c48-26b2-4b5e-80be-4be17f06edb9', 'value': {'content': \"User's name is Lance. User likes to bike around San Francisco.\"}, 'created_at': '2025-09-02T13:33:50.162289+00:00', 'updated_at': '2025-09-02T13:33:50.162317+00:00', 'score': None}\n"
          ]
        }
      ]
    },
    {
      "cell_type": "code",
      "source": [
        "# User input\n",
        "input_messages = [HumanMessage(content=\"I also enjoy going to bakeries\")]\n",
        "\n",
        "# Run the graph\n",
        "for chunk in graph.stream({\"messages\": input_messages}, config, stream_mode=\"values\"):\n",
        "    chunk[\"messages\"][-1].pretty_print()"
      ],
      "metadata": {
        "colab": {
          "base_uri": "https://localhost:8080/"
        },
        "id": "iSye5b7ToiBY",
        "outputId": "8e953661-5723-43c7-be8e-16f42122d4c6"
      },
      "execution_count": 24,
      "outputs": [
        {
          "output_type": "stream",
          "name": "stdout",
          "text": [
            "================================\u001b[1m Human Message \u001b[0m=================================\n",
            "\n",
            "I also enjoy going to bakeries\n",
            "==================================\u001b[1m Ai Message \u001b[0m==================================\n",
            "\n",
            "Oh, that's a wonderful combination! Biking around San Francisco and then stopping for a treat at a bakery sounds like a perfect day. Do you have any favorite bakeries in the city, or a particular type of pastry you're always on the lookout for?\n"
          ]
        }
      ]
    },
    {
      "cell_type": "markdown",
      "source": [
        "Continue the conversation in a new thread."
      ],
      "metadata": {
        "id": "T4nJYb8Doklc"
      }
    },
    {
      "cell_type": "code",
      "source": [
        "# We supply a thread ID for short-term (within-thread) memory\n",
        "# We supply a user ID for long-term (across-thread) memory\n",
        "config = {\"configurable\": {\"thread_id\": \"2\", \"user_id\": \"1\"}}\n",
        "\n",
        "# User input\n",
        "input_messages = [HumanMessage(content=\"What bakeries do you recommend for me?\")]\n",
        "\n",
        "# Run the graph\n",
        "for chunk in graph.stream({\"messages\": input_messages}, config, stream_mode=\"values\"):\n",
        "    chunk[\"messages\"][-1].pretty_print()"
      ],
      "metadata": {
        "id": "xBkAw4wIojTs",
        "outputId": "9b9ecf16-7850-412f-e95d-139611482e2d",
        "colab": {
          "base_uri": "https://localhost:8080/"
        }
      },
      "execution_count": 25,
      "outputs": [
        {
          "output_type": "stream",
          "name": "stdout",
          "text": [
            "================================\u001b[1m Human Message \u001b[0m=================================\n",
            "\n",
            "What bakeries do you recommend for me?\n",
            "==================================\u001b[1m Ai Message \u001b[0m==================================\n",
            "\n",
            "Oh, Lance, I'd love to! Since you enjoy biking around San Francisco and have a taste for good bakeries, I have a few in mind that might be perfect for a stop on one of your rides.\n",
            "\n",
            "Here are a couple I think you might enjoy:\n",
            "\n",
            "1.  **Tartine Bakery (Mission District):** This is a classic for a reason. Their morning buns, croissants, and country bread are legendary. It's a popular spot, so there might be a line, but it's definitely worth it. The Mission is also a great area to bike through.\n",
            "2.  **Arsicault Bakery (Richmond District, with a newer location in the Inner Sunset):** If you're looking for the best croissant in the city (and arguably the country), many people swear by Arsicault. Their plain croissant is perfection. The Richmond location is a bit further out, making for a nice biking destination.\n",
            "3.  **B. Patisserie (Pacific Heights):** Known for its kouign-amann (a caramelized, buttery pastry) and other French-inspired delights. It's in a lovely neighborhood, and you could combine it with a ride through Pacific Heights or down to the Marina.\n",
            "\n",
            "Do any of those sound appealing, or are you looking for a particular type of pastry or a specific neighborhood to explore on your bike?\n"
          ]
        }
      ]
    },
    {
      "cell_type": "code",
      "source": [],
      "metadata": {
        "id": "wzShbicxomhT"
      },
      "execution_count": null,
      "outputs": []
    }
  ]
}