{
  "nbformat": 4,
  "nbformat_minor": 0,
  "metadata": {
    "colab": {
      "provenance": []
    },
    "kernelspec": {
      "name": "python3",
      "display_name": "Python 3"
    },
    "language_info": {
      "name": "python"
    }
  },
  "cells": [
    {
      "cell_type": "markdown",
      "source": [
        "# Chatbot with Profile Schema\n",
        "\n",
        "## Review\n",
        "\n",
        "We introduced the [LangGraph Memory Store](https://langchain-ai.github.io/langgraph/reference/store/#langgraph.store.base.BaseStore) as a way to save and retrieve long-term memories.\n",
        "\n",
        "We built a simple chatbot that uses both `short-term (within-thread)` and `long-term (across-thread)` memory.\n",
        "\n",
        "It saved long-term [semantic memory](https://langchain-ai.github.io/langgraph/concepts/memory/#semantic-memory) (facts about the user) [\"in the hot path\"](https://langchain-ai.github.io/langgraph/concepts/memory/#writing-memories), as the user is chatting with it.\n",
        "\n",
        "## Goals\n",
        "\n",
        "Our chatbot saved memories as a string. In practice, we often want memories to have a structure.\n",
        "\n",
        "For example, memories can be a [single, continuously updated schema]((https://langchain-ai.github.io/langgraph/concepts/memory/#profile)).\n",
        "\n",
        "In our case, we want this to be a single user profile.\n",
        "\n",
        "We'll extend our chatbot to save semantic memories to a single [user profile](https://langchain-ai.github.io/langgraph/concepts/memory/#profile).\n",
        "\n",
        "We'll also introduce a library, [Trustcall](https://github.com/hinthornw/trustcall), to update this schema with new information."
      ],
      "metadata": {
        "id": "hGvtZwhq2Y9r"
      }
    },
    {
      "cell_type": "code",
      "execution_count": 7,
      "metadata": {
        "id": "1ZHnr8M32F4P"
      },
      "outputs": [],
      "source": [
        "%%capture --no-stderr\n",
        "%pip install -U langchain-google-genai langgraph trustcall langchain_core"
      ]
    },
    {
      "cell_type": "code",
      "source": [
        "import os, getpass\n",
        "\n",
        "def _set_env(var: str):\n",
        "    # Check if the variable is set in the OS environment\n",
        "    env_value = os.environ.get(var)\n",
        "    if not env_value:\n",
        "        # If not set, prompt the user for input\n",
        "        env_value = getpass.getpass(f\"{var}: \")\n",
        "\n",
        "    # Set the environment variable for the current process\n",
        "    os.environ[var] = env_value\n",
        "_set_env(\"LANGSMITH_API_KEY\")\n",
        "os.environ[\"LANGSMITH_TRACING\"] = \"true\"\n",
        "os.environ[\"LANGSMITH_PROJECT\"] = \"default\""
      ],
      "metadata": {
        "colab": {
          "base_uri": "https://localhost:8080/"
        },
        "id": "PCK14exO2wl2",
        "outputId": "1e1ea17e-1549-4321-80d0-452db9cbd035"
      },
      "execution_count": 2,
      "outputs": [
        {
          "name": "stdout",
          "output_type": "stream",
          "text": [
            "LANGSMITH_API_KEY: ··········\n"
          ]
        }
      ]
    },
    {
      "cell_type": "markdown",
      "source": [
        "## Defining a user profile schema\n",
        "\n",
        "Python has many different types for [structured data](https://python.langchain.com/docs/concepts/structured_outputs/#schema-definition), such as TypedDict, Dictionaries, JSON, and [Pydantic](https://docs.pydantic.dev/latest/).\n",
        "\n",
        "Let's start by using TypedDict to define a user profile schema."
      ],
      "metadata": {
        "id": "q9eOzEny3JVS"
      }
    },
    {
      "cell_type": "code",
      "source": [
        "from typing import TypedDict, List\n",
        "\n",
        "class UserProfile(TypedDict):\n",
        "  \"\"\" User Profile schema with typed fields \"\"\"\n",
        "  user_name: str # The user's preferred name\n",
        "  interests: List[str] # A list of the user's interests"
      ],
      "metadata": {
        "id": "qZT2OnGa3Go_"
      },
      "execution_count": 3,
      "outputs": []
    },
    {
      "cell_type": "markdown",
      "source": [
        "## Saving a schema to the store\n",
        "\n",
        "The [LangGraph Store](https://langchain-ai.github.io/langgraph/reference/store/#langgraph.store.base.BaseStore) accepts any Python dictionary as the `value`."
      ],
      "metadata": {
        "id": "cEQkyekw3ijI"
      }
    },
    {
      "cell_type": "code",
      "source": [
        "# TypedDict instance\n",
        "user_profile: UserProfile = {\n",
        "    \"username\": \"Tharun\",\n",
        "    \"interests\": [\"biking\", \"technology\", \"coffee\"]\n",
        "}\n",
        "user_profile"
      ],
      "metadata": {
        "colab": {
          "base_uri": "https://localhost:8080/"
        },
        "id": "AyBfp5q83gkB",
        "outputId": "7332caae-a5f9-4ec9-b7b6-73a11fc707da"
      },
      "execution_count": 4,
      "outputs": [
        {
          "output_type": "execute_result",
          "data": {
            "text/plain": [
              "{'username': 'Tharun', 'interests': ['biking', 'technology', 'coffee']}"
            ]
          },
          "metadata": {},
          "execution_count": 4
        }
      ]
    },
    {
      "cell_type": "markdown",
      "source": [
        "We use the [put](https://langchain-ai.github.io/langgraph/reference/store/#langgraph.store.base.BaseStore.put) method to save the TypedDict to the store."
      ],
      "metadata": {
        "id": "sDPeYYAe359e"
      }
    },
    {
      "cell_type": "code",
      "source": [
        "from langgraph.store.memory import InMemoryStore\n",
        "\n",
        "# Initialze the in-memory store\n",
        "in_memory_store = InMemoryStore()\n",
        "\n",
        "# Namespace for the memory to save\n",
        "user_id = \"1\"\n",
        "namespace_for_memory = (user_id, \"memory\")\n",
        "\n",
        "# Save a memory to namespace as key and value\n",
        "key = \"user_profile\"\n",
        "value = user_profile\n",
        "in_memory_store.put(namespace_for_memory, key, value)"
      ],
      "metadata": {
        "id": "-HBRkmaw33Wp"
      },
      "execution_count": 8,
      "outputs": []
    },
    {
      "cell_type": "markdown",
      "source": [
        "We use [search](https://langchain-ai.github.io/langgraph/reference/store/#langgraph.store.base.BaseStore.search) to retrieve objects from the store by namespace."
      ],
      "metadata": {
        "id": "u19oQ0kx4_MX"
      }
    },
    {
      "cell_type": "code",
      "source": [
        "# Search\n",
        "for m in in_memory_store.search(namespace_for_memory):\n",
        "  print(m.dict())"
      ],
      "metadata": {
        "colab": {
          "base_uri": "https://localhost:8080/"
        },
        "id": "Lpb6SjGJ4Epu",
        "outputId": "36f72ff9-6032-4a72-87d0-edaf6ab6a765"
      },
      "execution_count": 9,
      "outputs": [
        {
          "output_type": "stream",
          "name": "stdout",
          "text": [
            "{'namespace': ['1', 'memory'], 'key': 'user_profile', 'value': {'username': 'Tharun', 'interests': ['biking', 'technology', 'coffee']}, 'created_at': '2025-09-01T15:26:47.892226+00:00', 'updated_at': '2025-09-01T15:26:47.892231+00:00', 'score': None}\n"
          ]
        }
      ]
    },
    {
      "cell_type": "markdown",
      "source": [
        "We can also use [get](https://langchain-ai.github.io/langgraph/reference/store/#langgraph.store.base.BaseStore.get) to retrieve a specific object by namespace and key."
      ],
      "metadata": {
        "id": "NthN1kqW5Tgm"
      }
    },
    {
      "cell_type": "code",
      "source": [
        "# Get the memory by namespace and key\n",
        "profile = in_memory_store.get(namespace_for_memory, \"user_profile\")\n",
        "profile.value"
      ],
      "metadata": {
        "colab": {
          "base_uri": "https://localhost:8080/"
        },
        "id": "MwYl8gov5LgV",
        "outputId": "1a80ae42-74c9-4335-eee8-d88198a5cadd"
      },
      "execution_count": 11,
      "outputs": [
        {
          "output_type": "execute_result",
          "data": {
            "text/plain": [
              "{'username': 'Tharun', 'interests': ['biking', 'technology', 'coffee']}"
            ]
          },
          "metadata": {},
          "execution_count": 11
        }
      ]
    },
    {
      "cell_type": "markdown",
      "source": [
        "## Chatbot with profile schema\n",
        "\n",
        "Now we know how to specify a schema for the memories and save it to the store.\n",
        "\n",
        "Now, how do we actually *create* memories with this particular schema?\n",
        "\n",
        "In our chatbot, we [want to create memories from a user chat](https://langchain-ai.github.io/langgraph/concepts/memory/#profile).\n",
        "\n",
        "This is where the concept of [structured outputs](https://python.langchain.com/docs/concepts/structured_outputs/#recommended-usage) is useful.\n",
        "\n",
        "LangChain's [chat model](https://python.langchain.com/docs/concepts/chat_models/) interface has a [`with_structured_output`](https://python.langchain.com/docs/concepts/structured_outputs/#recommended-usage) method to enforce structured output.\n",
        "\n",
        "This is useful when we want to enforce that the output conforms to a schema, and it parses the output for us."
      ],
      "metadata": {
        "id": "DgVaL0LQ5kHD"
      }
    },
    {
      "cell_type": "code",
      "source": [
        "_set_env(\"GOOGLE_API_KEY\")"
      ],
      "metadata": {
        "colab": {
          "base_uri": "https://localhost:8080/"
        },
        "id": "dfHh2QEQ5g4L",
        "outputId": "19a1a235-b829-4671-e99f-82ccbbf5a215"
      },
      "execution_count": 12,
      "outputs": [
        {
          "name": "stdout",
          "output_type": "stream",
          "text": [
            "GOOGLE_API_KEY: ··········\n"
          ]
        }
      ]
    },
    {
      "cell_type": "markdown",
      "source": [
        "Let's pass the `UserProfile` schema we created to the `with_structured_output` method.\n",
        "\n",
        "We can then invoke the chat model with a list of [messages](https://python.langchain.com/docs/concepts/messages/) and get a structured output that conforms to our schema."
      ],
      "metadata": {
        "id": "IB5OvZoa5v-l"
      }
    },
    {
      "cell_type": "code",
      "source": [
        "from pydantic import BaseModel, Field\n",
        "\n",
        "from langchain_core.messages import HumanMessage\n",
        "from langchain_google_genai import ChatGoogleGenerativeAI\n",
        "\n",
        "# Initialize the model\n",
        "model = ChatGoogleGenerativeAI(model=\"gemini-2.5-flash\", temperature=0)\n",
        "\n",
        "# Bind schema to model\n",
        "model_with_structure = model.with_structured_output(UserProfile)\n",
        "\n",
        "# Invoke the model to produce structured output that mathces the schema\n",
        "structured_output = model_with_structure.invoke([HumanMessage(content=\"My name is Tharun, I like cars.\")])\n",
        "structured_output"
      ],
      "metadata": {
        "colab": {
          "base_uri": "https://localhost:8080/"
        },
        "id": "FNlJvzdk5tg4",
        "outputId": "b56c1254-6b65-4b6c-fa94-c65f2b277dca"
      },
      "execution_count": 13,
      "outputs": [
        {
          "output_type": "execute_result",
          "data": {
            "text/plain": [
              "{'interests': ['cars'], 'user_name': 'Tharun'}"
            ]
          },
          "metadata": {},
          "execution_count": 13
        }
      ]
    },
    {
      "cell_type": "markdown",
      "source": [
        "Now, let's use this with our chatbot.\n",
        "\n",
        "This only requires minor changes to the `write_memory` function.\n",
        "\n",
        "We use `model_with_structure`, as defined above, to produce a profile that matches our schema."
      ],
      "metadata": {
        "id": "ecQUUUtP6m7z"
      }
    },
    {
      "cell_type": "code",
      "source": [
        "from IPython.display import Image, display\n",
        "\n",
        "from langgraph.checkpoint.memory import MemorySaver\n",
        "from langgraph.graph import StateGraph, MessagesState, START, END\n",
        "from langgraph.store.base import BaseStore\n",
        "\n",
        "from langchain_core.messages import HumanMessage, SystemMessage, AIMessage\n",
        "from langchain_core.runnables.config import RunnableConfig\n",
        "\n",
        "# Chatbot instruction\n",
        "MODEL_SYSTEM_MESSAGE = \"\"\"You are a helpful assistant with memory that provides information about the user.\n",
        "If you have memory for this user, use it to personalize your responses.\n",
        "Here is the memory (it may be empty): {memory}\"\"\"\n",
        "\n",
        "# Create new memory from the chat history and any existing memory\n",
        "CREATE_MEMORY_INSTRUCTION = \"\"\"Create or update a user profile memory based on the user's chat history.\n",
        "This will be saved for long-term memory. If there is an existing memory, simply update it.\n",
        "Here is the existing memory (it may be empty): {memory}\"\"\"\n",
        "\n",
        "def call_model(state: MessagesState, config: RunnableConfig, store: BaseStore):\n",
        "\n",
        "    \"\"\"Load memory from the store and use it to personalize the chatbot's response.\"\"\"\n",
        "\n",
        "    # Get the user ID from the config\n",
        "    user_id = config[\"configurable\"][\"user_id\"]\n",
        "\n",
        "    # Retrieve memory from the store\n",
        "    namespace = (\"memory\", user_id)\n",
        "    existing_memory = store.get(namespace, \"user_memory\")\n",
        "\n",
        "    # Format the memories for the system prompt\n",
        "    if existing_memory and existing_memory.value:\n",
        "        memory_dict = existing_memory.value\n",
        "        formatted_memory = (\n",
        "            f\"Name: {memory_dict.get('user_name', 'Unknown')}\\n\"\n",
        "            f\"Interests: {', '.join(memory_dict.get('interests', []))}\"\n",
        "        )\n",
        "    else:\n",
        "        formatted_memory = None\n",
        "\n",
        "    # Format the memory in the system prompt\n",
        "    system_msg = MODEL_SYSTEM_MESSAGE.format(memory=formatted_memory)\n",
        "\n",
        "    # Respond using memory as well as the chat history\n",
        "    response = model.invoke([SystemMessage(content=system_msg)]+state[\"messages\"])\n",
        "\n",
        "    return {\"messages\": response}\n",
        "\n",
        "def write_memory(state: MessagesState, config: RunnableConfig, store: BaseStore):\n",
        "\n",
        "    \"\"\"Reflect on the chat history and save a memory to the store.\"\"\"\n",
        "\n",
        "    # Get the user ID from the config\n",
        "    user_id = config[\"configurable\"][\"user_id\"]\n",
        "\n",
        "    # Retrieve existing memory from the store\n",
        "    namespace = (\"memory\", user_id)\n",
        "    existing_memory = store.get(namespace, \"user_memory\")\n",
        "\n",
        "    # Format the memories for the system prompt\n",
        "    if existing_memory and existing_memory.value:\n",
        "        memory_dict = existing_memory.value\n",
        "        formatted_memory = (\n",
        "            f\"Name: {memory_dict.get('user_name', 'Unknown')}\\n\"\n",
        "            f\"Interests: {', '.join(memory_dict.get('interests', []))}\"\n",
        "        )\n",
        "    else:\n",
        "        formatted_memory = None\n",
        "\n",
        "    # Format the existing memory in the instruction\n",
        "    system_msg = CREATE_MEMORY_INSTRUCTION.format(memory=formatted_memory)\n",
        "\n",
        "    # Invoke the model to produce structured output that matches the schema\n",
        "    new_memory = model_with_structure.invoke([SystemMessage(content=system_msg)]+state['messages'])\n",
        "\n",
        "    # Overwrite the existing use profile memory\n",
        "    key = \"user_memory\"\n",
        "    store.put(namespace, key, new_memory)\n",
        "\n",
        "# Define the graph\n",
        "builder = StateGraph(MessagesState)\n",
        "builder.add_node(\"call_model\", call_model)\n",
        "builder.add_node(\"write_memory\", write_memory)\n",
        "builder.add_edge(START, \"call_model\")\n",
        "builder.add_edge(\"call_model\", \"write_memory\")\n",
        "builder.add_edge(\"write_memory\", END)\n",
        "\n",
        "# Store for long-term (across-thread) memory\n",
        "across_thread_memory = InMemoryStore()\n",
        "\n",
        "# Checkpointer for short-term (within-thread) memory\n",
        "within_thread_memory = MemorySaver()\n",
        "\n",
        "# Compile the graph with the checkpointer fir and store\n",
        "graph = builder.compile(checkpointer=within_thread_memory, store=across_thread_memory)\n",
        "\n",
        "# View\n",
        "display(Image(graph.get_graph(xray=1).draw_mermaid_png()))"
      ],
      "metadata": {
        "colab": {
          "base_uri": "https://localhost:8080/",
          "height": 350
        },
        "id": "NkiaFlZ76jty",
        "outputId": "6541c700-e8e1-4384-e984-0da5758d1a42"
      },
      "execution_count": 14,
      "outputs": [
        {
          "output_type": "display_data",
          "data": {
            "image/png": "[encoded data removed]",
            "text/plain": [
              "<IPython.core.display.Image object>"
            ]
          },
          "metadata": {}
        }
      ]
    },
    {
      "cell_type": "code",
      "source": [
        "# We supply a thread ID for short-term (within-thread) memory\n",
        "# We supply a user ID for long-term (across-thread) memory\n",
        "config = {\"configurable\": {\"thread_id\": \"1\", \"user_id\": \"1\"}}\n",
        "\n",
        "# User input\n",
        "input_messages = [HumanMessage(content=\"Hi, my name is Tharun and I like to bike around San Francisco and eat at bakeries.\")]\n",
        "\n",
        "# Run the graph\n",
        "for chunk in graph.stream({\"messages\": input_messages}, config, stream_mode=\"values\"):\n",
        "    chunk[\"messages\"][-1].pretty_print()"
      ],
      "metadata": {
        "colab": {
          "base_uri": "https://localhost:8080/"
        },
        "id": "mXWOE5zk9SWJ",
        "outputId": "13afbcb3-b726-420c-a66e-0bb3f49ce3dd"
      },
      "execution_count": 15,
      "outputs": [
        {
          "output_type": "stream",
          "name": "stdout",
          "text": [
            "================================\u001b[1m Human Message \u001b[0m=================================\n",
            "\n",
            "Hi, my name is Lance and I like to bike around San Francisco and eat at bakeries.\n",
            "==================================\u001b[1m Ai Message \u001b[0m==================================\n",
            "\n",
            "Hi Lance! It's great to meet you. Biking around San Francisco sounds like a fantastic way to explore the city, especially with all those hills! And who doesn't love a good bakery?\n",
            "\n",
            "I'll remember that you're Lance and you enjoy biking in San Francisco and visiting bakeries. If you ever want to chat about routes or recommend a great pastry, let me know!\n"
          ]
        }
      ]
    },
    {
      "cell_type": "markdown",
      "source": [
        "Let's check the memory in the store.\n",
        "\n",
        "We can see that the memory is a dictionary that matches our schema."
      ],
      "metadata": {
        "id": "MwcVCOli9ZnN"
      }
    },
    {
      "cell_type": "code",
      "source": [
        "# Namespace for the memory to save\n",
        "user_id = \"1\"\n",
        "namespace = (\"memory\", user_id)\n",
        "existing_memory = across_thread_memory.get(namespace, \"user_memory\")\n",
        "existing_memory.value"
      ],
      "metadata": {
        "colab": {
          "base_uri": "https://localhost:8080/"
        },
        "id": "h4YyQJ9J9WSI",
        "outputId": "256fb3cd-ef2b-419f-aca6-822ad2655636"
      },
      "execution_count": 16,
      "outputs": [
        {
          "output_type": "execute_result",
          "data": {
            "text/plain": [
              "{'interests': ['biking in San Francisco', 'eating at bakeries'],\n",
              " 'user_name': 'Lance'}"
            ]
          },
          "metadata": {},
          "execution_count": 16
        }
      ]
    },
    {
      "cell_type": "markdown",
      "source": [
        "## When can this fail?\n",
        "\n",
        "[`with_structured_output`](https://python.langchain.com/docs/concepts/structured_outputs/#recommended-usage) is very useful, but what happens if we're working with a more complex schema?\n",
        "\n",
        "[Here's](https://github.com/hinthornw/trustcall?tab=readme-ov-file#complex-schema) an example of a more complex schema, which we'll test below.\n",
        "\n",
        "This is a [Pydantic](https://docs.pydantic.dev/latest/) model that describes a user's preferences for communication and trust fall."
      ],
      "metadata": {
        "id": "bB2lP28A-bWY"
      }
    },
    {
      "cell_type": "code",
      "source": [
        "from typing import List, Optional\n",
        "\n",
        "class OutputFormat(BaseModel):\n",
        "    preference: str\n",
        "    sentence_preference_revealed: str\n",
        "\n",
        "class TelegramPreferences(BaseModel):\n",
        "    preferred_encoding: Optional[List[OutputFormat]] = None\n",
        "    favorite_telegram_operators: Optional[List[OutputFormat]] = None\n",
        "    preferred_telegram_paper: Optional[List[OutputFormat]] = None\n",
        "\n",
        "class MorseCode(BaseModel):\n",
        "    preferred_key_type: Optional[List[OutputFormat]] = None\n",
        "    favorite_morse_abbreviations: Optional[List[OutputFormat]] = None\n",
        "\n",
        "class Semaphore(BaseModel):\n",
        "    preferred_flag_color: Optional[List[OutputFormat]] = None\n",
        "    semaphore_skill_level: Optional[List[OutputFormat]] = None\n",
        "\n",
        "class TrustFallPreferences(BaseModel):\n",
        "    preferred_fall_height: Optional[List[OutputFormat]] = None\n",
        "    trust_level: Optional[List[OutputFormat]] = None\n",
        "    preferred_catching_technique: Optional[List[OutputFormat]] = None\n",
        "\n",
        "class CommunicationPreferences(BaseModel):\n",
        "    telegram: TelegramPreferences\n",
        "    morse_code: MorseCode\n",
        "    semaphore: Semaphore\n",
        "\n",
        "class UserPreferences(BaseModel):\n",
        "    communication_preferences: CommunicationPreferences\n",
        "    trust_fall_preferences: TrustFallPreferences\n",
        "\n",
        "class TelegramAndTrustFallPreferences(BaseModel):\n",
        "    pertinent_user_preferences: UserPreferences"
      ],
      "metadata": {
        "id": "SB3j-2Qw9dAp"
      },
      "execution_count": 17,
      "outputs": []
    },
    {
      "cell_type": "code",
      "source": [
        "from pydantic import ValidationError\n",
        "\n",
        "# Bind schema to model\n",
        "model_with_structure = model.with_structured_output(TelegramAndTrustFallPreferences)\n",
        "\n",
        "# Conversation\n",
        "conversation = \"\"\"Operator: How may I assist with your telegram, sir?\n",
        "Customer: I need to send a message about our trust fall exercise.\n",
        "Operator: Certainly. Morse code or standard encoding?\n",
        "Customer: Morse, please. I love using a straight key.\n",
        "Operator: Excellent. What's your message?\n",
        "Customer: Tell him I'm ready for a higher fall, and I prefer the diamond formation for catching.\n",
        "Operator: Done. Shall I use our \"Daredevil\" paper for this daring message?\n",
        "Customer: Perfect! Send it by your fastest carrier pigeon.\n",
        "Operator: It'll be there within the hour, sir.\"\"\"\n",
        "\n",
        "# Invoke the model\n",
        "try:\n",
        "    output = model_with_structure.invoke(f\"\"\"Extract the preferences from the following conversation:\n",
        "    <convo>\n",
        "    {conversation}\n",
        "    </convo>\"\"\")\n",
        "except ValidationError as e:\n",
        "    print(e)"
      ],
      "metadata": {
        "id": "n0WqzLgp-dvz"
      },
      "execution_count": 20,
      "outputs": []
    },
    {
      "cell_type": "code",
      "source": [
        "\n",
        "schema = output.model_dump()\n",
        "schema"
      ],
      "metadata": {
        "colab": {
          "base_uri": "https://localhost:8080/",
          "height": 176
        },
        "id": "-Fl75il6-75K",
        "outputId": "d834c5d0-38f4-47ca-8749-50c93efe3c73"
      },
      "execution_count": 32,
      "outputs": [
        {
          "output_type": "error",
          "ename": "NameError",
          "evalue": "name 'output' is not defined",
          "traceback": [
            "\u001b[0;31m---------------------------------------------------------------------------\u001b[0m",
            "\u001b[0;31mNameError\u001b[0m                                 Traceback (most recent call last)",
            "\u001b[0;32m/tmp/ipython-input-2304908720.py\u001b[0m in \u001b[0;36m<cell line: 0>\u001b[0;34m()\u001b[0m\n\u001b[0;32m----> 1\u001b[0;31m \u001b[0mprint\u001b[0m\u001b[0;34m(\u001b[0m\u001b[0moutput\u001b[0m\u001b[0;34m.\u001b[0m\u001b[0mmodel_dump\u001b[0m\u001b[0;34m)\u001b[0m\u001b[0;34m\u001b[0m\u001b[0;34m\u001b[0m\u001b[0m\n\u001b[0m\u001b[1;32m      2\u001b[0m \u001b[0mschema\u001b[0m \u001b[0;34m=\u001b[0m \u001b[0moutput\u001b[0m\u001b[0;34m.\u001b[0m\u001b[0mmodel_dump\u001b[0m\u001b[0;34m(\u001b[0m\u001b[0;34m)\u001b[0m\u001b[0;34m\u001b[0m\u001b[0;34m\u001b[0m\u001b[0m\n\u001b[1;32m      3\u001b[0m \u001b[0mschema\u001b[0m\u001b[0;34m\u001b[0m\u001b[0;34m\u001b[0m\u001b[0m\n",
            "\u001b[0;31mNameError\u001b[0m: name 'output' is not defined"
          ]
        }
      ]
    },
    {
      "cell_type": "markdown",
      "source": [
        "If we naively extract more complex schemas, even using high capacity model like `gpt-4o`, it is prone to failure.\n"
      ],
      "metadata": {
        "id": "Er5mgMjb-s48"
      }
    },
    {
      "cell_type": "markdown",
      "source": [
        "## Trustcall for creating and updating profile schemas\n",
        "\n",
        "As we can see, working with schemas can be tricky.\n",
        "\n",
        "Complex schemas can be difficult to extract.\n",
        "\n",
        "In addition, updating even simple schemas can pose challenges.\n",
        "\n",
        "Consider our above chatbot.\n",
        "\n",
        "We regenerated the profile schema *from scratch* each time we chose to save a new memory.\n",
        "\n",
        "This is inefficient, potentially wasting model tokens if the schema contains a lot of information to re-generate each time.\n",
        "\n",
        "Worse, we may loose information when regenerating the profile from scratch.\n",
        "\n",
        "Addressing these problems is the motivation for [TrustCall](https://github.com/hinthornw/trustcall)!\n",
        "\n",
        "This is an open-source library for updating JSON schemas developed by one [Will Fu-Hinthorn](https://github.com/hinthornw) on the LangChain team.\n",
        "\n",
        "It's motivated by exactly these challenges while working on memory.\n",
        "\n",
        "Let's first show simple usage of extraction with TrustCall on this list of [messages](https://python.langchain.com/docs/concepts/messages/).\n"
      ],
      "metadata": {
        "id": "WffZOTil_gPO"
      }
    },
    {
      "cell_type": "code",
      "source": [
        "# Conversation\n",
        "conversation = [HumanMessage(content=\"Hi, I'm Tharun.\"),\n",
        "                AIMessage(content=\"Nice to meet you, Tharun.\"),\n",
        "                HumanMessage(content=\"I really like biking around San Francisco.\")]"
      ],
      "metadata": {
        "id": "wC_QHpNm-gIq"
      },
      "execution_count": 28,
      "outputs": []
    },
    {
      "cell_type": "markdown",
      "source": [
        "We use `create_extractor`, passing in the model as well as our schema as a [tool](https://python.langchain.com/docs/concepts/tools/).\n",
        "\n",
        "With TrustCall, can supply supply the schema in various ways.\n",
        "\n",
        "For example, we can pass a JSON object / Python dictionary or Pydantic model.\n",
        "\n",
        "Under the hood, TrustCall uses [tool calling](https://python.langchain.com/docs/concepts/tool_calling/) to produce [structured output](https://python.langchain.com/docs/concepts/structured_outputs/) from an input list of [messages](https://python.langchain.com/docs/concepts/messages/).\n",
        "\n",
        "To force Trustcall to produce [structured output](https://python.langchain.com/docs/concepts/structured_outputs/), we can include the schema name in the `tool_choice` argument.\n",
        "\n",
        "We can invoke the extractor with  the above conversation."
      ],
      "metadata": {
        "id": "G9Es3JAd_m-x"
      }
    },
    {
      "cell_type": "code",
      "source": [
        "from trustcall import create_extractor\n",
        "\n",
        "# Schema\n",
        "class UserProfile(BaseModel):\n",
        "  \"\"\" USer profile schema with typed fields \"\"\"\n",
        "  user_name: str = Field(description=\"The user's preferred name\")\n",
        "  interests: List[str] = Field(description=\"A list of the user's interests\")\n",
        "\n",
        "# Initialize the model\n",
        "model = ChatGoogleGenerativeAI(model=\"gemini-2.5-flash\", temperature=0)\n",
        "\n",
        "# Create the extractor\n",
        "trustcall_extractor = create_extractor(\n",
        "    model,\n",
        "    tools=[UserProfile],\n",
        "    tool_choice=\"UserProfile\"\n",
        ")\n",
        "\n",
        "# Instruction\n",
        "system_msg =\" Extract the uset profile from the following conversation\"\n",
        "\n",
        "# Invoke the extractor\n",
        "result = trustcall_extractor.invoke({\"messages\": [SystemMessage(content=system_msg)] + conversation})\n"
      ],
      "metadata": {
        "id": "lTT3IKXv_jIk"
      },
      "execution_count": 29,
      "outputs": []
    },
    {
      "cell_type": "markdown",
      "source": [
        "When we invoke the extractor, we get a few things:\n",
        "\n",
        "* `messages`: The list of `AIMessages` that contain the tool calls.\n",
        "* `responses`: The resulting parsed tool calls that match our schema.\n",
        "* `response_metadata`: Applicable if updating existing tool calls. It says which of the responses correspond to which of the existing objects.\n"
      ],
      "metadata": {
        "id": "xt3ebGdGBCMW"
      }
    },
    {
      "cell_type": "code",
      "source": [
        "for m in result[\"messages\"]:\n",
        "  m.pretty_print()"
      ],
      "metadata": {
        "colab": {
          "base_uri": "https://localhost:8080/"
        },
        "id": "Wb3k6QjeA-2n",
        "outputId": "cf992cb4-acb8-4e71-93ea-b27c38299c7d"
      },
      "execution_count": 30,
      "outputs": [
        {
          "output_type": "stream",
          "name": "stdout",
          "text": [
            "==================================\u001b[1m Ai Message \u001b[0m==================================\n",
            "Tool Calls:\n",
            "  UserProfile (8d0f1b6c-f19c-457f-9189-c8b488f9c752)\n",
            " Call ID: 8d0f1b6c-f19c-457f-9189-c8b488f9c752\n",
            "  Args:\n",
            "    interests: ['biking around San Francisco']\n",
            "    user_name: Tharun\n"
          ]
        }
      ]
    },
    {
      "cell_type": "code",
      "source": [
        "schema = result[\"responses\"]\n",
        "schema"
      ],
      "metadata": {
        "colab": {
          "base_uri": "https://localhost:8080/"
        },
        "id": "BDbYakcOBQGM",
        "outputId": "ded9a2ca-7b0f-4a52-de86-e1d9cd53d656"
      },
      "execution_count": 31,
      "outputs": [
        {
          "output_type": "execute_result",
          "data": {
            "text/plain": [
              "[UserProfile(user_name='Tharun', interests=['biking around San Francisco'])]"
            ]
          },
          "metadata": {},
          "execution_count": 31
        }
      ]
    },
    {
      "cell_type": "code",
      "source": [
        "schema[0].model_dump()"
      ],
      "metadata": {
        "colab": {
          "base_uri": "https://localhost:8080/"
        },
        "id": "tdFOCeeMBgOb",
        "outputId": "1389b5fc-fcc9-4a1a-ea1d-31f29964f8d5"
      },
      "execution_count": 33,
      "outputs": [
        {
          "output_type": "execute_result",
          "data": {
            "text/plain": [
              "{'user_name': 'Tharun', 'interests': ['biking around San Francisco']}"
            ]
          },
          "metadata": {},
          "execution_count": 33
        }
      ]
    },
    {
      "cell_type": "code",
      "source": [
        "result[\"response_metadata\"]"
      ],
      "metadata": {
        "colab": {
          "base_uri": "https://localhost:8080/"
        },
        "id": "YQPze2iABrhy",
        "outputId": "ef4b59db-aec7-43aa-b7e3-4d7463d361e2"
      },
      "execution_count": 34,
      "outputs": [
        {
          "output_type": "execute_result",
          "data": {
            "text/plain": [
              "[{'id': '8d0f1b6c-f19c-457f-9189-c8b488f9c752'}]"
            ]
          },
          "metadata": {},
          "execution_count": 34
        }
      ]
    },
    {
      "cell_type": "markdown",
      "source": [
        "Let's see how we can use it to *update* the profile.\n",
        "\n",
        "For updating, TrustCall takes a set of messages as well as the existing schema.\n",
        "\n",
        "The central idea is that it prompts the model to produce a [JSON Patch](https://jsonpatch.com/) to update only the relevant parts of the schema.\n",
        "\n",
        "This is less error-prone than naively overwriting the entire schema.\n",
        "\n",
        "It's also more efficient since the model only needs to generate the parts of the schema that have changed.\n",
        "\n",
        "We can save the existing schema as a dict.\n",
        "\n",
        "We can use `model_dump()` to serialize a Pydantic model instance into a dict.\n",
        "\n",
        "We pass it to the `\"existing\"` argument along with the schema name, `UserProfile`."
      ],
      "metadata": {
        "id": "-ElaNSITBzES"
      }
    },
    {
      "cell_type": "code",
      "source": [
        "# Update the conversation\n",
        "updated_conversation = [HumanMessage(content=\"Hi, I'm Tharun.\"),\n",
        "                        AIMessage(content=\"Nice to meet you, Tharun.\"),\n",
        "                        HumanMessage(content=\"I really like biking around San Francisco.\"),\n",
        "                        AIMessage(content=\"San Francisco is a great city! Where do you go after biking?\"),\n",
        "                        HumanMessage(content=\"I really like to go to a bakery after biking.\"),]\n",
        "\n",
        "# Update the instruction\n",
        "system_msg = f\"\"\"Update the memory (JSON doc) to incorporate new information from the following conversation\"\"\"\n",
        "\n",
        "# Invoke the extractor with the updated instruction and existing profile with the corresponding tool name (UserProfile)\n",
        "result = trustcall_extractor.invoke({\"messages\": [SystemMessage(content=system_msg)]+updated_conversation},\n",
        "                                    {\"existing\": {\"UserProfile\": schema[0].model_dump()}})"
      ],
      "metadata": {
        "id": "1A31Q8VJBw8p"
      },
      "execution_count": 35,
      "outputs": []
    },
    {
      "cell_type": "code",
      "source": [
        "for m in result[\"messages\"]:\n",
        "    m.pretty_print()"
      ],
      "metadata": {
        "colab": {
          "base_uri": "https://localhost:8080/"
        },
        "id": "Q55bG2RpB8mP",
        "outputId": "37debe5e-c87b-4c06-e41f-eb8135d1e71c"
      },
      "execution_count": 36,
      "outputs": [
        {
          "output_type": "stream",
          "name": "stdout",
          "text": [
            "==================================\u001b[1m Ai Message \u001b[0m==================================\n",
            "Tool Calls:\n",
            "  UserProfile (b0af8714-c6c3-44f0-b6ea-fda6c1fa7da1)\n",
            " Call ID: b0af8714-c6c3-44f0-b6ea-fda6c1fa7da1\n",
            "  Args:\n",
            "    interests: ['biking', 'bakery']\n",
            "    user_name: Tharun\n"
          ]
        }
      ]
    },
    {
      "cell_type": "code",
      "source": [
        "result[\"response_metadata\"]"
      ],
      "metadata": {
        "colab": {
          "base_uri": "https://localhost:8080/"
        },
        "id": "u92t_uNhB-Yk",
        "outputId": "d13de92d-ca73-400e-a7e1-48b413cefc60"
      },
      "execution_count": 37,
      "outputs": [
        {
          "output_type": "execute_result",
          "data": {
            "text/plain": [
              "[{'id': 'b0af8714-c6c3-44f0-b6ea-fda6c1fa7da1'}]"
            ]
          },
          "metadata": {},
          "execution_count": 37
        }
      ]
    },
    {
      "cell_type": "code",
      "source": [
        "updated_schema = result[\"responses\"][0]\n",
        "updated_schema.model_dump()"
      ],
      "metadata": {
        "colab": {
          "base_uri": "https://localhost:8080/"
        },
        "id": "TNoknqeICAZP",
        "outputId": "37f3f17c-630f-4037-faf0-cda45a42c0cc"
      },
      "execution_count": 38,
      "outputs": [
        {
          "output_type": "execute_result",
          "data": {
            "text/plain": [
              "{'user_name': 'Tharun', 'interests': ['biking', 'bakery']}"
            ]
          },
          "metadata": {},
          "execution_count": 38
        }
      ]
    },
    {
      "cell_type": "markdown",
      "source": [
        "LangSmith trace:\n",
        "\n",
        "https://smith.langchain.com/public/229eae22-1edb-44c6-93e6-489124a43968/r\n",
        "\n",
        "Now, let's also test Trustcall on the [challenging schema](https://github.com/hinthornw/trustcall?tab=readme-ov-file#complex-schema) that we saw earlier."
      ],
      "metadata": {
        "id": "im3zxjxzCMJI"
      }
    },
    {
      "cell_type": "code",
      "source": [
        "bound = create_extractor(\n",
        "    model,\n",
        "    tools=[TelegramAndTrustFallPreferences],\n",
        "    tool_choice=\"TelegramAndTrustFallPreferences\",\n",
        ")\n",
        "\n",
        "# Conversation\n",
        "conversation = \"\"\"Operator: How may I assist with your telegram, sir?\n",
        "Customer: I need to send a message about our trust fall exercise.\n",
        "Operator: Certainly. Morse code or standard encoding?\n",
        "Customer: Morse, please. I love using a straight key.\n",
        "Operator: Excellent. What's your message?\n",
        "Customer: Tell him I'm ready for a higher fall, and I prefer the diamond formation for catching.\n",
        "Operator: Done. Shall I use our \"Daredevil\" paper for this daring message?\n",
        "Customer: Perfect! Send it by your fastest carrier pigeon.\n",
        "Operator: It'll be there within the hour, sir.\"\"\"\n",
        "\n",
        "result = bound.invoke(\n",
        "    f\"\"\"Extract the preferences from the following conversation:\n",
        "<convo>\n",
        "{conversation}\n",
        "</convo>\"\"\"\n",
        ")\n",
        "\n",
        "# Extract the preferences\n",
        "result[\"responses\"][0]"
      ],
      "metadata": {
        "colab": {
          "base_uri": "https://localhost:8080/"
        },
        "id": "sv4hBaw-CCmf",
        "outputId": "c02772f1-a52a-4f61-dcb0-b48744358ce8"
      },
      "execution_count": 39,
      "outputs": [
        {
          "output_type": "stream",
          "name": "stderr",
          "text": [
            "WARNING:langchain_google_genai._function_utils:Key '$defs' is not supported in schema, ignoring\n"
          ]
        },
        {
          "output_type": "execute_result",
          "data": {
            "text/plain": [
              "TelegramAndTrustFallPreferences(pertinent_user_preferences=UserPreferences(communication_preferences=CommunicationPreferences(telegram=TelegramPreferences(preferred_encoding=[OutputFormat(preference='Morse', sentence_preference_revealed='Morse, please.')], favorite_telegram_operators=[OutputFormat(preference='carrier pigeon', sentence_preference_revealed='Send it by your fastest carrier pigeon.')], preferred_telegram_paper=[OutputFormat(preference='Daredevil', sentence_preference_revealed='Perfect!')]), morse_code=MorseCode(preferred_key_type=[OutputFormat(preference='straight key', sentence_preference_revealed='I love using a straight key.')], favorite_morse_abbreviations=[]), semaphore=Semaphore(preferred_flag_color=[], semaphore_skill_level=[])), trust_fall_preferences=TrustFallPreferences(preferred_fall_height=[OutputFormat(preference='higher fall', sentence_preference_revealed=\"Tell him I'm ready for a higher fall\")], trust_level=[], preferred_catching_technique=[OutputFormat(preference='diamond formation', sentence_preference_revealed='and I prefer the diamond formation for catching.')])))"
            ]
          },
          "metadata": {},
          "execution_count": 39
        }
      ]
    },
    {
      "cell_type": "markdown",
      "source": [
        "## Chatbot with profile schema updating\n",
        "\n",
        "Now, let's bring Trustcall into our chatbot to create *and update* a memory profile."
      ],
      "metadata": {
        "id": "7TLAjxbhCXWc"
      }
    },
    {
      "cell_type": "code",
      "source": [
        "from IPython.display import Image, display\n",
        "\n",
        "from langchain_core.messages import HumanMessage, SystemMessage\n",
        "from langgraph.graph import StateGraph, MessagesState, START, END\n",
        "from langchain_core.runnables.config import RunnableConfig\n",
        "from langgraph.checkpoint.memory import MemorySaver\n",
        "from langgraph.store.base import BaseStore\n",
        "from typing import List\n",
        "# Initialize the model\n",
        "model = ChatGoogleGenerativeAI(model=\"gemini-2.5-flash\", temperature=0)\n",
        "\n",
        "# Schema\n",
        "class UserProfile(BaseModel):\n",
        "    \"\"\" Profile of a user \"\"\"\n",
        "    user_name: str = Field(description=\"The user's preferred name\")\n",
        "    user_location: str = Field(description=\"The user's location\")\n",
        "    interests: List[str] = Field(description=\"A list of the user's interests\")\n",
        "\n",
        "# Create the extractor\n",
        "trustcall_extractor = create_extractor(\n",
        "    model,\n",
        "    tools=[UserProfile],\n",
        "    tool_choice=\"UserProfile\", # Enforces use of the UserProfile tool\n",
        ")\n",
        "\n",
        "# Chatbot instruction\n",
        "MODEL_SYSTEM_MESSAGE = \"\"\"You are a helpful assistant with memory that provides information about the user.\n",
        "If you have memory for this user, use it to personalize your responses.\n",
        "Here is the memory (it may be empty): {memory}\"\"\"\n",
        "\n",
        "# Extraction instruction\n",
        "TRUSTCALL_INSTRUCTION = \"\"\"Create or update the memory (JSON doc) to incorporate information from the following conversation:\"\"\"\n",
        "\n",
        "def call_model(state: MessagesState, config: RunnableConfig, store: BaseStore):\n",
        "\n",
        "    \"\"\"Load memory from the store and use it to personalize the chatbot's response.\"\"\"\n",
        "\n",
        "    # Get the user ID from the config\n",
        "    user_id = config[\"configurable\"][\"user_id\"]\n",
        "\n",
        "    # Retrieve memory from the store\n",
        "    namespace = (\"memory\", user_id)\n",
        "    existing_memory = store.get(namespace, \"user_memory\")\n",
        "\n",
        "    # Format the memories for the system prompt\n",
        "    if existing_memory and existing_memory.value:\n",
        "        memory_dict = existing_memory.value\n",
        "        formatted_memory = (\n",
        "            f\"Name: {memory_dict.get('user_name', 'Unknown')}\\n\"\n",
        "            f\"Location: {memory_dict.get('user_location', 'Unknown')}\\n\"\n",
        "            f\"Interests: {', '.join(memory_dict.get('interests', []))}\"\n",
        "        )\n",
        "    else:\n",
        "        formatted_memory = None\n",
        "\n",
        "    # Format the memory in the system prompt\n",
        "    system_msg = MODEL_SYSTEM_MESSAGE.format(memory=formatted_memory)\n",
        "\n",
        "    # Respond using memory as well as the chat history\n",
        "    response = model.invoke([SystemMessage(content=system_msg)]+state[\"messages\"])\n",
        "\n",
        "    return {\"messages\": response}\n",
        "\n",
        "def write_memory(state: MessagesState, config: RunnableConfig, store: BaseStore):\n",
        "\n",
        "    \"\"\"Reflect on the chat history and save a memory to the store.\"\"\"\n",
        "\n",
        "    # Get the user ID from the config\n",
        "    user_id = config[\"configurable\"][\"user_id\"]\n",
        "\n",
        "    # Retrieve existing memory from the store\n",
        "    namespace = (\"memory\", user_id)\n",
        "    existing_memory = store.get(namespace, \"user_memory\")\n",
        "\n",
        "    # Get the profile as the value from the list, and convert it to a JSON doc\n",
        "    existing_profile = {\"UserProfile\": existing_memory.value} if existing_memory else None\n",
        "\n",
        "    # Invoke the extractor\n",
        "    result = trustcall_extractor.invoke({\"messages\": [SystemMessage(content=TRUSTCALL_INSTRUCTION)]+state[\"messages\"], \"existing\": existing_profile})\n",
        "\n",
        "    # Get the updated profile as a JSON object\n",
        "    updated_profile = result[\"responses\"][0].model_dump()\n",
        "\n",
        "    # Save the updated profile\n",
        "    key = \"user_memory\"\n",
        "    store.put(namespace, key, updated_profile)\n",
        "\n",
        "# Define the graph\n",
        "builder = StateGraph(MessagesState)\n",
        "builder.add_node(\"call_model\", call_model)\n",
        "builder.add_node(\"write_memory\", write_memory)\n",
        "builder.add_edge(START, \"call_model\")\n",
        "builder.add_edge(\"call_model\", \"write_memory\")\n",
        "builder.add_edge(\"write_memory\", END)\n",
        "\n",
        "# Store for long-term (across-thread) memory\n",
        "across_thread_memory = InMemoryStore()\n",
        "\n",
        "# Checkpointer for short-term (within-thread) memory\n",
        "within_thread_memory = MemorySaver()\n",
        "\n",
        "# Compile the graph with the checkpointer fir and store\n",
        "graph = builder.compile(checkpointer=within_thread_memory, store=across_thread_memory)\n",
        "\n",
        "# View\n",
        "display(Image(graph.get_graph(xray=1).draw_mermaid_png()))"
      ],
      "metadata": {
        "colab": {
          "base_uri": "https://localhost:8080/",
          "height": 350
        },
        "id": "qeDqQ1OKCPco",
        "outputId": "7af15d6d-6f3d-4a34-ba5c-f64a9757dbfc"
      },
      "execution_count": 42,
      "outputs": [
        {
          "output_type": "display_data",
          "data": {
            "image/png": "[encoded data removed]",
            "text/plain": [
              "<IPython.core.display.Image object>"
            ]
          },
          "metadata": {}
        }
      ]
    },
    {
      "cell_type": "code",
      "source": [
        "# We supply a thread ID for short-term (within-thread) memory\n",
        "# We supply a user ID for long-term (across-thread) memory\n",
        "config = {\"configurable\": {\"thread_id\": \"1\", \"user_id\": \"1\"}}\n",
        "\n",
        "# User input\n",
        "input_messages = [HumanMessage(content=\"Hi, my name is Tharun\")]\n",
        "\n",
        "# Run the graph\n",
        "for chunk in graph.stream({\"messages\": input_messages}, config, stream_mode=\"values\"):\n",
        "    chunk[\"messages\"][-1].pretty_print()"
      ],
      "metadata": {
        "colab": {
          "base_uri": "https://localhost:8080/"
        },
        "id": "YAM8fhN4CkTv",
        "outputId": "db965001-1b57-4cdd-851f-f5fbc67978da"
      },
      "execution_count": 43,
      "outputs": [
        {
          "output_type": "stream",
          "name": "stdout",
          "text": [
            "================================\u001b[1m Human Message \u001b[0m=================================\n",
            "\n",
            "Hi, my name is Tharun\n",
            "==================================\u001b[1m Ai Message \u001b[0m==================================\n",
            "\n",
            "Hi Tharun! It's great to meet you. I'll remember your name.\n"
          ]
        }
      ]
    },
    {
      "cell_type": "code",
      "source": [
        "# User input\n",
        "input_messages = [HumanMessage(content=\"I like to bike around San Francisco\")]\n",
        "\n",
        "# Run the graph\n",
        "for chunk in graph.stream({\"messages\": input_messages}, config, stream_mode=\"values\"):\n",
        "    chunk[\"messages\"][-1].pretty_print()"
      ],
      "metadata": {
        "colab": {
          "base_uri": "https://localhost:8080/"
        },
        "id": "-2f_4i6YCpJZ",
        "outputId": "64ed9183-c07f-4934-da55-ff11282e4e3b"
      },
      "execution_count": 44,
      "outputs": [
        {
          "output_type": "stream",
          "name": "stdout",
          "text": [
            "================================\u001b[1m Human Message \u001b[0m=================================\n",
            "\n",
            "I like to bike around San Francisco\n",
            "==================================\u001b[1m Ai Message \u001b[0m==================================\n",
            "\n",
            "That's great, Tharun! Biking around San Francisco sounds like a fantastic way to explore the city. I'll make sure to remember that you enjoy biking and that you're located in San Francisco.\n"
          ]
        }
      ]
    },
    {
      "cell_type": "code",
      "source": [
        "# Namespace for the memory to save\n",
        "user_id = \"1\"\n",
        "namespace = (\"memory\", user_id)\n",
        "existing_memory = across_thread_memory.get(namespace, \"user_memory\")\n",
        "existing_memory.dict()"
      ],
      "metadata": {
        "colab": {
          "base_uri": "https://localhost:8080/"
        },
        "id": "oRBR6rJ6DGYP",
        "outputId": "a03c7b94-ca1a-4e61-cb18-723a8b73d618"
      },
      "execution_count": 45,
      "outputs": [
        {
          "output_type": "execute_result",
          "data": {
            "text/plain": [
              "{'namespace': ['memory', '1'],\n",
              " 'key': 'user_memory',\n",
              " 'value': {'user_name': 'Tharun',\n",
              "  'user_location': 'San Francisco',\n",
              "  'interests': ['biking']},\n",
              " 'created_at': '2025-09-01T16:11:53.491455+00:00',\n",
              " 'updated_at': '2025-09-01T16:11:53.491457+00:00'}"
            ]
          },
          "metadata": {},
          "execution_count": 45
        }
      ]
    },
    {
      "cell_type": "code",
      "source": [
        "# The user profile saved as a JSON object\n",
        "existing_memory.value"
      ],
      "metadata": {
        "colab": {
          "base_uri": "https://localhost:8080/"
        },
        "id": "z6ANFBxBDIYu",
        "outputId": "7832294a-6753-4cbf-bf00-4b53bbe95c95"
      },
      "execution_count": 46,
      "outputs": [
        {
          "output_type": "execute_result",
          "data": {
            "text/plain": [
              "{'user_name': 'Tharun',\n",
              " 'user_location': 'San Francisco',\n",
              " 'interests': ['biking']}"
            ]
          },
          "metadata": {},
          "execution_count": 46
        }
      ]
    },
    {
      "cell_type": "code",
      "source": [
        "# User input\n",
        "input_messages = [HumanMessage(content=\"I also enjoy going to bakeries\")]\n",
        "\n",
        "# Run the graph\n",
        "for chunk in graph.stream({\"messages\": input_messages}, config, stream_mode=\"values\"):\n",
        "    chunk[\"messages\"][-1].pretty_print()"
      ],
      "metadata": {
        "colab": {
          "base_uri": "https://localhost:8080/"
        },
        "id": "xwyfNyfjDJ5y",
        "outputId": "f0f306c3-5bca-4312-9668-3e83cf48b2a9"
      },
      "execution_count": 47,
      "outputs": [
        {
          "output_type": "stream",
          "name": "stdout",
          "text": [
            "================================\u001b[1m Human Message \u001b[0m=================================\n",
            "\n",
            "I also enjoy going to bakeries\n",
            "==================================\u001b[1m Ai Message \u001b[0m==================================\n",
            "\n",
            "That's a wonderful interest, Tharun! San Francisco has some amazing bakeries. I'll add \"going to bakeries\" to your interests, along with biking. So, you enjoy biking around San Francisco and visiting bakeries. Got it!\n"
          ]
        }
      ]
    },
    {
      "cell_type": "code",
      "source": [
        "# We supply a thread ID for short-term (within-thread) memory\n",
        "# We supply a user ID for long-term (across-thread) memory\n",
        "config = {\"configurable\": {\"thread_id\": \"2\", \"user_id\": \"1\"}}\n",
        "\n",
        "# User input\n",
        "input_messages = [HumanMessage(content=\"What bakeries do you recommend for me?\")]\n",
        "\n",
        "# Run the graph\n",
        "for chunk in graph.stream({\"messages\": input_messages}, config, stream_mode=\"values\"):\n",
        "    chunk[\"messages\"][-1].pretty_print()"
      ],
      "metadata": {
        "colab": {
          "base_uri": "https://localhost:8080/"
        },
        "id": "GLK2oUmPDLS-",
        "outputId": "d8ef5f34-5cc5-4fcd-87f8-4b4adbab6ae5"
      },
      "execution_count": 48,
      "outputs": [
        {
          "output_type": "stream",
          "name": "stdout",
          "text": [
            "================================\u001b[1m Human Message \u001b[0m=================================\n",
            "\n",
            "What bakeries do you recommend for me?\n",
            "==================================\u001b[1m Ai Message \u001b[0m==================================\n",
            "\n",
            "Since you're in San Francisco and love going to bakeries, Tharun, you're in luck – there are so many fantastic options! Here are a few I'd highly recommend checking out:\n",
            "\n",
            "1.  **Tartine Bakery (Mission District):** A true San Francisco institution, famous for its incredible bread, morning buns, and other pastries. Be prepared for a line, but it's always worth it!\n",
            "2.  **Arsicault Bakery (Richmond District):** If you're a fan of croissants, this is a must-visit. They've been named one of the best bakeries in the country for their perfectly flaky, buttery croissants.\n",
            "3.  **B. Patisserie (Pacific Heights):** Known for its exquisite French pastries, especially their kouign-amann (a caramelized, buttery pastry) and various tarts and cakes.\n",
            "\n",
            "Enjoy your bakery adventures, Tharun!\n"
          ]
        }
      ]
    },
    {
      "cell_type": "code",
      "source": [],
      "metadata": {
        "id": "0Kf3siSqDM4D"
      },
      "execution_count": null,
      "outputs": []
    }
  ]
}