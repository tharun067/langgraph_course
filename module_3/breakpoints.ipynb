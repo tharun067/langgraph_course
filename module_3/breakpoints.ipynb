{
  "nbformat": 4,
  "nbformat_minor": 0,
  "metadata": {
    "colab": {
      "provenance": []
    },
    "kernelspec": {
      "name": "python3",
      "display_name": "Python 3"
    },
    "language_info": {
      "name": "python"
    }
  },
  "cells": [
    {
      "cell_type": "markdown",
      "source": [
        "# Breakpoints\n",
        "\n",
        "## Review\n",
        "\n",
        "For `human-in-the-loop`, we often want to see our graph outputs as its running.\n",
        "\n",
        "We laid the foundations for this with streaming.\n",
        "\n",
        "## Goals\n",
        "\n",
        "Now, let's talk about the motivations for `human-in-the-loop`:\n",
        "\n",
        "(1) `Approval` - We can interrupt our agent, surface state to a user, and allow the user to accept an action\n",
        "\n",
        "(2) `Debugging` - We can rewind the graph to reproduce or avoid issues\n",
        "\n",
        "(3) `Editing` - You can modify the state\n",
        "\n",
        "LangGraph offers several ways to get or update agent state to support various `human-in-the-loop` workflows.\n",
        "\n",
        "First, we'll introduce [breakpoints](https://langchain-ai.github.io/langgraph/how-tos/human_in_the_loop/breakpoints/#simple-usage), which provide a simple way to stop the graph at specific steps.\n",
        "\n",
        "We'll show how this enables user `approval`."
      ],
      "metadata": {
        "id": "HGmxEquKNxkC"
      }
    },
    {
      "cell_type": "code",
      "execution_count": 2,
      "metadata": {
        "id": "bPzU6edxN_47"
      },
      "outputs": [],
      "source": [
        "%%capture --no-stderr\n",
        "%pip install --quiet -U langgraph langgraph_sdk langgraph-prebuilt"
      ]
    },
    {
      "cell_type": "code",
      "source": [
        "%pip install -qU \"langchain[google-genai]\""
      ],
      "metadata": {
        "colab": {
          "base_uri": "https://localhost:8080/"
        },
        "id": "Ri3oSI90OkiG",
        "outputId": "dda742cc-cf2b-4862-c51d-30d487cea1ac"
      },
      "execution_count": 3,
      "outputs": [
        {
          "output_type": "stream",
          "name": "stdout",
          "text": [
            "\u001b[2K   \u001b[90m━━━━━━━━━━━━━━━━━━━━━━━━━━━━━━━━━━━━━━━━\u001b[0m \u001b[32m49.4/49.4 kB\u001b[0m \u001b[31m441.8 kB/s\u001b[0m eta \u001b[36m0:00:00\u001b[0m\n",
            "\u001b[2K   \u001b[90m━━━━━━━━━━━━━━━━━━━━━━━━━━━━━━━━━━━━━━━━\u001b[0m \u001b[32m444.0/444.0 kB\u001b[0m \u001b[31m2.2 MB/s\u001b[0m eta \u001b[36m0:00:00\u001b[0m\n",
            "\u001b[2K   \u001b[90m━━━━━━━━━━━━━━━━━━━━━━━━━━━━━━━━━━━━━━━━\u001b[0m \u001b[32m1.4/1.4 MB\u001b[0m \u001b[31m9.8 MB/s\u001b[0m eta \u001b[36m0:00:00\u001b[0m\n",
            "\u001b[?25h\u001b[31mERROR: pip's dependency resolver does not currently take into account all the packages that are installed. This behaviour is the source of the following dependency conflicts.\n",
            "google-generativeai 0.8.5 requires google-ai-generativelanguage==0.6.15, but you have google-ai-generativelanguage 0.6.18 which is incompatible.\u001b[0m\u001b[31m\n",
            "\u001b[0m"
          ]
        }
      ]
    },
    {
      "cell_type": "code",
      "source": [
        "import os, getpass\n",
        "def _set_env(var: str):\n",
        "  if not os.environ.get(var):\n",
        "    os.environ[var] = getpass.getpass(f\"{var}\")\n",
        "_set_env(\"GOOGLE_API_KEY\")"
      ],
      "metadata": {
        "colab": {
          "base_uri": "https://localhost:8080/"
        },
        "id": "s5W-_9bFPL81",
        "outputId": "618d825d-3530-403d-f250-acb7917be45c"
      },
      "execution_count": 4,
      "outputs": [
        {
          "name": "stdout",
          "output_type": "stream",
          "text": [
            "GOOGLE_API_KEY··········\n"
          ]
        }
      ]
    },
    {
      "cell_type": "markdown",
      "source": [
        "## Breakpoints for human approval\n",
        "\n",
        "Let's re-consider the simple agent that we worked with in Module 1.\n",
        "\n",
        "Let's assume that are concerned about tool use: we want to approve the agent to use any of its tools.\n",
        "\n",
        "All we need to do is simply compile the graph with `interrupt_before=[\"tools\"]` where `tools` is our tools node.\n",
        "\n",
        "This means that the execution will be interrupted before the node `tools`, which executes the tool call."
      ],
      "metadata": {
        "id": "tBVRptVgPoMC"
      }
    },
    {
      "cell_type": "code",
      "source": [
        "from langchain_google_genai import ChatGoogleGenerativeAI\n",
        "\n",
        "def multiply(a: int, b: int) -> int:\n",
        "  \"\"\"Multiply a and b.\n",
        "\n",
        "  Args:\n",
        "      a: first int\n",
        "      b: second int\n",
        "  \"\"\"\n",
        "  return a * b\n",
        "\n",
        "def add(a: int, b: int) -> int:\n",
        "  \"\"\"Adds a and b.\n",
        "\n",
        "  Args:\n",
        "      a: first int\n",
        "      b: second int\n",
        "  \"\"\"\n",
        "  return a + b\n",
        "\n",
        "def divide(a: int, b: int) -> int:\n",
        "  \"\"\"Divide a and b.\n",
        "\n",
        "  Args:\n",
        "      a: first int\n",
        "      b: second int\n",
        "  \"\"\"\n",
        "  return a / b\n",
        "\n",
        "tools = [add, multiply, divide]\n",
        "llm = ChatGoogleGenerativeAI(model=\"gemini-2.5-flash\")\n",
        "llm_with_tools = llm.bind_tools(tools)"
      ],
      "metadata": {
        "id": "9XEIRp6SPkN9"
      },
      "execution_count": 5,
      "outputs": []
    },
    {
      "cell_type": "code",
      "source": [
        "from IPython.display import Image, display\n",
        "\n",
        "from langgraph.checkpoint.memory import MemorySaver\n",
        "from langgraph.graph import MessagesState\n",
        "from langgraph.graph import StateGraph, START\n",
        "from langgraph.prebuilt import tools_condition, ToolNode\n",
        "from langchain_core.messages import HumanMessage, SystemMessage, AIMessage\n",
        "\n",
        "# System message\n",
        "sys_msg = SystemMessage(content = \"You are a helful assistant tasked with performing arithmetic on a set of inputs.\")\n",
        "\n",
        "# Node\n",
        "def assistant(state: MessagesState):\n",
        "  return {\"messages\":[llm_with_tools.invoke([sys_msg] + state[\"messages\"])]}\n",
        "\n",
        "# Graph\n",
        "builder = StateGraph(MessagesState)\n",
        "\n",
        "# Define nodes: these do the work\n",
        "builder.add_node(\"assistant\",assistant)\n",
        "builder.add_node(\"tools\",ToolNode(tools))\n",
        "\n",
        "# Define edges: these determine the control flow\n",
        "builder.add_edge(START,\"assistant\")\n",
        "builder.add_conditional_edges(\n",
        "    \"assistant\",\n",
        "     # If the latest message (result) from assistant is a tool call -> tools_condition routes to tools\n",
        "    # If the latest message (result) from assistant is a not a tool call -> tools_condition routes to END\n",
        "    tools_condition,\n",
        ")\n",
        "builder.add_edge(\"tools\",\"assistant\")\n",
        "\n",
        "memory = MemorySaver()\n",
        "graph = builder.compile(interrupt_before=[\"tools\"], checkpointer=memory)\n",
        "\n",
        "# Show\n",
        "display(Image(graph.get_graph(xray=True).draw_mermaid_png()))"
      ],
      "metadata": {
        "colab": {
          "base_uri": "https://localhost:8080/",
          "height": 308
        },
        "id": "d37dSz6hQacF",
        "outputId": "bf7c2672-9ec9-45cd-b30f-7bce09020149"
      },
      "execution_count": 8,
      "outputs": [
        {
          "output_type": "display_data",
          "data": {
            "image/png": "[encoded data removed]",
            "text/plain": [
              "<IPython.core.display.Image object>"
            ]
          },
          "metadata": {}
        }
      ]
    },
    {
      "cell_type": "code",
      "source": [
        "# Input\n",
        "initial_input = {\"messages\":HumanMessage(content=\"Multiply 2 and 3\")}\n",
        "\n",
        "# Thread\n",
        "thread = {\"configurable\":{\"thread_id\":\"1\"}}\n",
        "\n",
        "# Run the graph until the first interruption\n",
        "for event in graph.stream(initial_input, thread, stream_mode=\"values\"):\n",
        "  event[\"messages\"][-1].pretty_print()"
      ],
      "metadata": {
        "colab": {
          "base_uri": "https://localhost:8080/"
        },
        "id": "ECgOS7y4VKuu",
        "outputId": "725c7e88-b1b3-4759-c264-149e9a91ba63"
      },
      "execution_count": 9,
      "outputs": [
        {
          "output_type": "stream",
          "name": "stdout",
          "text": [
            "================================\u001b[1m Human Message \u001b[0m=================================\n",
            "\n",
            "Multiply 2 and 3\n",
            "==================================\u001b[1m Ai Message \u001b[0m==================================\n",
            "Tool Calls:\n",
            "  multiply (ddbb39e7-6ac8-4d8c-b176-e71f4547891a)\n",
            " Call ID: ddbb39e7-6ac8-4d8c-b176-e71f4547891a\n",
            "  Args:\n",
            "    a: 2.0\n",
            "    b: 3.0\n"
          ]
        }
      ]
    },
    {
      "cell_type": "markdown",
      "source": [
        "We can get the state and look at the next node to call.\n",
        "\n",
        "This is a nice way to see that the graph has been interrupted."
      ],
      "metadata": {
        "id": "C4vw310aVxUR"
      }
    },
    {
      "cell_type": "code",
      "source": [
        "state = graph.get_state(thread)\n",
        "state.next"
      ],
      "metadata": {
        "colab": {
          "base_uri": "https://localhost:8080/"
        },
        "id": "F_cS3iwnVrSN",
        "outputId": "842cbf2b-e403-4126-a372-2ff19dbe1b33"
      },
      "execution_count": 10,
      "outputs": [
        {
          "output_type": "execute_result",
          "data": {
            "text/plain": [
              "('tools',)"
            ]
          },
          "metadata": {},
          "execution_count": 10
        }
      ]
    },
    {
      "cell_type": "markdown",
      "source": [
        "Now, we'll introduce a nice trick.\n",
        "\n",
        "When we invoke the graph with `None`, it will just continue from the last state checkpoint!\n",
        "\n",
        "![breakpoints.jpg](https://cdn.prod.website-files.com/65b8cd72835ceeacd4449a53/66dbae7985b747dfed67775d_breakpoints1.png)\n",
        "\n",
        "For clarity, LangGraph will re-emit the current state, which contains the `AIMessage` with tool call.\n",
        "\n",
        "And then it will proceed to execute the following steps in the graph, which start with the tool node.\n",
        "\n",
        "We see that the tool node is run with this tool call, and it's passed back to the chat model for our final answer."
      ],
      "metadata": {
        "id": "PSrnM4v_V_sf"
      }
    },
    {
      "cell_type": "code",
      "source": [
        "for event in graph.stream(None, thread, stream_mode=\"values\"):\n",
        "  event[\"messages\"][-1].pretty_print()"
      ],
      "metadata": {
        "colab": {
          "base_uri": "https://localhost:8080/"
        },
        "id": "oXB9z60NV3kH",
        "outputId": "6f086879-3dea-46e2-e2c1-a415a95771d8"
      },
      "execution_count": 11,
      "outputs": [
        {
          "output_type": "stream",
          "name": "stdout",
          "text": [
            "==================================\u001b[1m Ai Message \u001b[0m==================================\n",
            "Tool Calls:\n",
            "  multiply (ddbb39e7-6ac8-4d8c-b176-e71f4547891a)\n",
            " Call ID: ddbb39e7-6ac8-4d8c-b176-e71f4547891a\n",
            "  Args:\n",
            "    a: 2.0\n",
            "    b: 3.0\n",
            "=================================\u001b[1m Tool Message \u001b[0m=================================\n",
            "Name: multiply\n",
            "\n",
            "6\n",
            "==================================\u001b[1m Ai Message \u001b[0m==================================\n",
            "\n",
            "The result of multiplying 2 and 3 is 6.\n"
          ]
        }
      ]
    },
    {
      "cell_type": "markdown",
      "source": [
        "Now, lets bring these together with a specific user approval step that accepts user input."
      ],
      "metadata": {
        "id": "JLDXoCxeWOnW"
      }
    },
    {
      "cell_type": "code",
      "source": [
        "# Input\n",
        "initial_input = {\"messages\":HumanMessage(content=\"Multiply 2 and 3\")}\n",
        "\n",
        "# Thread\n",
        "thread = {\"configurable\":{\"thread_id\":\"2\"}}\n",
        "\n",
        "# Run the graph until the first interruption\n",
        "for event in graph.stream(initial_input, thread, stream_mode=\"values\"):\n",
        "  event[\"messages\"][-1].pretty_print()\n",
        "\n",
        "# Get user feedback\n",
        "user_approval = input(\"Do you want to call the tool? (yes/no): \")\n",
        "\n",
        "# Check approval\n",
        "if user_approval.lower() == \"yes\":\n",
        "\n",
        "  # If approved, continue the graph execution\n",
        "  for event in graph.stream(None, thread, stream_mode=\"values\"):\n",
        "      event[\"messages\"][-1].pretty_print()\n",
        "else:\n",
        "  print(\"Operation cancelled by user.\")"
      ],
      "metadata": {
        "colab": {
          "base_uri": "https://localhost:8080/"
        },
        "id": "3KV4MPm1WLwI",
        "outputId": "cbcca6f9-9490-416f-dea5-bba35e5f22f7"
      },
      "execution_count": 14,
      "outputs": [
        {
          "output_type": "stream",
          "name": "stdout",
          "text": [
            "================================\u001b[1m Human Message \u001b[0m=================================\n",
            "\n",
            "Multiply 2 and 3\n",
            "==================================\u001b[1m Ai Message \u001b[0m==================================\n",
            "Tool Calls:\n",
            "  multiply (c8acc4a7-9934-451b-867e-fddf48343d0c)\n",
            " Call ID: c8acc4a7-9934-451b-867e-fddf48343d0c\n",
            "  Args:\n",
            "    a: 2.0\n",
            "    b: 3.0\n",
            "Do you want to call the tool? (yes/no): yes\n",
            "==================================\u001b[1m Ai Message \u001b[0m==================================\n",
            "Tool Calls:\n",
            "  multiply (c8acc4a7-9934-451b-867e-fddf48343d0c)\n",
            " Call ID: c8acc4a7-9934-451b-867e-fddf48343d0c\n",
            "  Args:\n",
            "    a: 2.0\n",
            "    b: 3.0\n",
            "=================================\u001b[1m Tool Message \u001b[0m=================================\n",
            "Name: multiply\n",
            "\n",
            "6\n",
            "==================================\u001b[1m Ai Message \u001b[0m==================================\n",
            "\n",
            "The product of 2 and 3 is 6.\n"
          ]
        }
      ]
    },
    {
      "cell_type": "code",
      "source": [],
      "metadata": {
        "id": "Hw6FivFRXYHx"
      },
      "execution_count": null,
      "outputs": []
    }
  ]
}