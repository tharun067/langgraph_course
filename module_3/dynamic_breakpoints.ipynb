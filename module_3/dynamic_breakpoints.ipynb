{
  "nbformat": 4,
  "nbformat_minor": 0,
  "metadata": {
    "colab": {
      "provenance": []
    },
    "kernelspec": {
      "name": "python3",
      "display_name": "Python 3"
    },
    "language_info": {
      "name": "python"
    }
  },
  "cells": [
    {
      "cell_type": "markdown",
      "source": [
        "# Dynamic breakpoints\n",
        "\n",
        "## Review\n",
        "\n",
        "We discussed motivations for human-in-the-loop:\n",
        "\n",
        "(1) `Approval` - We can interrupt our agent, surface state to a user, and allow the user to accept an action\n",
        "\n",
        "(2) `Debugging` - We can rewind the graph to reproduce or avoid issues\n",
        "\n",
        "(3) `Editing` - You can modify the state\n",
        "\n",
        "We covered breakpoints as a general way to stop the graph at specific steps, which enables use-cases like `Approval`\n",
        "\n",
        "We also showed how to edit graph state, and introduce human feedback.\n",
        "\n",
        "## Goals\n",
        "\n",
        "Breakpoints are set by the developer on a specific node during graph compilation.\n",
        "\n",
        "But, sometimes it is helpful to allow the graph **dynamically interrupt** itself!\n",
        "\n",
        "This is an internal breakpoint, and [can be achieved using `NodeInterrupt`](https://langchain-ai.github.io/langgraph/how-tos/human_in_the_loop/dynamic_breakpoints/#run-the-graph-with-dynamic-interrupt).\n",
        "\n",
        "This has a few specific benefits:\n",
        "\n",
        "(1) you can do it conditionally (from inside a node based on developer-defined logic).\n",
        "\n",
        "(2) you can communicate to the user why its interrupted (by passing whatever you want to the `NodeInterrupt`).\n",
        "\n",
        "Let's create a graph where a `NodeInterrupt` is thrown based upon length of the input."
      ],
      "metadata": {
        "id": "7ORjcAn4xNTI"
      }
    },
    {
      "cell_type": "code",
      "execution_count": 1,
      "metadata": {
        "id": "bmKW4n_wxGsa"
      },
      "outputs": [],
      "source": [
        "%%capture --no-stderr\n",
        "%pip install --quiet -U langgraph langgraph_sdk"
      ]
    },
    {
      "cell_type": "code",
      "source": [
        "%pip install -qU \"langchain[google-genai]\""
      ],
      "metadata": {
        "colab": {
          "base_uri": "https://localhost:8080/"
        },
        "id": "EDSsPmhlxjSA",
        "outputId": "fe5e9831-f9f7-4e86-f28e-1ad9aaae6389"
      },
      "execution_count": 2,
      "outputs": [
        {
          "output_type": "stream",
          "name": "stdout",
          "text": [
            "\u001b[?25l   \u001b[90m━━━━━━━━━━━━━━━━━━━━━━━━━━━━━━━━━━━━━━━━\u001b[0m \u001b[32m0.0/49.4 kB\u001b[0m \u001b[31m?\u001b[0m eta \u001b[36m-:--:--\u001b[0m\r\u001b[2K   \u001b[90m━━━━━━━━━━━━━━━━━━━━━━━━━━━━━━━━━━━━━━━━\u001b[0m \u001b[32m49.4/49.4 kB\u001b[0m \u001b[31m3.1 MB/s\u001b[0m eta \u001b[36m0:00:00\u001b[0m\n",
            "\u001b[?25h\u001b[?25l   \u001b[90m━━━━━━━━━━━━━━━━━━━━━━━━━━━━━━━━━━━━━━━━\u001b[0m \u001b[32m0.0/444.0 kB\u001b[0m \u001b[31m?\u001b[0m eta \u001b[36m-:--:--\u001b[0m\r\u001b[2K   \u001b[90m━━━━━━━━━━━━━━━━━━━━━━━━━━━━━━━━━━━━━━━━\u001b[0m \u001b[32m444.0/444.0 kB\u001b[0m \u001b[31m19.0 MB/s\u001b[0m eta \u001b[36m0:00:00\u001b[0m\n",
            "\u001b[?25h\u001b[?25l   \u001b[90m━━━━━━━━━━━━━━━━━━━━━━━━━━━━━━━━━━━━━━━━\u001b[0m \u001b[32m0.0/1.4 MB\u001b[0m \u001b[31m?\u001b[0m eta \u001b[36m-:--:--\u001b[0m\r\u001b[2K   \u001b[90m━━━━━━━━━━━━━━━━━━━━━━━━━━━━━━━━━━━━━━━━\u001b[0m \u001b[32m1.4/1.4 MB\u001b[0m \u001b[31m53.5 MB/s\u001b[0m eta \u001b[36m0:00:00\u001b[0m\n",
            "\u001b[?25h\u001b[31mERROR: pip's dependency resolver does not currently take into account all the packages that are installed. This behaviour is the source of the following dependency conflicts.\n",
            "google-generativeai 0.8.5 requires google-ai-generativelanguage==0.6.15, but you have google-ai-generativelanguage 0.6.18 which is incompatible.\u001b[0m\u001b[31m\n",
            "\u001b[0m"
          ]
        }
      ]
    },
    {
      "cell_type": "code",
      "source": [
        "from IPython.display import Image, display\n",
        "from typing_extensions import TypedDict\n",
        "from langgraph.checkpoint.memory import MemorySaver\n",
        "from langgraph.errors import NodeInterrupt\n",
        "from langgraph.graph import START, END, StateGraph\n",
        "\n",
        "class State(TypedDict):\n",
        "    input: str\n",
        "def step_1(state: State) -> State:\n",
        "  print(\"---Step 1---\")\n",
        "  return state\n",
        "\n",
        "def step_2(state: State) -> State:\n",
        "  # Let's Optionally raise a NodeInterrupt if the length of the input is longer than 5 characters\n",
        "  if len(state[\"input\"]) > 5:\n",
        "    raise NodeInterrupt(f\"Received input that is longer than 5 characters: {state['input']}\")\n",
        "  print(\"---Step 2---\")\n",
        "  return state\n",
        "\n",
        "def step_3(state: State) -> State:\n",
        "  print(\"---Step 3---\")\n",
        "  return state\n",
        "\n",
        "builder = StateGraph(State)\n",
        "builder.add_node(\"step_1\",step_1)\n",
        "builder.add_node(\"step_2\",step_2)\n",
        "builder.add_node(\"step_3\",step_3)\n",
        "builder.add_edge(START,\"step_1\")\n",
        "builder.add_edge(\"step_1\",\"step_2\")\n",
        "builder.add_edge(\"step_2\",\"step_3\")\n",
        "builder.add_edge(\"step_3\",END)\n",
        "\n",
        "# Set up Memory\n",
        "memory = MemorySaver()\n",
        "\n",
        "# Complie graph\n",
        "graph = builder.compile(checkpointer=memory)\n",
        "\n",
        "# View\n",
        "display(Image(graph.get_graph().draw_mermaid_png()))"
      ],
      "metadata": {
        "colab": {
          "base_uri": "https://localhost:8080/",
          "height": 449
        },
        "id": "iR-UhCtvxrtG",
        "outputId": "1aaed723-4a28-4981-ef14-da8b85d480bd"
      },
      "execution_count": 3,
      "outputs": [
        {
          "output_type": "display_data",
          "data": {
            "image/png": "[encoded data removed]",
            "text/plain": [
              "<IPython.core.display.Image object>"
            ]
          },
          "metadata": {}
        }
      ]
    },
    {
      "cell_type": "markdown",
      "source": [
        "Let's run the graph with an input that's longer than 5 characters."
      ],
      "metadata": {
        "id": "UXZfXB-K0LA5"
      }
    },
    {
      "cell_type": "code",
      "source": [
        "initial_input = {\"input\":\"Hello world\"}\n",
        "thread_config = {\"configurable\":{\"thread_id\":\"1\"}}\n",
        "\n",
        "# Run the graph until the first interruption\n",
        "for event in graph.stream(initial_input, thread_config, stream_mode=\"values\"):\n",
        "  print(event)"
      ],
      "metadata": {
        "colab": {
          "base_uri": "https://localhost:8080/"
        },
        "id": "aBGnPh4m0FH7",
        "outputId": "9b9d80e5-7811-452e-8c78-a301660deba1"
      },
      "execution_count": 5,
      "outputs": [
        {
          "output_type": "stream",
          "name": "stdout",
          "text": [
            "{'input': 'Hello world'}\n",
            "---Step 1---\n",
            "{'input': 'Hello world'}\n"
          ]
        },
        {
          "output_type": "stream",
          "name": "stderr",
          "text": [
            "/tmp/ipython-input-99454128.py:16: LangGraphDeprecatedSinceV10: NodeInterrupt is deprecated. Please use `langgraph.types.interrupt` instead. Deprecated in LangGraph V1.0 to be removed in V2.0.\n",
            "  raise NodeInterrupt(f\"Received input that is longer than 5 characters: {state['input']}\")\n"
          ]
        }
      ]
    },
    {
      "cell_type": "markdown",
      "source": [
        "If we inspect the graph state at this point, we the node set to execute next (`step_2`).\n"
      ],
      "metadata": {
        "id": "Ew3gTg3F0uwB"
      }
    },
    {
      "cell_type": "code",
      "source": [
        "state = graph.get_state(thread_config)\n",
        "print(state.next)"
      ],
      "metadata": {
        "colab": {
          "base_uri": "https://localhost:8080/"
        },
        "id": "96gLkQvp0XCp",
        "outputId": "2f590ace-c38b-40a1-a989-c484f43ebab9"
      },
      "execution_count": 7,
      "outputs": [
        {
          "output_type": "stream",
          "name": "stdout",
          "text": [
            "('step_2',)\n"
          ]
        }
      ]
    },
    {
      "cell_type": "markdown",
      "source": [
        "We can see that the `Interrupt` is logged to state."
      ],
      "metadata": {
        "id": "xhjXlaOU07LJ"
      }
    },
    {
      "cell_type": "code",
      "source": [
        "print(state.tasks)"
      ],
      "metadata": {
        "colab": {
          "base_uri": "https://localhost:8080/"
        },
        "id": "koFHAmWH01Af",
        "outputId": "873d4ece-a047-4047-9c1f-0669fe7814e5"
      },
      "execution_count": 8,
      "outputs": [
        {
          "output_type": "stream",
          "name": "stdout",
          "text": [
            "(PregelTask(id='a046cf05-6c0f-b713-a65e-98fda85fb778', name='step_2', path=('__pregel_pull', 'step_2'), error=None, interrupts=(Interrupt(value='Received input that is longer than 5 characters: Hello world', id='placeholder-id'),), state=None, result=None),)\n"
          ]
        }
      ]
    },
    {
      "cell_type": "markdown",
      "source": [
        "We can try to resume the graph from the breakpoint.\n",
        "\n",
        "But, this just re-runs the same node!\n",
        "\n",
        "Unless state is changed we will be stuck here."
      ],
      "metadata": {
        "id": "gLj1WYdg1Hf-"
      }
    },
    {
      "cell_type": "code",
      "source": [
        "for event in graph.stream(None, thread_config, stream_mode=\"values\"):\n",
        "    print(event)"
      ],
      "metadata": {
        "colab": {
          "base_uri": "https://localhost:8080/"
        },
        "id": "QPtmEiDd0_AS",
        "outputId": "6f827815-e73c-49df-b622-098873920240"
      },
      "execution_count": 9,
      "outputs": [
        {
          "output_type": "stream",
          "name": "stdout",
          "text": [
            "{'input': 'Hello world'}\n"
          ]
        },
        {
          "output_type": "stream",
          "name": "stderr",
          "text": [
            "/tmp/ipython-input-99454128.py:16: LangGraphDeprecatedSinceV10: NodeInterrupt is deprecated. Please use `langgraph.types.interrupt` instead. Deprecated in LangGraph V1.0 to be removed in V2.0.\n",
            "  raise NodeInterrupt(f\"Received input that is longer than 5 characters: {state['input']}\")\n"
          ]
        }
      ]
    },
    {
      "cell_type": "code",
      "source": [
        "state = graph.get_state(thread_config)\n",
        "print(state.next)"
      ],
      "metadata": {
        "colab": {
          "base_uri": "https://localhost:8080/"
        },
        "id": "N47jDfba1J1K",
        "outputId": "d400aee2-6bc4-4146-fa5e-d7239f2a773d"
      },
      "execution_count": 10,
      "outputs": [
        {
          "output_type": "stream",
          "name": "stdout",
          "text": [
            "('step_2',)\n"
          ]
        }
      ]
    },
    {
      "cell_type": "markdown",
      "source": [
        "Now, we can update state."
      ],
      "metadata": {
        "id": "21bxA1HQ1Na_"
      }
    },
    {
      "cell_type": "code",
      "source": [
        "graph.update_state(\n",
        "    thread_config,\n",
        "    {\"input\":\"hi\"},\n",
        ")"
      ],
      "metadata": {
        "colab": {
          "base_uri": "https://localhost:8080/"
        },
        "id": "x8EXMSUe1Lau",
        "outputId": "7d93b077-0122-4dd1-87e1-f4f5d6fa250e"
      },
      "execution_count": 11,
      "outputs": [
        {
          "output_type": "execute_result",
          "data": {
            "text/plain": [
              "{'configurable': {'thread_id': '1',\n",
              "  'checkpoint_ns': '',\n",
              "  'checkpoint_id': '1f084d4f-1567-67e5-8002-d6cce8a891fd'}}"
            ]
          },
          "metadata": {},
          "execution_count": 11
        }
      ]
    },
    {
      "cell_type": "code",
      "source": [
        "for event in graph.stream(None, thread_config, stream_mode=\"values\"):\n",
        "    print(event)"
      ],
      "metadata": {
        "colab": {
          "base_uri": "https://localhost:8080/"
        },
        "id": "PuNBB7IX1Tsg",
        "outputId": "7fd797d7-f4a8-41c7-ff1d-e0ccdddf58b7"
      },
      "execution_count": 12,
      "outputs": [
        {
          "output_type": "stream",
          "name": "stdout",
          "text": [
            "{'input': 'hi'}\n",
            "---Step 2---\n",
            "{'input': 'hi'}\n",
            "---Step 3---\n",
            "{'input': 'hi'}\n"
          ]
        }
      ]
    },
    {
      "cell_type": "code",
      "source": [],
      "metadata": {
        "id": "IqlHv3YS1XPo"
      },
      "execution_count": null,
      "outputs": []
    }
  ]
}