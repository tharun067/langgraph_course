{
  "nbformat": 4,
  "nbformat_minor": 0,
  "metadata": {
    "colab": {
      "provenance": []
    },
    "kernelspec": {
      "name": "python3",
      "display_name": "Python 3"
    },
    "language_info": {
      "name": "python"
    }
  },
  "cells": [
    {
      "cell_type": "markdown",
      "source": [
        "# Streaming\n",
        "\n",
        "## Review\n",
        "\n",
        "In module 2, covered a few ways to customize graph state and memory.\n",
        "\n",
        "We built up to a Chatbot with external memory that can sustain long-running conversations.\n",
        "\n",
        "## Goals\n",
        "\n",
        "This module will dive into `human-in-the-loop`, which builds on memory and allows users to interact directly with graphs in various ways.\n",
        "\n",
        "To set the stage for `human-in-the-loop`, we'll first dive into streaming, which provides several ways to visualize graph output (e.g., node state or chat model tokens) over the course of execution."
      ],
      "metadata": {
        "id": "kuXgRWE8JRmb"
      }
    },
    {
      "cell_type": "code",
      "execution_count": 1,
      "metadata": {
        "id": "pRUXmP98JJZe"
      },
      "outputs": [],
      "source": [
        "%%capture --no-stderr\n",
        "%pip install --quiet -U langgraph langgraph_sdk"
      ]
    },
    {
      "cell_type": "code",
      "source": [
        "%pip install -qU \"langchain[google-genai]\""
      ],
      "metadata": {
        "colab": {
          "base_uri": "https://localhost:8080/"
        },
        "id": "yPnKKQ-rJfEr",
        "outputId": "e338e821-6fad-4e24-942c-90b49c3d738d"
      },
      "execution_count": 2,
      "outputs": [
        {
          "output_type": "stream",
          "name": "stdout",
          "text": [
            "\u001b[2K   \u001b[90m━━━━━━━━━━━━━━━━━━━━━━━━━━━━━━━━━━━━━━━━\u001b[0m \u001b[32m49.4/49.4 kB\u001b[0m \u001b[31m608.2 kB/s\u001b[0m eta \u001b[36m0:00:00\u001b[0m\n",
            "\u001b[2K   \u001b[90m━━━━━━━━━━━━━━━━━━━━━━━━━━━━━━━━━━━━━━━━\u001b[0m \u001b[32m444.0/444.0 kB\u001b[0m \u001b[31m3.1 MB/s\u001b[0m eta \u001b[36m0:00:00\u001b[0m\n",
            "\u001b[2K   \u001b[90m━━━━━━━━━━━━━━━━━━━━━━━━━━━━━━━━━━━━━━━━\u001b[0m \u001b[32m1.4/1.4 MB\u001b[0m \u001b[31m13.1 MB/s\u001b[0m eta \u001b[36m0:00:00\u001b[0m\n",
            "\u001b[?25h\u001b[31mERROR: pip's dependency resolver does not currently take into account all the packages that are installed. This behaviour is the source of the following dependency conflicts.\n",
            "google-generativeai 0.8.5 requires google-ai-generativelanguage==0.6.15, but you have google-ai-generativelanguage 0.6.18 which is incompatible.\u001b[0m\u001b[31m\n",
            "\u001b[0m"
          ]
        }
      ]
    },
    {
      "cell_type": "markdown",
      "source": [
        "## Streaming\n",
        "\n",
        "LangGraph is built with [first class support for streaming](https://langchain-ai.github.io/langgraph/concepts/low_level/#streaming).\n",
        "\n",
        "Let's set up our Chatbot from Module 2, and show various way to stream outputs from the graph during execution."
      ],
      "metadata": {
        "id": "dRwNoXfWJn8v"
      }
    },
    {
      "cell_type": "code",
      "source": [
        "import os, getpass\n",
        "\n",
        "def _set_env(var: str):\n",
        "    if not os.environ.get(var):\n",
        "        os.environ[var] = getpass.getpass(f\"{var}: \")\n",
        "\n",
        "_set_env(\"GOOGLE_API_KEY\")"
      ],
      "metadata": {
        "colab": {
          "base_uri": "https://localhost:8080/"
        },
        "id": "3ESqvUQLJkD7",
        "outputId": "b935d8dd-ad65-4e8e-edce-0a30d4bd08fd"
      },
      "execution_count": 3,
      "outputs": [
        {
          "name": "stdout",
          "output_type": "stream",
          "text": [
            "GOOGLE_API_KEY: ··········\n"
          ]
        }
      ]
    },
    {
      "cell_type": "markdown",
      "source": [
        "Note that we use `RunnableConfig` with `call_model` to enable token-wise streaming. This is [only needed with python < 3.11](https://langchain-ai.github.io/langgraph/how-tos/streaming-tokens/). We include in case you are running this notebook in CoLab, which will use python 3.x."
      ],
      "metadata": {
        "id": "y8tISybQJ3cU"
      }
    },
    {
      "cell_type": "code",
      "source": [
        "from IPython.display import Image, display\n",
        "\n",
        "from langchain_google_genai import ChatGoogleGenerativeAI\n",
        "from langchain_core.messages import SystemMessage, HumanMessage, RemoveMessage\n",
        "from langchain_core.runnables import RunnableConfig\n",
        "\n",
        "from langgraph.checkpoint.memory import MemorySaver\n",
        "from langgraph.graph import StateGraph, START, END\n",
        "from langgraph.graph import MessagesState\n",
        "\n",
        "# LLM\n",
        "model = ChatGoogleGenerativeAI(model=\"gemini-2.5-flash\", temperature=0)\n",
        "\n",
        "# State\n",
        "class State(MessagesState):\n",
        "    summary: str\n",
        "\n",
        "# Define the logic to call the model\n",
        "def call_model(state: State, config: RunnableConfig):\n",
        "\n",
        "    # Get summary if it exists\n",
        "    summary = state.get(\"summary\", \"\")\n",
        "\n",
        "    # If there is summary, then we add it\n",
        "    if summary:\n",
        "\n",
        "        # Add summary to system message\n",
        "        system_message = f\"Summary of conversation earlier: {summary}\"\n",
        "\n",
        "        # Append summary to any newer messages\n",
        "        messages = [SystemMessage(content=system_message)] + state[\"messages\"]\n",
        "\n",
        "    else:\n",
        "        messages = state[\"messages\"]\n",
        "\n",
        "    response = model.invoke(messages, config)\n",
        "    return {\"messages\": response}\n",
        "\n",
        "def summarize_conversation(state: State):\n",
        "\n",
        "    # First, we get any existing summary\n",
        "    summary = state.get(\"summary\", \"\")\n",
        "\n",
        "    # Create our summarization prompt\n",
        "    if summary:\n",
        "\n",
        "        # A summary already exists\n",
        "        summary_message = (\n",
        "            f\"This is summary of the conversation to date: {summary}\\n\\n\"\n",
        "            \"Extend the summary by taking into account the new messages above:\"\n",
        "        )\n",
        "\n",
        "    else:\n",
        "        summary_message = \"Create a summary of the conversation above:\"\n",
        "\n",
        "    # Add prompt to our history\n",
        "    messages = state[\"messages\"] + [HumanMessage(content=summary_message)]\n",
        "    response = model.invoke(messages)\n",
        "\n",
        "    # Delete all but the 2 most recent messages\n",
        "    delete_messages = [RemoveMessage(id=m.id) for m in state[\"messages\"][:-2]]\n",
        "    return {\"summary\": response.content, \"messages\": delete_messages}\n",
        "\n",
        "# Determine whether to end or summarize the conversation\n",
        "def should_continue(state: State):\n",
        "\n",
        "    \"\"\"Return the next node to execute.\"\"\"\n",
        "\n",
        "    messages = state[\"messages\"]\n",
        "\n",
        "    # If there are more than six messages, then we summarize the conversation\n",
        "    if len(messages) > 6:\n",
        "        return \"summarize_conversation\"\n",
        "\n",
        "    # Otherwise we can just end\n",
        "    return END\n",
        "\n",
        "# Define a new graph\n",
        "workflow = StateGraph(State)\n",
        "workflow.add_node(\"conversation\", call_model)\n",
        "workflow.add_node(summarize_conversation)\n",
        "\n",
        "# Set the entrypoint as conversation\n",
        "workflow.add_edge(START, \"conversation\")\n",
        "workflow.add_conditional_edges(\"conversation\", should_continue)\n",
        "workflow.add_edge(\"summarize_conversation\", END)\n",
        "\n",
        "# Compile\n",
        "memory = MemorySaver()\n",
        "graph = workflow.compile(checkpointer=memory)\n",
        "display(Image(graph.get_graph().draw_mermaid_png()))"
      ],
      "metadata": {
        "colab": {
          "base_uri": "https://localhost:8080/",
          "height": 281
        },
        "id": "Q3nDJwOAJxZD",
        "outputId": "833486c1-abde-4533-8bb9-b694a86abc11"
      },
      "execution_count": 4,
      "outputs": [
        {
          "output_type": "display_data",
          "data": {
            "image/png": "[encoded data removed]",
            "text/plain": [
              "<IPython.core.display.Image object>"
            ]
          },
          "metadata": {}
        }
      ]
    },
    {
      "cell_type": "markdown",
      "source": [
        "### Streaming full state\n",
        "\n",
        "Now, let's talk about ways to [stream our graph state](https://langchain-ai.github.io/langgraph/concepts/low_level/#streaming).\n",
        "\n",
        "`.stream` and `.astream` are sync and async methods for streaming back results.\n",
        "\n",
        "LangGraph supports a few [different streaming modes](https://langchain-ai.github.io/langgraph/how-tos/stream-values/) for [graph state](https://langchain-ai.github.io/langgraph/how-tos/stream-values/):\n",
        "\n",
        "* `values`: This streams the full state of the graph after each node is called.\n",
        "* `updates`: This streams updates to the state of the graph after each node is called.\n",
        "\n",
        "![values_vs_updates.png](https://cdn.prod.website-files.com/65b8cd72835ceeacd4449a53/66dbaf892d24625a201744e5_streaming1.png)\n",
        "\n",
        "Let's look at `stream_mode=\"updates\"`.\n",
        "\n",
        "Because we stream with `updates`, we only see updates to the state after node in the graph is run.\n",
        "\n",
        "Each `chunk` is a dict with `node_name` as the key and the updated state as the value."
      ],
      "metadata": {
        "id": "JwEPThdkKf5o"
      }
    },
    {
      "cell_type": "code",
      "source": [
        "# Create a thread\n",
        "config = {\"configurable\":{\"thread_id\":\"1\"}}\n",
        "# Start conversation\n",
        "for chunk in graph.stream({\"messages\":[HumanMessage(content=\"hi! I'm Tharun\")]},config,stream_mode=\"updates\"):\n",
        "  print(chunk)"
      ],
      "metadata": {
        "colab": {
          "base_uri": "https://localhost:8080/"
        },
        "id": "P_xqPAKAKbgY",
        "outputId": "859539f5-fc65-447a-b700-1a0648a7dcdd"
      },
      "execution_count": 5,
      "outputs": [
        {
          "output_type": "stream",
          "name": "stdout",
          "text": [
            "{'conversation': {'messages': AIMessage(content=\"Hi Tharun! Nice to meet you.\\n\\nI'm an AI assistant. How can I help you today?\", additional_kwargs={}, response_metadata={'prompt_feedback': {'block_reason': 0, 'safety_ratings': []}, 'finish_reason': 'STOP', 'model_name': 'gemini-2.5-flash', 'safety_ratings': []}, id='run--5a160a39-0aed-4fb4-aebe-84e6c5bffdc4-0', usage_metadata={'input_tokens': 8, 'output_tokens': 328, 'total_tokens': 336, 'input_token_details': {'cache_read': 0}, 'output_token_details': {'reasoning': 304}})}}\n"
          ]
        }
      ]
    },
    {
      "cell_type": "markdown",
      "source": [
        "Let's now just print the state update"
      ],
      "metadata": {
        "id": "xtMmdtYKLDh1"
      }
    },
    {
      "cell_type": "code",
      "source": [
        "for chunk in graph.stream({\"messages\":[HumanMessage(content=\"hi! I'm Tharun\")]},config,stream_mode=\"updates\"):\n",
        "  chunk[\"conversation\"][\"messages\"].pretty_print()"
      ],
      "metadata": {
        "colab": {
          "base_uri": "https://localhost:8080/"
        },
        "id": "S2jUXPbPK_LB",
        "outputId": "ce9c5a19-2d39-49c1-d65d-7e52f990eb5c"
      },
      "execution_count": 6,
      "outputs": [
        {
          "output_type": "stream",
          "name": "stdout",
          "text": [
            "==================================\u001b[1m Ai Message \u001b[0m==================================\n",
            "\n",
            "Hi Tharun! It's good to hear from you again.\n",
            "\n",
            "How can I assist you today?\n"
          ]
        }
      ]
    },
    {
      "cell_type": "markdown",
      "source": [
        "Now, we can see `stream_mode=\"values\"`.\n",
        "\n",
        "This is the `full state` of the graph after the `conversation` node is called."
      ],
      "metadata": {
        "id": "xR7GzHYRLY-r"
      }
    },
    {
      "cell_type": "code",
      "source": [
        "# Start conversation, again\n",
        "config = {\"configurable\":{\"thread_id\":\"2\"}}\n",
        "# Start conversation\n",
        "input_message = HumanMessage(content=\"hi! I'm Tharun\")\n",
        "for event in graph.stream({\"messages\":[input_message]},config,stream_mode=\"values\"):\n",
        "  for m in event['messages']:\n",
        "    m.pretty_print()\n",
        "  print(\"---\"*25)"
      ],
      "metadata": {
        "colab": {
          "base_uri": "https://localhost:8080/"
        },
        "id": "PowLfyEVLP8E",
        "outputId": "6a815cf2-6418-4a80-b936-b6fa56e9cc2c"
      },
      "execution_count": 7,
      "outputs": [
        {
          "output_type": "stream",
          "name": "stdout",
          "text": [
            "================================\u001b[1m Human Message \u001b[0m=================================\n",
            "\n",
            "hi! I'm Tharun\n",
            "---------------------------------------------------------------------------\n",
            "================================\u001b[1m Human Message \u001b[0m=================================\n",
            "\n",
            "hi! I'm Tharun\n",
            "==================================\u001b[1m Ai Message \u001b[0m==================================\n",
            "\n",
            "Hi Tharun! Nice to meet you.\n",
            "\n",
            "I'm an AI assistant, here to help you with whatever you need. How can I assist you today?\n",
            "---------------------------------------------------------------------------\n"
          ]
        }
      ]
    },
    {
      "cell_type": "markdown",
      "source": [
        "### Streaming tokens\n",
        "\n",
        "We often want to stream more than graph state.\n",
        "\n",
        "In particular, with chat model calls it is common to stream the tokens as they are generated.\n",
        "\n",
        "We can do this [using the `.astream_events` method](https://langchain-ai.github.io/langgraph/how-tos/streaming-from-final-node/#stream-outputs-from-the-final-node), which streams back events as they happen inside nodes!\n",
        "\n",
        "Each event is a dict with a few keys:\n",
        "\n",
        "* `event`: This is the type of event that is being emitted.\n",
        "* `name`: This is the name of event.\n",
        "* `data`: This is the data associated with the event.\n",
        "* `metadata`: Contains`langgraph_node`, the node emitting the event.\n",
        "\n",
        "Let's have a look."
      ],
      "metadata": {
        "id": "BXbThtnhMLkJ"
      }
    },
    {
      "cell_type": "code",
      "source": [
        "config = {\"configurable\":{\"thread_id\":\"3\"}}\n",
        "input_message = HumanMessage(content=\"Tell me about the CSK IPL team\")\n",
        "async for event in graph.astream_events({\"messages\":[input_message]},config,version=\"v2\"):\n",
        "  print(f\"Node: {event['metadata'].get('langgraph_node','')}.Type: {event['event']}. Name: {event['name']}\")"
      ],
      "metadata": {
        "colab": {
          "base_uri": "https://localhost:8080/"
        },
        "id": "_Z3dA3pwL_W_",
        "outputId": "941a87fa-a4c1-44e6-bf50-2b9e9cfb02dc"
      },
      "execution_count": 8,
      "outputs": [
        {
          "output_type": "stream",
          "name": "stdout",
          "text": [
            "Node: .Type: on_chain_start. Name: LangGraph\n",
            "Node: conversation.Type: on_chain_start. Name: conversation\n",
            "Node: conversation.Type: on_chat_model_start. Name: ChatGoogleGenerativeAI\n",
            "Node: conversation.Type: on_chat_model_stream. Name: ChatGoogleGenerativeAI\n",
            "Node: conversation.Type: on_chat_model_stream. Name: ChatGoogleGenerativeAI\n",
            "Node: conversation.Type: on_chat_model_stream. Name: ChatGoogleGenerativeAI\n",
            "Node: conversation.Type: on_chat_model_stream. Name: ChatGoogleGenerativeAI\n",
            "Node: conversation.Type: on_chat_model_stream. Name: ChatGoogleGenerativeAI\n",
            "Node: conversation.Type: on_chat_model_stream. Name: ChatGoogleGenerativeAI\n",
            "Node: conversation.Type: on_chat_model_stream. Name: ChatGoogleGenerativeAI\n",
            "Node: conversation.Type: on_chat_model_stream. Name: ChatGoogleGenerativeAI\n",
            "Node: conversation.Type: on_chat_model_stream. Name: ChatGoogleGenerativeAI\n",
            "Node: conversation.Type: on_chat_model_stream. Name: ChatGoogleGenerativeAI\n",
            "Node: conversation.Type: on_chat_model_stream. Name: ChatGoogleGenerativeAI\n",
            "Node: conversation.Type: on_chat_model_stream. Name: ChatGoogleGenerativeAI\n",
            "Node: conversation.Type: on_chat_model_stream. Name: ChatGoogleGenerativeAI\n",
            "Node: conversation.Type: on_chat_model_stream. Name: ChatGoogleGenerativeAI\n",
            "Node: conversation.Type: on_chat_model_stream. Name: ChatGoogleGenerativeAI\n",
            "Node: conversation.Type: on_chat_model_stream. Name: ChatGoogleGenerativeAI\n",
            "Node: conversation.Type: on_chat_model_stream. Name: ChatGoogleGenerativeAI\n",
            "Node: conversation.Type: on_chat_model_stream. Name: ChatGoogleGenerativeAI\n",
            "Node: conversation.Type: on_chat_model_stream. Name: ChatGoogleGenerativeAI\n",
            "Node: conversation.Type: on_chat_model_end. Name: ChatGoogleGenerativeAI\n",
            "Node: conversation.Type: on_chain_start. Name: should_continue\n",
            "Node: conversation.Type: on_chain_end. Name: should_continue\n",
            "Node: conversation.Type: on_chain_stream. Name: conversation\n",
            "Node: conversation.Type: on_chain_end. Name: conversation\n",
            "Node: .Type: on_chain_stream. Name: LangGraph\n",
            "Node: .Type: on_chain_end. Name: LangGraph\n"
          ]
        }
      ]
    },
    {
      "cell_type": "markdown",
      "source": [
        "The central point is that tokens from chat models within your graph have the `on_chat_model_stream` type.\n",
        "\n",
        "We can use `event['metadata']['langgraph_node']` to select the node to stream from.\n",
        "\n",
        "And we can use `event['data']` to get the actual data for each event, which in this case is an `AIMessageChunk`."
      ],
      "metadata": {
        "id": "3eWK8FZUNFv4"
      }
    },
    {
      "cell_type": "code",
      "source": [
        "node_to_stream = 'conversation'\n",
        "config = {\"configurable\": {\"thread_id\": \"4\"}}\n",
        "input_message = HumanMessage(content=\"Tell me about the CSK IPL team\")\n",
        "async for event in graph.astream_events({\"messages\": [input_message]}, config, version=\"v2\"):\n",
        "    # Get chat model tokens from a particular node\n",
        "    if event[\"event\"] == \"on_chat_model_stream\" and event['metadata'].get('langgraph_node','') == node_to_stream:\n",
        "        print(event[\"data\"])"
      ],
      "metadata": {
        "colab": {
          "base_uri": "https://localhost:8080/"
        },
        "id": "YBSRTRnUM6F_",
        "outputId": "6e8248e8-5450-4da9-9994-634bcfd6e353"
      },
      "execution_count": 9,
      "outputs": [
        {
          "output_type": "stream",
          "name": "stdout",
          "text": [
            "{'chunk': AIMessageChunk(content=\"The Chennai Super Kings (CSK) are one of the most successful and beloved franchises in the Indian Premier League (IPL). Here's a detailed look at the team:\\n\\n**1. Franchise Overview:**\\n\\n*   **Full Name:** Chennai Super\", additional_kwargs={}, response_metadata={'safety_ratings': []}, id='run--7c9a6e68-a1dd-4a9a-a560-60b92320ba4b', usage_metadata={'input_tokens': 8, 'output_tokens': 1317, 'total_tokens': 1325, 'input_token_details': {'cache_read': 0}, 'output_token_details': {'reasoning': 1266}})}\n",
            "{'chunk': AIMessageChunk(content=' Kings\\n*   **City:** Chennai, Tamil Nadu\\n*   **Owner:** Chennai Super Kings Cricket Ltd. (a subsidiary of India Cements, led by N. Srinivasan)\\n*   **Home Ground:** M. A', additional_kwargs={}, response_metadata={'safety_ratings': []}, id='run--7c9a6e68-a1dd-4a9a-a560-60b92320ba4b', usage_metadata={'input_token_details': {'cache_read': 0}, 'output_tokens': 48, 'input_tokens': 0, 'total_tokens': 48, 'output_token_details': {'reasoning': 0}})}\n",
            "{'chunk': AIMessageChunk(content='. Chidambaram Stadium (Chepauk), Chennai\\n*   **Team Colors:** Primarily yellow, with blue accents.\\n*   **Mascot:** A roaring lion, often associated with the \"Whistle Podu\"', additional_kwargs={}, response_metadata={'safety_ratings': []}, id='run--7c9a6e68-a1dd-4a9a-a560-60b92320ba4b', usage_metadata={'input_token_details': {'cache_read': 0}, 'output_tokens': 48, 'input_tokens': 0, 'total_tokens': 48, 'output_token_details': {'reasoning': 0}})}\n",
            "{'chunk': AIMessageChunk(content=' (Whistle Up!) slogan.\\n*   **Captain:** MS Dhoni (since the inception, except for a brief period in 2022 when Ravindra Jadeja captained).\\n*   **Head Coach:** Stephen Fleming (a', additional_kwargs={}, response_metadata={'safety_ratings': []}, id='run--7c9a6e68-a1dd-4a9a-a560-60b92320ba4b', usage_metadata={'input_token_details': {'cache_read': 0}, 'output_tokens': 49, 'input_tokens': 0, 'total_tokens': 49, 'output_token_details': {'reasoning': 0}})}\n",
            "{'chunk': AIMessageChunk(content=' long-standing and highly successful partnership with Dhoni).\\n\\n**2. Key Achievements & Records:**\\n\\n*   **IPL Titles:** 5 (2010, 2011, 2018, 202', additional_kwargs={}, response_metadata={'safety_ratings': []}, id='run--7c9a6e68-a1dd-4a9a-a560-60b92320ba4b', usage_metadata={'input_token_details': {'cache_read': 0}, 'output_tokens': 50, 'input_tokens': 0, 'total_tokens': 50, 'output_token_details': {'reasoning': 0}})}\n",
            "{'chunk': AIMessageChunk(content='1, 2023) – Joint-most successful team in IPL history, alongside Mumbai Indians.\\n*   **Champions League T20 Titles:** 2 (2010, 2014)\\n*   ', additional_kwargs={}, response_metadata={'safety_ratings': []}, id='run--7c9a6e68-a1dd-4a9a-a560-60b92320ba4b', usage_metadata={'input_token_details': {'cache_read': 0}, 'output_tokens': 49, 'input_tokens': 0, 'total_tokens': 49, 'output_token_details': {'reasoning': 0}})}\n",
            "{'chunk': AIMessageChunk(content=\"**Consistency:** CSK holds the record for the most playoff appearances (12 out of 14 seasons played) and the most IPL final appearances (10). They have never finished outside the top 4 in any season they've participated\", additional_kwargs={}, response_metadata={'safety_ratings': []}, id='run--7c9a6e68-a1dd-4a9a-a560-60b92320ba4b', usage_metadata={'input_token_details': {'cache_read': 0}, 'output_tokens': 49, 'input_tokens': 0, 'total_tokens': 49, 'output_token_details': {'reasoning': 0}})}\n",
            "{'chunk': AIMessageChunk(content=' in.\\n\\n**3. Team Philosophy & Playing Style:**\\n\\n*   **Experience Over Youth:** CSK has often been dubbed \"Dad\\'s Army\" due to their preference for experienced players, even those in the twilight of their careers.', additional_kwargs={}, response_metadata={'safety_ratings': []}, id='run--7c9a6e68-a1dd-4a9a-a560-60b92320ba4b', usage_metadata={'input_token_details': {'cache_read': 0}, 'output_tokens': 48, 'input_tokens': 0, 'total_tokens': 48, 'output_token_details': {'reasoning': 0}})}\n",
            "{'chunk': AIMessageChunk(content=' This strategy has consistently paid off, as these players bring calm, tactical acumen, and big-match temperament.\\n*   **All-Rounders:** The team heavily relies on a strong core of all-rounders who can contribute with both bat and', additional_kwargs={}, response_metadata={'safety_ratings': []}, id='run--7c9a6e68-a1dd-4a9a-a560-60b92320ba4b', usage_metadata={'input_token_details': {'cache_read': 0}, 'output_tokens': 51, 'input_tokens': 0, 'total_tokens': 51, 'output_token_details': {'reasoning': 0}})}\n",
            "{'chunk': AIMessageChunk(content=' ball, providing flexibility and depth.\\n*   **Home Advantage:** Chepauk is a fortress for CSK. The pitch is typically slow and spin-friendly, which perfectly suits their bowling attack, often featuring multiple quality spinners.\\n*', additional_kwargs={}, response_metadata={'safety_ratings': []}, id='run--7c9a6e68-a1dd-4a9a-a560-60b92320ba4b', usage_metadata={'input_token_details': {'cache_read': 0}, 'output_tokens': 48, 'input_tokens': 0, 'total_tokens': 48, 'output_token_details': {'reasoning': 0}})}\n",
            "{'chunk': AIMessageChunk(content='   **Calm Leadership:** Under MS Dhoni and Stephen Fleming, the team is known for its calm, process-oriented approach. They rarely panic and trust their plans and players.\\n*   **Strong Core:** CSK believes in retaining a core group', additional_kwargs={}, response_metadata={'safety_ratings': []}, id='run--7c9a6e68-a1dd-4a9a-a560-60b92320ba4b', usage_metadata={'input_token_details': {'cache_read': 0}, 'output_tokens': 49, 'input_tokens': 0, 'total_tokens': 49, 'output_token_details': {'reasoning': 0}})}\n",
            "{'chunk': AIMessageChunk(content=' of players for multiple seasons, fostering team cohesion and understanding.\\n\\n**4. Iconic Figures:**\\n\\n*   **MS Dhoni (Captain & \"Thala\"):** The heart and soul of CSK. Dhoni\\'s captaincy, tactical brilliance', additional_kwargs={}, response_metadata={'safety_ratings': []}, id='run--7c9a6e68-a1dd-4a9a-a560-60b92320ba4b', usage_metadata={'input_token_details': {'cache_read': 0}, 'output_tokens': 48, 'input_tokens': 0, 'total_tokens': 48, 'output_token_details': {'reasoning': 0}})}\n",
            "{'chunk': AIMessageChunk(content=', finishing skills, and calm demeanor have been instrumental in the team\\'s success. He is revered as \"Thala\" (leader) by the fans.\\n*   **Suresh Raina (\"Chinna Thala\"):** Often called \"Mr', additional_kwargs={}, response_metadata={'safety_ratings': []}, id='run--7c9a6e68-a1dd-4a9a-a560-60b92320ba4b', usage_metadata={'input_token_details': {'cache_read': 0}, 'output_tokens': 50, 'input_tokens': 0, 'total_tokens': 50, 'output_token_details': {'reasoning': 0}})}\n",
            "{'chunk': AIMessageChunk(content='. IPL\" and \"Chinna Thala\" (junior leader), Raina was a consistent run-scorer and a vital part of CSK\\'s batting lineup for many years.\\n*   **Ravindra Jadeja:** A dynamic all-rounder,', additional_kwargs={}, response_metadata={'safety_ratings': []}, id='run--7c9a6e68-a1dd-4a9a-a560-60b92320ba4b', usage_metadata={'input_token_details': {'cache_read': 0}, 'output_tokens': 49, 'input_tokens': 0, 'total_tokens': 49, 'output_token_details': {'reasoning': 0}})}\n",
            "{'chunk': AIMessageChunk(content=' exceptional fielder, and a key spinner who has been with the team for a long time.\\n*   **Dwayne Bravo:** The West Indian all-rounder was a death-bowling specialist and a powerful lower-order hitter, contributing significantly to', additional_kwargs={}, response_metadata={'safety_ratings': []}, id='run--7c9a6e68-a1dd-4a9a-a560-60b92320ba4b', usage_metadata={'input_token_details': {'cache_read': 0}, 'output_tokens': 50, 'input_tokens': 0, 'total_tokens': 50, 'output_token_details': {'reasoning': 0}})}\n",
            "{'chunk': AIMessageChunk(content=' many victories.\\n*   **Stephen Fleming (Coach):** His long-standing partnership with Dhoni has created a stable and successful management structure.\\n\\n**5. The Ban and Comeback:**\\n\\n*   CSK, along with Rajasthan', additional_kwargs={}, response_metadata={'safety_ratings': []}, id='run--7c9a6e68-a1dd-4a9a-a560-60b92320ba4b', usage_metadata={'input_token_details': {'cache_read': 0}, 'output_tokens': 48, 'input_tokens': 0, 'total_tokens': 48, 'output_token_details': {'reasoning': 0}})}\n",
            "{'chunk': AIMessageChunk(content=' Royals, was suspended for two years (2016 and 2017) due to the involvement of their owners in the 2013 IPL betting scandal.\\n*   Their return in 2018', additional_kwargs={}, response_metadata={'safety_ratings': []}, id='run--7c9a6e68-a1dd-4a9a-a560-60b92320ba4b', usage_metadata={'input_token_details': {'cache_read': 0}, 'output_tokens': 49, 'input_tokens': 0, 'total_tokens': 49, 'output_token_details': {'reasoning': 0}})}\n",
            "{'chunk': AIMessageChunk(content=' was highly anticipated and culminated in a fairytale victory, winning the IPL title against Sunrisers Hyderabad, which further cemented their legendary status and fan loyalty.\\n\\n**6. Fan Base (\"Whistle Podu\"):**\\n\\n*   CSK boasts', additional_kwargs={}, response_metadata={'safety_ratings': []}, id='run--7c9a6e68-a1dd-4a9a-a560-60b92320ba4b', usage_metadata={'input_token_details': {'cache_read': 0}, 'output_tokens': 49, 'input_tokens': 0, 'total_tokens': 49, 'output_token_details': {'reasoning': 0}})}\n",
            "{'chunk': AIMessageChunk(content=' one of the most passionate and loyal fan bases in the IPL, often referred to as the \"Yellow Army.\"\\n*   The \"Whistle Podu\" (Whistle Up!) slogan and anthem are iconic, creating an electrifying atmosphere at their', additional_kwargs={}, response_metadata={'safety_ratings': []}, id='run--7c9a6e68-a1dd-4a9a-a560-60b92320ba4b', usage_metadata={'input_token_details': {'cache_read': 0}, 'output_tokens': 50, 'input_tokens': 0, 'total_tokens': 50, 'output_token_details': {'reasoning': 0}})}\n",
            "{'chunk': AIMessageChunk(content=' home ground and wherever they play. Their fans travel in large numbers, making every match feel like a home game.\\n\\n**7. Overall Legacy:**\\n\\nThe Chennai Super Kings are more than just a cricket team; they are an emotion for', additional_kwargs={}, response_metadata={'safety_ratings': []}, id='run--7c9a6e68-a1dd-4a9a-a560-60b92320ba4b', usage_metadata={'input_token_details': {'cache_read': 0}, 'output_tokens': 48, 'input_tokens': 0, 'total_tokens': 48, 'output_token_details': {'reasoning': 0}})}\n",
            "{'chunk': AIMessageChunk(content=' millions of fans. Their consistent success, the charismatic leadership of MS Dhoni, their unique team philosophy, and their incredible comeback story have made them one of the most beloved and enduring franchises in the history of T20 cricket.', additional_kwargs={}, response_metadata={'finish_reason': 'STOP', 'model_name': 'gemini-2.5-flash', 'safety_ratings': []}, id='run--7c9a6e68-a1dd-4a9a-a560-60b92320ba4b', usage_metadata={'input_token_details': {'cache_read': 0}, 'output_tokens': 46, 'input_tokens': 0, 'total_tokens': 46, 'output_token_details': {'reasoning': 0}})}\n"
          ]
        }
      ]
    },
    {
      "cell_type": "markdown",
      "source": [
        "As you see above, just use the `chunk` key to get the `AIMessageChunk`."
      ],
      "metadata": {
        "id": "Z0eDZZcKNWZF"
      }
    },
    {
      "cell_type": "code",
      "source": [
        "config = {\"configurable\": {\"thread_id\": \"5\"}}\n",
        "input_message = HumanMessage(content=\"Tell me about the CSK IPL team\")\n",
        "async for event in graph.astream_events({\"messages\": [input_message]}, config, version=\"v2\"):\n",
        "    # Get chat model tokens from a particular node\n",
        "    if event[\"event\"] == \"on_chat_model_stream\" and event['metadata'].get('langgraph_node','') == node_to_stream:\n",
        "        data = event[\"data\"]\n",
        "        print(data[\"chunk\"].content, end=\"|\")"
      ],
      "metadata": {
        "colab": {
          "base_uri": "https://localhost:8080/"
        },
        "id": "6LnIdinSNM4w",
        "outputId": "7166f488-1907-416e-f745-5d9e0415c09f"
      },
      "execution_count": 10,
      "outputs": [
        {
          "output_type": "stream",
          "name": "stdout",
          "text": [
            "The Chennai Super Kings (CSK) are one of the most successful and beloved franchises in the Indian Premier League (IPL). Here's a detailed look at the team:\n",
            "\n",
            "**1. Franchise Overview:**\n",
            "\n",
            "*   **Full Name:** Chennai Super| Kings\n",
            "*   **City:** Chennai, Tamil Nadu\n",
            "*   **Owner:** Chennai Super Kings Cricket Ltd. (a subsidiary of India Cements, led by N. Srinivasan)\n",
            "*   **Home Ground:** M. A|. Chidambaram Stadium (Chepauk), Chennai\n",
            "*   **Team Colors:** Primarily yellow, with blue accents.\n",
            "*   **Mascot:** A roaring lion, often associated with the \"Whistle Podu\"| (Whistle Up!) slogan.\n",
            "*   **Captain:** MS Dhoni (since the inception, except for a brief period in 2022 when Ravindra Jadeja captained).\n",
            "*   **Head Coach:** Stephen Fleming (a| long-standing and highly successful partnership with Dhoni).\n",
            "\n",
            "**2. Key Achievements & Records:**\n",
            "\n",
            "*   **IPL Titles:** 5 (2010, 2011, 2018, 202|1, 2023) – Joint-most successful team in IPL history, alongside Mumbai Indians.\n",
            "*   **Champions League T20 Titles:** 2 (2010, 2014)\n",
            "*   |**Consistency:** CSK holds the record for the most playoff appearances (12 out of 14 seasons played) and the most IPL final appearances (10). They have never finished outside the top 4 in any season they've participated| in.\n",
            "\n",
            "**3. Team Philosophy & Playing Style:**\n",
            "\n",
            "*   **Experience Over Youth:** CSK has often been dubbed \"Dad's Army\" due to their preference for experienced players, even those in the twilight of their careers.| This strategy has consistently paid off, as these players bring calm, tactical acumen, and big-match temperament.\n",
            "*   **All-Rounders:** The team heavily relies on a strong core of all-rounders who can contribute with both bat and| ball, providing flexibility and depth.\n",
            "*   **Home Advantage:** Chepauk is a fortress for CSK. The pitch is typically slow and spin-friendly, which perfectly suits their bowling attack, often featuring multiple quality spinners.\n",
            "*|   **Calm Leadership:** Under MS Dhoni and Stephen Fleming, the team is known for its calm, process-oriented approach. They rarely panic and trust their plans and players.\n",
            "*   **Strong Core:** CSK believes in retaining a core group| of players for multiple seasons, fostering team cohesion and understanding.\n",
            "\n",
            "**4. Iconic Figures:**\n",
            "\n",
            "*   **MS Dhoni (Captain & \"Thala\"):** The heart and soul of CSK. Dhoni's captaincy, tactical brilliance|, finishing skills, and calm demeanor have been instrumental in the team's success. He is revered as \"Thala\" (leader) by the fans.\n",
            "*   **Suresh Raina (\"Chinna Thala\"):** Often called \"Mr|. IPL\" and \"Chinna Thala\" (junior leader), Raina was a consistent run-scorer and a vital part of CSK's batting lineup for many years.\n",
            "*   **Ravindra Jadeja:** A dynamic all-rounder,| exceptional fielder, and a key spinner who has been with the team for a long time.\n",
            "*   **Dwayne Bravo:** The West Indian all-rounder was a death-bowling specialist and a powerful lower-order hitter, contributing significantly to| many victories.\n",
            "*   **Stephen Fleming (Coach):** His long-standing partnership with Dhoni has created a stable and successful management structure.\n",
            "\n",
            "**5. The Ban and Comeback:**\n",
            "\n",
            "*   CSK, along with Rajasthan| Royals, was suspended for two years (2016 and 2017) due to the involvement of their owners in the 2013 IPL betting scandal.\n",
            "*   Their return in 2018| was highly anticipated and culminated in a fairytale victory, winning the IPL title against Sunrisers Hyderabad, which further cemented their legendary status and fan loyalty.\n",
            "\n",
            "**6. Fan Base (\"Whistle Podu\"):**\n",
            "\n",
            "*   CSK boasts| one of the most passionate and loyal fan bases in the IPL, often referred to as the \"Yellow Army.\"\n",
            "*   The \"Whistle Podu\" (Whistle Up!) slogan and anthem are iconic, creating an electrifying atmosphere at their| home ground and wherever they play. Their fans travel in large numbers, making every match feel like a home game.\n",
            "\n",
            "**7. Overall Legacy:**\n",
            "\n",
            "The Chennai Super Kings are more than just a cricket team; they are an emotion for| millions of fans. Their consistent success, the charismatic leadership of MS Dhoni, their unique team philosophy, and their incredible comeback story have made them one of the most beloved and enduring franchises in the history of T20 cricket.|"
          ]
        }
      ]
    },
    {
      "cell_type": "markdown",
      "source": [
        "### Streaming with LangGraph API\n",
        "\n",
        "**⚠️ DISCLAIMER**\n",
        "\n",
        "Since the filming of these videos, we've updated Studio so that it can be run locally and opened in your browser. This is now the preferred way to run Studio (rather than using the Desktop App as shown in the video). See documentation [here](https://langchain-ai.github.io/langgraph/concepts/langgraph_studio/#local-development-server) on the local development server and [here](https://langchain-ai.github.io/langgraph/how-tos/local-studio/#run-the-development-server). To start the local development server, run the following command in your terminal in the `/studio` directory in this module:\n",
        "\n",
        "```\n",
        "langgraph dev\n",
        "```\n",
        "\n",
        "You should see the following output:\n",
        "```\n",
        "- 🚀 API: http://127.0.0.1:2024\n",
        "- 🎨 Studio UI: https://smith.langchain.com/studio/?baseUrl=http://127.0.0.1:2024\n",
        "- 📚 API Docs: http://127.0.0.1:2024/docs\n",
        "```\n",
        "\n",
        "Open your browser and navigate to the Studio UI: `https://smith.langchain.com/studio/?baseUrl=http://127.0.0.1:2024`.\n",
        "\n",
        "The LangGraph API [supports editing graph state](https://langchain-ai.github.io/langgraph/cloud/how-tos/human_in_the_loop_edit_state/#initial-invocation)."
      ],
      "metadata": {
        "id": "tqKGeLcxNw8C"
      }
    },
    {
      "cell_type": "code",
      "source": [],
      "metadata": {
        "id": "sd3EizGhNh1y"
      },
      "execution_count": null,
      "outputs": []
    }
  ]
}